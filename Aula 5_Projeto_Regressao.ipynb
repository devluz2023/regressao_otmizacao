{
  "cells": [
    {
      "cell_type": "markdown",
      "metadata": {
        "id": "view-in-github",
        "colab_type": "text"
      },
      "source": [
        "<a href=\"https://colab.research.google.com/github/devluz2023/regressao_otmizacao/blob/main/Aula%205_Projeto_Regressao.ipynb\" target=\"_parent\"><img src=\"https://colab.research.google.com/assets/colab-badge.svg\" alt=\"Open In Colab\"/></a>"
      ]
    },
    {
      "cell_type": "markdown",
      "metadata": {
        "id": "5joGVhddjotb"
      },
      "source": [
        "# Modelo de Regressão"
      ]
    },
    {
      "cell_type": "code",
      "execution_count": 1,
      "metadata": {
        "id": "RmPCUP27joti",
        "outputId": "cc952edb-38a1-452a-eb29-53878aae5b3d",
        "colab": {
          "base_uri": "https://localhost:8080/"
        }
      },
      "outputs": [
        {
          "output_type": "stream",
          "name": "stdout",
          "text": [
            "Cloning into 'regressao_otmizacao'...\n",
            "remote: Enumerating objects: 4, done.\u001b[K\n",
            "remote: Counting objects: 100% (4/4), done.\u001b[K\n",
            "remote: Compressing objects: 100% (4/4), done.\u001b[K\n",
            "remote: Total 4 (delta 0), reused 4 (delta 0), pack-reused 0\u001b[K\n",
            "Receiving objects: 100% (4/4), 3.24 MiB | 9.71 MiB/s, done.\n"
          ]
        }
      ],
      "source": [
        "!git clone https://github.com/devluz2023/regressao_otmizacao.git\n"
      ]
    },
    {
      "cell_type": "code",
      "source": [
        "import pandas as pd\n",
        "import numpy as np"
      ],
      "metadata": {
        "id": "P3w8a_y1-IDr"
      },
      "execution_count": 2,
      "outputs": []
    },
    {
      "cell_type": "code",
      "execution_count": 3,
      "metadata": {
        "colab": {
          "base_uri": "https://localhost:8080/",
          "height": 424
        },
        "id": "QggfzZk1jotk",
        "outputId": "324bd4a0-6b47-4d06-f3ec-6950c12db89c"
      },
      "outputs": [
        {
          "output_type": "execute_result",
          "data": {
            "text/plain": [
              "                                                   ident  \\\n",
              "0      {'customerID': '775564-BOJSMVON', 'source': 'W...   \n",
              "1      {'customerID': '660895-AUENKNYY', 'source': 'W...   \n",
              "2      {'customerID': '751522-JESYFEQL', 'source': 'W...   \n",
              "3      {'customerID': '714052-GAAEWYKS', 'source': 'W...   \n",
              "4      {'customerID': '568886-ZIBFOMCC', 'source': 'W...   \n",
              "...                                                  ...   \n",
              "73610  {'customerID': '134148-MJIBCMDQ', 'source': 'W...   \n",
              "73611  {'customerID': '541465-QBQVXXXZ', 'source': 'W...   \n",
              "73612  {'customerID': '800542-BZREFTQS', 'source': 'W...   \n",
              "73613  {'customerID': '939419-ECGUNTIH', 'source': 'W...   \n",
              "73614  {'customerID': '610503-VULDJJZZ', 'source': 'W...   \n",
              "\n",
              "                                                 listing  \n",
              "0      {'types': {'unit': 'Outros', 'usage': 'Residen...  \n",
              "1      {'types': {'unit': 'Apartamento', 'usage': 'Re...  \n",
              "2      {'types': {'unit': 'Outros', 'usage': 'Residen...  \n",
              "3      {'types': {'unit': 'Outros', 'usage': 'Comerci...  \n",
              "4      {'types': {'unit': 'Apartamento', 'usage': 'Re...  \n",
              "...                                                  ...  \n",
              "73610  {'types': {'unit': 'Casa', 'usage': 'Residenci...  \n",
              "73611  {'types': {'unit': 'Casa', 'usage': 'Residenci...  \n",
              "73612  {'types': {'unit': 'Apartamento', 'usage': 'Re...  \n",
              "73613  {'types': {'unit': 'Casa', 'usage': 'Residenci...  \n",
              "73614  {'types': {'unit': 'Apartamento', 'usage': 'Re...  \n",
              "\n",
              "[73615 rows x 2 columns]"
            ],
            "text/html": [
              "\n",
              "  <div id=\"df-fa270c63-7cfe-46b4-bf09-39f070c66d1f\" class=\"colab-df-container\">\n",
              "    <div>\n",
              "<style scoped>\n",
              "    .dataframe tbody tr th:only-of-type {\n",
              "        vertical-align: middle;\n",
              "    }\n",
              "\n",
              "    .dataframe tbody tr th {\n",
              "        vertical-align: top;\n",
              "    }\n",
              "\n",
              "    .dataframe thead th {\n",
              "        text-align: right;\n",
              "    }\n",
              "</style>\n",
              "<table border=\"1\" class=\"dataframe\">\n",
              "  <thead>\n",
              "    <tr style=\"text-align: right;\">\n",
              "      <th></th>\n",
              "      <th>ident</th>\n",
              "      <th>listing</th>\n",
              "    </tr>\n",
              "  </thead>\n",
              "  <tbody>\n",
              "    <tr>\n",
              "      <th>0</th>\n",
              "      <td>{'customerID': '775564-BOJSMVON', 'source': 'W...</td>\n",
              "      <td>{'types': {'unit': 'Outros', 'usage': 'Residen...</td>\n",
              "    </tr>\n",
              "    <tr>\n",
              "      <th>1</th>\n",
              "      <td>{'customerID': '660895-AUENKNYY', 'source': 'W...</td>\n",
              "      <td>{'types': {'unit': 'Apartamento', 'usage': 'Re...</td>\n",
              "    </tr>\n",
              "    <tr>\n",
              "      <th>2</th>\n",
              "      <td>{'customerID': '751522-JESYFEQL', 'source': 'W...</td>\n",
              "      <td>{'types': {'unit': 'Outros', 'usage': 'Residen...</td>\n",
              "    </tr>\n",
              "    <tr>\n",
              "      <th>3</th>\n",
              "      <td>{'customerID': '714052-GAAEWYKS', 'source': 'W...</td>\n",
              "      <td>{'types': {'unit': 'Outros', 'usage': 'Comerci...</td>\n",
              "    </tr>\n",
              "    <tr>\n",
              "      <th>4</th>\n",
              "      <td>{'customerID': '568886-ZIBFOMCC', 'source': 'W...</td>\n",
              "      <td>{'types': {'unit': 'Apartamento', 'usage': 'Re...</td>\n",
              "    </tr>\n",
              "    <tr>\n",
              "      <th>...</th>\n",
              "      <td>...</td>\n",
              "      <td>...</td>\n",
              "    </tr>\n",
              "    <tr>\n",
              "      <th>73610</th>\n",
              "      <td>{'customerID': '134148-MJIBCMDQ', 'source': 'W...</td>\n",
              "      <td>{'types': {'unit': 'Casa', 'usage': 'Residenci...</td>\n",
              "    </tr>\n",
              "    <tr>\n",
              "      <th>73611</th>\n",
              "      <td>{'customerID': '541465-QBQVXXXZ', 'source': 'W...</td>\n",
              "      <td>{'types': {'unit': 'Casa', 'usage': 'Residenci...</td>\n",
              "    </tr>\n",
              "    <tr>\n",
              "      <th>73612</th>\n",
              "      <td>{'customerID': '800542-BZREFTQS', 'source': 'W...</td>\n",
              "      <td>{'types': {'unit': 'Apartamento', 'usage': 'Re...</td>\n",
              "    </tr>\n",
              "    <tr>\n",
              "      <th>73613</th>\n",
              "      <td>{'customerID': '939419-ECGUNTIH', 'source': 'W...</td>\n",
              "      <td>{'types': {'unit': 'Casa', 'usage': 'Residenci...</td>\n",
              "    </tr>\n",
              "    <tr>\n",
              "      <th>73614</th>\n",
              "      <td>{'customerID': '610503-VULDJJZZ', 'source': 'W...</td>\n",
              "      <td>{'types': {'unit': 'Apartamento', 'usage': 'Re...</td>\n",
              "    </tr>\n",
              "  </tbody>\n",
              "</table>\n",
              "<p>73615 rows × 2 columns</p>\n",
              "</div>\n",
              "    <div class=\"colab-df-buttons\">\n",
              "\n",
              "  <div class=\"colab-df-container\">\n",
              "    <button class=\"colab-df-convert\" onclick=\"convertToInteractive('df-fa270c63-7cfe-46b4-bf09-39f070c66d1f')\"\n",
              "            title=\"Convert this dataframe to an interactive table.\"\n",
              "            style=\"display:none;\">\n",
              "\n",
              "  <svg xmlns=\"http://www.w3.org/2000/svg\" height=\"24px\" viewBox=\"0 -960 960 960\">\n",
              "    <path d=\"M120-120v-720h720v720H120Zm60-500h600v-160H180v160Zm220 220h160v-160H400v160Zm0 220h160v-160H400v160ZM180-400h160v-160H180v160Zm440 0h160v-160H620v160ZM180-180h160v-160H180v160Zm440 0h160v-160H620v160Z\"/>\n",
              "  </svg>\n",
              "    </button>\n",
              "\n",
              "  <style>\n",
              "    .colab-df-container {\n",
              "      display:flex;\n",
              "      gap: 12px;\n",
              "    }\n",
              "\n",
              "    .colab-df-convert {\n",
              "      background-color: #E8F0FE;\n",
              "      border: none;\n",
              "      border-radius: 50%;\n",
              "      cursor: pointer;\n",
              "      display: none;\n",
              "      fill: #1967D2;\n",
              "      height: 32px;\n",
              "      padding: 0 0 0 0;\n",
              "      width: 32px;\n",
              "    }\n",
              "\n",
              "    .colab-df-convert:hover {\n",
              "      background-color: #E2EBFA;\n",
              "      box-shadow: 0px 1px 2px rgba(60, 64, 67, 0.3), 0px 1px 3px 1px rgba(60, 64, 67, 0.15);\n",
              "      fill: #174EA6;\n",
              "    }\n",
              "\n",
              "    .colab-df-buttons div {\n",
              "      margin-bottom: 4px;\n",
              "    }\n",
              "\n",
              "    [theme=dark] .colab-df-convert {\n",
              "      background-color: #3B4455;\n",
              "      fill: #D2E3FC;\n",
              "    }\n",
              "\n",
              "    [theme=dark] .colab-df-convert:hover {\n",
              "      background-color: #434B5C;\n",
              "      box-shadow: 0px 1px 3px 1px rgba(0, 0, 0, 0.15);\n",
              "      filter: drop-shadow(0px 1px 2px rgba(0, 0, 0, 0.3));\n",
              "      fill: #FFFFFF;\n",
              "    }\n",
              "  </style>\n",
              "\n",
              "    <script>\n",
              "      const buttonEl =\n",
              "        document.querySelector('#df-fa270c63-7cfe-46b4-bf09-39f070c66d1f button.colab-df-convert');\n",
              "      buttonEl.style.display =\n",
              "        google.colab.kernel.accessAllowed ? 'block' : 'none';\n",
              "\n",
              "      async function convertToInteractive(key) {\n",
              "        const element = document.querySelector('#df-fa270c63-7cfe-46b4-bf09-39f070c66d1f');\n",
              "        const dataTable =\n",
              "          await google.colab.kernel.invokeFunction('convertToInteractive',\n",
              "                                                    [key], {});\n",
              "        if (!dataTable) return;\n",
              "\n",
              "        const docLinkHtml = 'Like what you see? Visit the ' +\n",
              "          '<a target=\"_blank\" href=https://colab.research.google.com/notebooks/data_table.ipynb>data table notebook</a>'\n",
              "          + ' to learn more about interactive tables.';\n",
              "        element.innerHTML = '';\n",
              "        dataTable['output_type'] = 'display_data';\n",
              "        await google.colab.output.renderOutput(dataTable, element);\n",
              "        const docLink = document.createElement('div');\n",
              "        docLink.innerHTML = docLinkHtml;\n",
              "        element.appendChild(docLink);\n",
              "      }\n",
              "    </script>\n",
              "  </div>\n",
              "\n",
              "\n",
              "<div id=\"df-4ccf47fe-c3b1-4c62-bb94-5f197cd76ddb\">\n",
              "  <button class=\"colab-df-quickchart\" onclick=\"quickchart('df-4ccf47fe-c3b1-4c62-bb94-5f197cd76ddb')\"\n",
              "            title=\"Suggest charts\"\n",
              "            style=\"display:none;\">\n",
              "\n",
              "<svg xmlns=\"http://www.w3.org/2000/svg\" height=\"24px\"viewBox=\"0 0 24 24\"\n",
              "     width=\"24px\">\n",
              "    <g>\n",
              "        <path d=\"M19 3H5c-1.1 0-2 .9-2 2v14c0 1.1.9 2 2 2h14c1.1 0 2-.9 2-2V5c0-1.1-.9-2-2-2zM9 17H7v-7h2v7zm4 0h-2V7h2v10zm4 0h-2v-4h2v4z\"/>\n",
              "    </g>\n",
              "</svg>\n",
              "  </button>\n",
              "\n",
              "<style>\n",
              "  .colab-df-quickchart {\n",
              "      --bg-color: #E8F0FE;\n",
              "      --fill-color: #1967D2;\n",
              "      --hover-bg-color: #E2EBFA;\n",
              "      --hover-fill-color: #174EA6;\n",
              "      --disabled-fill-color: #AAA;\n",
              "      --disabled-bg-color: #DDD;\n",
              "  }\n",
              "\n",
              "  [theme=dark] .colab-df-quickchart {\n",
              "      --bg-color: #3B4455;\n",
              "      --fill-color: #D2E3FC;\n",
              "      --hover-bg-color: #434B5C;\n",
              "      --hover-fill-color: #FFFFFF;\n",
              "      --disabled-bg-color: #3B4455;\n",
              "      --disabled-fill-color: #666;\n",
              "  }\n",
              "\n",
              "  .colab-df-quickchart {\n",
              "    background-color: var(--bg-color);\n",
              "    border: none;\n",
              "    border-radius: 50%;\n",
              "    cursor: pointer;\n",
              "    display: none;\n",
              "    fill: var(--fill-color);\n",
              "    height: 32px;\n",
              "    padding: 0;\n",
              "    width: 32px;\n",
              "  }\n",
              "\n",
              "  .colab-df-quickchart:hover {\n",
              "    background-color: var(--hover-bg-color);\n",
              "    box-shadow: 0 1px 2px rgba(60, 64, 67, 0.3), 0 1px 3px 1px rgba(60, 64, 67, 0.15);\n",
              "    fill: var(--button-hover-fill-color);\n",
              "  }\n",
              "\n",
              "  .colab-df-quickchart-complete:disabled,\n",
              "  .colab-df-quickchart-complete:disabled:hover {\n",
              "    background-color: var(--disabled-bg-color);\n",
              "    fill: var(--disabled-fill-color);\n",
              "    box-shadow: none;\n",
              "  }\n",
              "\n",
              "  .colab-df-spinner {\n",
              "    border: 2px solid var(--fill-color);\n",
              "    border-color: transparent;\n",
              "    border-bottom-color: var(--fill-color);\n",
              "    animation:\n",
              "      spin 1s steps(1) infinite;\n",
              "  }\n",
              "\n",
              "  @keyframes spin {\n",
              "    0% {\n",
              "      border-color: transparent;\n",
              "      border-bottom-color: var(--fill-color);\n",
              "      border-left-color: var(--fill-color);\n",
              "    }\n",
              "    20% {\n",
              "      border-color: transparent;\n",
              "      border-left-color: var(--fill-color);\n",
              "      border-top-color: var(--fill-color);\n",
              "    }\n",
              "    30% {\n",
              "      border-color: transparent;\n",
              "      border-left-color: var(--fill-color);\n",
              "      border-top-color: var(--fill-color);\n",
              "      border-right-color: var(--fill-color);\n",
              "    }\n",
              "    40% {\n",
              "      border-color: transparent;\n",
              "      border-right-color: var(--fill-color);\n",
              "      border-top-color: var(--fill-color);\n",
              "    }\n",
              "    60% {\n",
              "      border-color: transparent;\n",
              "      border-right-color: var(--fill-color);\n",
              "    }\n",
              "    80% {\n",
              "      border-color: transparent;\n",
              "      border-right-color: var(--fill-color);\n",
              "      border-bottom-color: var(--fill-color);\n",
              "    }\n",
              "    90% {\n",
              "      border-color: transparent;\n",
              "      border-bottom-color: var(--fill-color);\n",
              "    }\n",
              "  }\n",
              "</style>\n",
              "\n",
              "  <script>\n",
              "    async function quickchart(key) {\n",
              "      const quickchartButtonEl =\n",
              "        document.querySelector('#' + key + ' button');\n",
              "      quickchartButtonEl.disabled = true;  // To prevent multiple clicks.\n",
              "      quickchartButtonEl.classList.add('colab-df-spinner');\n",
              "      try {\n",
              "        const charts = await google.colab.kernel.invokeFunction(\n",
              "            'suggestCharts', [key], {});\n",
              "      } catch (error) {\n",
              "        console.error('Error during call to suggestCharts:', error);\n",
              "      }\n",
              "      quickchartButtonEl.classList.remove('colab-df-spinner');\n",
              "      quickchartButtonEl.classList.add('colab-df-quickchart-complete');\n",
              "    }\n",
              "    (() => {\n",
              "      let quickchartButtonEl =\n",
              "        document.querySelector('#df-4ccf47fe-c3b1-4c62-bb94-5f197cd76ddb button');\n",
              "      quickchartButtonEl.style.display =\n",
              "        google.colab.kernel.accessAllowed ? 'block' : 'none';\n",
              "    })();\n",
              "  </script>\n",
              "</div>\n",
              "\n",
              "  <div id=\"id_2716446d-5449-485b-b382-b3f256480df1\">\n",
              "    <style>\n",
              "      .colab-df-generate {\n",
              "        background-color: #E8F0FE;\n",
              "        border: none;\n",
              "        border-radius: 50%;\n",
              "        cursor: pointer;\n",
              "        display: none;\n",
              "        fill: #1967D2;\n",
              "        height: 32px;\n",
              "        padding: 0 0 0 0;\n",
              "        width: 32px;\n",
              "      }\n",
              "\n",
              "      .colab-df-generate:hover {\n",
              "        background-color: #E2EBFA;\n",
              "        box-shadow: 0px 1px 2px rgba(60, 64, 67, 0.3), 0px 1px 3px 1px rgba(60, 64, 67, 0.15);\n",
              "        fill: #174EA6;\n",
              "      }\n",
              "\n",
              "      [theme=dark] .colab-df-generate {\n",
              "        background-color: #3B4455;\n",
              "        fill: #D2E3FC;\n",
              "      }\n",
              "\n",
              "      [theme=dark] .colab-df-generate:hover {\n",
              "        background-color: #434B5C;\n",
              "        box-shadow: 0px 1px 3px 1px rgba(0, 0, 0, 0.15);\n",
              "        filter: drop-shadow(0px 1px 2px rgba(0, 0, 0, 0.3));\n",
              "        fill: #FFFFFF;\n",
              "      }\n",
              "    </style>\n",
              "    <button class=\"colab-df-generate\" onclick=\"generateWithVariable('dados')\"\n",
              "            title=\"Generate code using this dataframe.\"\n",
              "            style=\"display:none;\">\n",
              "\n",
              "  <svg xmlns=\"http://www.w3.org/2000/svg\" height=\"24px\"viewBox=\"0 0 24 24\"\n",
              "       width=\"24px\">\n",
              "    <path d=\"M7,19H8.4L18.45,9,17,7.55,7,17.6ZM5,21V16.75L18.45,3.32a2,2,0,0,1,2.83,0l1.4,1.43a1.91,1.91,0,0,1,.58,1.4,1.91,1.91,0,0,1-.58,1.4L9.25,21ZM18.45,9,17,7.55Zm-12,3A5.31,5.31,0,0,0,4.9,8.1,5.31,5.31,0,0,0,1,6.5,5.31,5.31,0,0,0,4.9,4.9,5.31,5.31,0,0,0,6.5,1,5.31,5.31,0,0,0,8.1,4.9,5.31,5.31,0,0,0,12,6.5,5.46,5.46,0,0,0,6.5,12Z\"/>\n",
              "  </svg>\n",
              "    </button>\n",
              "    <script>\n",
              "      (() => {\n",
              "      const buttonEl =\n",
              "        document.querySelector('#id_2716446d-5449-485b-b382-b3f256480df1 button.colab-df-generate');\n",
              "      buttonEl.style.display =\n",
              "        google.colab.kernel.accessAllowed ? 'block' : 'none';\n",
              "\n",
              "      buttonEl.onclick = () => {\n",
              "        google.colab.notebook.generateWithVariable('dados');\n",
              "      }\n",
              "      })();\n",
              "    </script>\n",
              "  </div>\n",
              "\n",
              "    </div>\n",
              "  </div>\n"
            ]
          },
          "metadata": {},
          "execution_count": 3
        }
      ],
      "source": [
        "dados = pd.read_json(\n",
        "    path_or_buf= 'regressao_otmizacao/imoveis.json',\n",
        "    orient='columns'\n",
        ")\n",
        "\n",
        "dados"
      ]
    },
    {
      "cell_type": "markdown",
      "metadata": {
        "id": "ummedWUBjotl"
      },
      "source": [
        "### Explorar as informações"
      ]
    },
    {
      "cell_type": "code",
      "execution_count": 4,
      "metadata": {
        "colab": {
          "base_uri": "https://localhost:8080/"
        },
        "id": "EO8_JLNzjotm",
        "outputId": "f35e576f-1ddb-4297-d779-bd357a1dd88e"
      },
      "outputs": [
        {
          "output_type": "execute_result",
          "data": {
            "text/plain": [
              "{'customerID': '775564-BOJSMVON', 'source': 'Website'}"
            ]
          },
          "metadata": {},
          "execution_count": 4
        }
      ],
      "source": [
        "dados.ident[0]"
      ]
    },
    {
      "cell_type": "code",
      "execution_count": 5,
      "metadata": {
        "colab": {
          "base_uri": "https://localhost:8080/"
        },
        "id": "P7kRk0zljotm",
        "outputId": "8d259807-6da0-49a3-c5a9-3ee61fc29680"
      },
      "outputs": [
        {
          "output_type": "execute_result",
          "data": {
            "text/plain": [
              "{'types': {'unit': 'Outros', 'usage': 'Residencial'},\n",
              " 'address': {'city': 'Rio de Janeiro',\n",
              "  'location': {'lon': -43.413557, 'lat': -22.909429},\n",
              "  'zone': 'Zona Oeste',\n",
              "  'neighborhood': 'Taquara'},\n",
              " 'prices': {'price': '45000', 'tax': {'iptu': '0', 'condo': '150'}},\n",
              " 'features': {'bedrooms': 0,\n",
              "  'bathrooms': 0,\n",
              "  'suites': 0,\n",
              "  'parkingSpaces': 1,\n",
              "  'usableAreas': '62',\n",
              "  'totalAreas': '62',\n",
              "  'floors': 0,\n",
              "  'unitsOnTheFloor': 0,\n",
              "  'unitFloor': 0}}"
            ]
          },
          "metadata": {},
          "execution_count": 5
        }
      ],
      "source": [
        "dados.listing[0]"
      ]
    },
    {
      "cell_type": "markdown",
      "metadata": {
        "id": "i0ajVKZfjotn"
      },
      "source": [
        "## 1.3 Tratamento de dados inicial"
      ]
    },
    {
      "cell_type": "markdown",
      "metadata": {
        "id": "SNlALwsLjoto"
      },
      "source": [
        "### Normalização"
      ]
    },
    {
      "cell_type": "code",
      "execution_count": 6,
      "metadata": {
        "colab": {
          "base_uri": "https://localhost:8080/",
          "height": 206
        },
        "id": "_FhPQDBbjotp",
        "outputId": "a9eb3ee2-f15a-43ee-a8ca-a2b10111874c"
      },
      "outputs": [
        {
          "output_type": "execute_result",
          "data": {
            "text/plain": [
              "        customerID   source\n",
              "0  775564-BOJSMVON  Website\n",
              "1  660895-AUENKNYY  Website\n",
              "2  751522-JESYFEQL  Website\n",
              "3  714052-GAAEWYKS  Website\n",
              "4  568886-ZIBFOMCC  Website"
            ],
            "text/html": [
              "\n",
              "  <div id=\"df-c7169924-1773-4ea1-8b82-6b45a7035e9a\" class=\"colab-df-container\">\n",
              "    <div>\n",
              "<style scoped>\n",
              "    .dataframe tbody tr th:only-of-type {\n",
              "        vertical-align: middle;\n",
              "    }\n",
              "\n",
              "    .dataframe tbody tr th {\n",
              "        vertical-align: top;\n",
              "    }\n",
              "\n",
              "    .dataframe thead th {\n",
              "        text-align: right;\n",
              "    }\n",
              "</style>\n",
              "<table border=\"1\" class=\"dataframe\">\n",
              "  <thead>\n",
              "    <tr style=\"text-align: right;\">\n",
              "      <th></th>\n",
              "      <th>customerID</th>\n",
              "      <th>source</th>\n",
              "    </tr>\n",
              "  </thead>\n",
              "  <tbody>\n",
              "    <tr>\n",
              "      <th>0</th>\n",
              "      <td>775564-BOJSMVON</td>\n",
              "      <td>Website</td>\n",
              "    </tr>\n",
              "    <tr>\n",
              "      <th>1</th>\n",
              "      <td>660895-AUENKNYY</td>\n",
              "      <td>Website</td>\n",
              "    </tr>\n",
              "    <tr>\n",
              "      <th>2</th>\n",
              "      <td>751522-JESYFEQL</td>\n",
              "      <td>Website</td>\n",
              "    </tr>\n",
              "    <tr>\n",
              "      <th>3</th>\n",
              "      <td>714052-GAAEWYKS</td>\n",
              "      <td>Website</td>\n",
              "    </tr>\n",
              "    <tr>\n",
              "      <th>4</th>\n",
              "      <td>568886-ZIBFOMCC</td>\n",
              "      <td>Website</td>\n",
              "    </tr>\n",
              "  </tbody>\n",
              "</table>\n",
              "</div>\n",
              "    <div class=\"colab-df-buttons\">\n",
              "\n",
              "  <div class=\"colab-df-container\">\n",
              "    <button class=\"colab-df-convert\" onclick=\"convertToInteractive('df-c7169924-1773-4ea1-8b82-6b45a7035e9a')\"\n",
              "            title=\"Convert this dataframe to an interactive table.\"\n",
              "            style=\"display:none;\">\n",
              "\n",
              "  <svg xmlns=\"http://www.w3.org/2000/svg\" height=\"24px\" viewBox=\"0 -960 960 960\">\n",
              "    <path d=\"M120-120v-720h720v720H120Zm60-500h600v-160H180v160Zm220 220h160v-160H400v160Zm0 220h160v-160H400v160ZM180-400h160v-160H180v160Zm440 0h160v-160H620v160ZM180-180h160v-160H180v160Zm440 0h160v-160H620v160Z\"/>\n",
              "  </svg>\n",
              "    </button>\n",
              "\n",
              "  <style>\n",
              "    .colab-df-container {\n",
              "      display:flex;\n",
              "      gap: 12px;\n",
              "    }\n",
              "\n",
              "    .colab-df-convert {\n",
              "      background-color: #E8F0FE;\n",
              "      border: none;\n",
              "      border-radius: 50%;\n",
              "      cursor: pointer;\n",
              "      display: none;\n",
              "      fill: #1967D2;\n",
              "      height: 32px;\n",
              "      padding: 0 0 0 0;\n",
              "      width: 32px;\n",
              "    }\n",
              "\n",
              "    .colab-df-convert:hover {\n",
              "      background-color: #E2EBFA;\n",
              "      box-shadow: 0px 1px 2px rgba(60, 64, 67, 0.3), 0px 1px 3px 1px rgba(60, 64, 67, 0.15);\n",
              "      fill: #174EA6;\n",
              "    }\n",
              "\n",
              "    .colab-df-buttons div {\n",
              "      margin-bottom: 4px;\n",
              "    }\n",
              "\n",
              "    [theme=dark] .colab-df-convert {\n",
              "      background-color: #3B4455;\n",
              "      fill: #D2E3FC;\n",
              "    }\n",
              "\n",
              "    [theme=dark] .colab-df-convert:hover {\n",
              "      background-color: #434B5C;\n",
              "      box-shadow: 0px 1px 3px 1px rgba(0, 0, 0, 0.15);\n",
              "      filter: drop-shadow(0px 1px 2px rgba(0, 0, 0, 0.3));\n",
              "      fill: #FFFFFF;\n",
              "    }\n",
              "  </style>\n",
              "\n",
              "    <script>\n",
              "      const buttonEl =\n",
              "        document.querySelector('#df-c7169924-1773-4ea1-8b82-6b45a7035e9a button.colab-df-convert');\n",
              "      buttonEl.style.display =\n",
              "        google.colab.kernel.accessAllowed ? 'block' : 'none';\n",
              "\n",
              "      async function convertToInteractive(key) {\n",
              "        const element = document.querySelector('#df-c7169924-1773-4ea1-8b82-6b45a7035e9a');\n",
              "        const dataTable =\n",
              "          await google.colab.kernel.invokeFunction('convertToInteractive',\n",
              "                                                    [key], {});\n",
              "        if (!dataTable) return;\n",
              "\n",
              "        const docLinkHtml = 'Like what you see? Visit the ' +\n",
              "          '<a target=\"_blank\" href=https://colab.research.google.com/notebooks/data_table.ipynb>data table notebook</a>'\n",
              "          + ' to learn more about interactive tables.';\n",
              "        element.innerHTML = '';\n",
              "        dataTable['output_type'] = 'display_data';\n",
              "        await google.colab.output.renderOutput(dataTable, element);\n",
              "        const docLink = document.createElement('div');\n",
              "        docLink.innerHTML = docLinkHtml;\n",
              "        element.appendChild(docLink);\n",
              "      }\n",
              "    </script>\n",
              "  </div>\n",
              "\n",
              "\n",
              "<div id=\"df-dafe369c-7cc0-415e-b5f5-52160380a3af\">\n",
              "  <button class=\"colab-df-quickchart\" onclick=\"quickchart('df-dafe369c-7cc0-415e-b5f5-52160380a3af')\"\n",
              "            title=\"Suggest charts\"\n",
              "            style=\"display:none;\">\n",
              "\n",
              "<svg xmlns=\"http://www.w3.org/2000/svg\" height=\"24px\"viewBox=\"0 0 24 24\"\n",
              "     width=\"24px\">\n",
              "    <g>\n",
              "        <path d=\"M19 3H5c-1.1 0-2 .9-2 2v14c0 1.1.9 2 2 2h14c1.1 0 2-.9 2-2V5c0-1.1-.9-2-2-2zM9 17H7v-7h2v7zm4 0h-2V7h2v10zm4 0h-2v-4h2v4z\"/>\n",
              "    </g>\n",
              "</svg>\n",
              "  </button>\n",
              "\n",
              "<style>\n",
              "  .colab-df-quickchart {\n",
              "      --bg-color: #E8F0FE;\n",
              "      --fill-color: #1967D2;\n",
              "      --hover-bg-color: #E2EBFA;\n",
              "      --hover-fill-color: #174EA6;\n",
              "      --disabled-fill-color: #AAA;\n",
              "      --disabled-bg-color: #DDD;\n",
              "  }\n",
              "\n",
              "  [theme=dark] .colab-df-quickchart {\n",
              "      --bg-color: #3B4455;\n",
              "      --fill-color: #D2E3FC;\n",
              "      --hover-bg-color: #434B5C;\n",
              "      --hover-fill-color: #FFFFFF;\n",
              "      --disabled-bg-color: #3B4455;\n",
              "      --disabled-fill-color: #666;\n",
              "  }\n",
              "\n",
              "  .colab-df-quickchart {\n",
              "    background-color: var(--bg-color);\n",
              "    border: none;\n",
              "    border-radius: 50%;\n",
              "    cursor: pointer;\n",
              "    display: none;\n",
              "    fill: var(--fill-color);\n",
              "    height: 32px;\n",
              "    padding: 0;\n",
              "    width: 32px;\n",
              "  }\n",
              "\n",
              "  .colab-df-quickchart:hover {\n",
              "    background-color: var(--hover-bg-color);\n",
              "    box-shadow: 0 1px 2px rgba(60, 64, 67, 0.3), 0 1px 3px 1px rgba(60, 64, 67, 0.15);\n",
              "    fill: var(--button-hover-fill-color);\n",
              "  }\n",
              "\n",
              "  .colab-df-quickchart-complete:disabled,\n",
              "  .colab-df-quickchart-complete:disabled:hover {\n",
              "    background-color: var(--disabled-bg-color);\n",
              "    fill: var(--disabled-fill-color);\n",
              "    box-shadow: none;\n",
              "  }\n",
              "\n",
              "  .colab-df-spinner {\n",
              "    border: 2px solid var(--fill-color);\n",
              "    border-color: transparent;\n",
              "    border-bottom-color: var(--fill-color);\n",
              "    animation:\n",
              "      spin 1s steps(1) infinite;\n",
              "  }\n",
              "\n",
              "  @keyframes spin {\n",
              "    0% {\n",
              "      border-color: transparent;\n",
              "      border-bottom-color: var(--fill-color);\n",
              "      border-left-color: var(--fill-color);\n",
              "    }\n",
              "    20% {\n",
              "      border-color: transparent;\n",
              "      border-left-color: var(--fill-color);\n",
              "      border-top-color: var(--fill-color);\n",
              "    }\n",
              "    30% {\n",
              "      border-color: transparent;\n",
              "      border-left-color: var(--fill-color);\n",
              "      border-top-color: var(--fill-color);\n",
              "      border-right-color: var(--fill-color);\n",
              "    }\n",
              "    40% {\n",
              "      border-color: transparent;\n",
              "      border-right-color: var(--fill-color);\n",
              "      border-top-color: var(--fill-color);\n",
              "    }\n",
              "    60% {\n",
              "      border-color: transparent;\n",
              "      border-right-color: var(--fill-color);\n",
              "    }\n",
              "    80% {\n",
              "      border-color: transparent;\n",
              "      border-right-color: var(--fill-color);\n",
              "      border-bottom-color: var(--fill-color);\n",
              "    }\n",
              "    90% {\n",
              "      border-color: transparent;\n",
              "      border-bottom-color: var(--fill-color);\n",
              "    }\n",
              "  }\n",
              "</style>\n",
              "\n",
              "  <script>\n",
              "    async function quickchart(key) {\n",
              "      const quickchartButtonEl =\n",
              "        document.querySelector('#' + key + ' button');\n",
              "      quickchartButtonEl.disabled = true;  // To prevent multiple clicks.\n",
              "      quickchartButtonEl.classList.add('colab-df-spinner');\n",
              "      try {\n",
              "        const charts = await google.colab.kernel.invokeFunction(\n",
              "            'suggestCharts', [key], {});\n",
              "      } catch (error) {\n",
              "        console.error('Error during call to suggestCharts:', error);\n",
              "      }\n",
              "      quickchartButtonEl.classList.remove('colab-df-spinner');\n",
              "      quickchartButtonEl.classList.add('colab-df-quickchart-complete');\n",
              "    }\n",
              "    (() => {\n",
              "      let quickchartButtonEl =\n",
              "        document.querySelector('#df-dafe369c-7cc0-415e-b5f5-52160380a3af button');\n",
              "      quickchartButtonEl.style.display =\n",
              "        google.colab.kernel.accessAllowed ? 'block' : 'none';\n",
              "    })();\n",
              "  </script>\n",
              "</div>\n",
              "\n",
              "    </div>\n",
              "  </div>\n"
            ]
          },
          "metadata": {},
          "execution_count": 6
        }
      ],
      "source": [
        "dados_lista1 = pd.json_normalize(dados.ident)\n",
        "dados_lista1.head()"
      ]
    },
    {
      "cell_type": "code",
      "execution_count": 7,
      "metadata": {
        "colab": {
          "base_uri": "https://localhost:8080/",
          "height": 226
        },
        "id": "p7UnhrX9jotp",
        "outputId": "dd47855a-4707-4b96-f5fd-c7f1b59ecdb7"
      },
      "outputs": [
        {
          "output_type": "execute_result",
          "data": {
            "text/plain": [
              "    types_unit  types_usage    address_city  address_location_lon  \\\n",
              "0       Outros  Residencial  Rio de Janeiro            -43.413557   \n",
              "1  Apartamento  Residencial  Rio de Janeiro            -43.509141   \n",
              "2       Outros  Residencial  Rio de Janeiro            -43.646786   \n",
              "3       Outros    Comercial  Rio de Janeiro            -43.330818   \n",
              "4  Apartamento  Residencial  Rio de Janeiro            -43.480742   \n",
              "\n",
              "   address_location_lat address_zone      address_neighborhood prices_price  \\\n",
              "0            -22.909429   Zona Oeste                   Taquara        45000   \n",
              "1            -22.869698   Zona Oeste                Santíssimo        45000   \n",
              "2            -22.986927   Zona Oeste        Pedra de Guaratiba        50000   \n",
              "3            -22.881977   Zona Norte                 Cascadura        45000   \n",
              "4            -23.027653   Zona Oeste  Recreio dos Bandeirantes        50000   \n",
              "\n",
              "  prices_tax_iptu prices_tax_condo  features_bedrooms  features_bathrooms  \\\n",
              "0               0              150                  0                   0   \n",
              "1               0              120                  2                   1   \n",
              "2               0              100                  0                   0   \n",
              "3             346              468                  0                   1   \n",
              "4             120              400                  3                   2   \n",
              "\n",
              "   features_suites  features_parkingSpaces features_usableAreas  \\\n",
              "0                0                       1                   62   \n",
              "1                0                       1                   44   \n",
              "2                0                       0                  132   \n",
              "3                0                       0                   32   \n",
              "4                1                       1                   60   \n",
              "\n",
              "  features_totalAreas  features_floors  features_unitsOnTheFloor  \\\n",
              "0                  62                0                         0   \n",
              "1                   0                0                         0   \n",
              "2                 132                0                         0   \n",
              "3                  32                0                         0   \n",
              "4                   0                3                         4   \n",
              "\n",
              "   features_unitFloor  \n",
              "0                   0  \n",
              "1                   0  \n",
              "2                   0  \n",
              "3                   3  \n",
              "4                   2  "
            ],
            "text/html": [
              "\n",
              "  <div id=\"df-1f1075bc-eb89-46d9-8f28-a6bebe760d63\" class=\"colab-df-container\">\n",
              "    <div>\n",
              "<style scoped>\n",
              "    .dataframe tbody tr th:only-of-type {\n",
              "        vertical-align: middle;\n",
              "    }\n",
              "\n",
              "    .dataframe tbody tr th {\n",
              "        vertical-align: top;\n",
              "    }\n",
              "\n",
              "    .dataframe thead th {\n",
              "        text-align: right;\n",
              "    }\n",
              "</style>\n",
              "<table border=\"1\" class=\"dataframe\">\n",
              "  <thead>\n",
              "    <tr style=\"text-align: right;\">\n",
              "      <th></th>\n",
              "      <th>types_unit</th>\n",
              "      <th>types_usage</th>\n",
              "      <th>address_city</th>\n",
              "      <th>address_location_lon</th>\n",
              "      <th>address_location_lat</th>\n",
              "      <th>address_zone</th>\n",
              "      <th>address_neighborhood</th>\n",
              "      <th>prices_price</th>\n",
              "      <th>prices_tax_iptu</th>\n",
              "      <th>prices_tax_condo</th>\n",
              "      <th>features_bedrooms</th>\n",
              "      <th>features_bathrooms</th>\n",
              "      <th>features_suites</th>\n",
              "      <th>features_parkingSpaces</th>\n",
              "      <th>features_usableAreas</th>\n",
              "      <th>features_totalAreas</th>\n",
              "      <th>features_floors</th>\n",
              "      <th>features_unitsOnTheFloor</th>\n",
              "      <th>features_unitFloor</th>\n",
              "    </tr>\n",
              "  </thead>\n",
              "  <tbody>\n",
              "    <tr>\n",
              "      <th>0</th>\n",
              "      <td>Outros</td>\n",
              "      <td>Residencial</td>\n",
              "      <td>Rio de Janeiro</td>\n",
              "      <td>-43.413557</td>\n",
              "      <td>-22.909429</td>\n",
              "      <td>Zona Oeste</td>\n",
              "      <td>Taquara</td>\n",
              "      <td>45000</td>\n",
              "      <td>0</td>\n",
              "      <td>150</td>\n",
              "      <td>0</td>\n",
              "      <td>0</td>\n",
              "      <td>0</td>\n",
              "      <td>1</td>\n",
              "      <td>62</td>\n",
              "      <td>62</td>\n",
              "      <td>0</td>\n",
              "      <td>0</td>\n",
              "      <td>0</td>\n",
              "    </tr>\n",
              "    <tr>\n",
              "      <th>1</th>\n",
              "      <td>Apartamento</td>\n",
              "      <td>Residencial</td>\n",
              "      <td>Rio de Janeiro</td>\n",
              "      <td>-43.509141</td>\n",
              "      <td>-22.869698</td>\n",
              "      <td>Zona Oeste</td>\n",
              "      <td>Santíssimo</td>\n",
              "      <td>45000</td>\n",
              "      <td>0</td>\n",
              "      <td>120</td>\n",
              "      <td>2</td>\n",
              "      <td>1</td>\n",
              "      <td>0</td>\n",
              "      <td>1</td>\n",
              "      <td>44</td>\n",
              "      <td>0</td>\n",
              "      <td>0</td>\n",
              "      <td>0</td>\n",
              "      <td>0</td>\n",
              "    </tr>\n",
              "    <tr>\n",
              "      <th>2</th>\n",
              "      <td>Outros</td>\n",
              "      <td>Residencial</td>\n",
              "      <td>Rio de Janeiro</td>\n",
              "      <td>-43.646786</td>\n",
              "      <td>-22.986927</td>\n",
              "      <td>Zona Oeste</td>\n",
              "      <td>Pedra de Guaratiba</td>\n",
              "      <td>50000</td>\n",
              "      <td>0</td>\n",
              "      <td>100</td>\n",
              "      <td>0</td>\n",
              "      <td>0</td>\n",
              "      <td>0</td>\n",
              "      <td>0</td>\n",
              "      <td>132</td>\n",
              "      <td>132</td>\n",
              "      <td>0</td>\n",
              "      <td>0</td>\n",
              "      <td>0</td>\n",
              "    </tr>\n",
              "    <tr>\n",
              "      <th>3</th>\n",
              "      <td>Outros</td>\n",
              "      <td>Comercial</td>\n",
              "      <td>Rio de Janeiro</td>\n",
              "      <td>-43.330818</td>\n",
              "      <td>-22.881977</td>\n",
              "      <td>Zona Norte</td>\n",
              "      <td>Cascadura</td>\n",
              "      <td>45000</td>\n",
              "      <td>346</td>\n",
              "      <td>468</td>\n",
              "      <td>0</td>\n",
              "      <td>1</td>\n",
              "      <td>0</td>\n",
              "      <td>0</td>\n",
              "      <td>32</td>\n",
              "      <td>32</td>\n",
              "      <td>0</td>\n",
              "      <td>0</td>\n",
              "      <td>3</td>\n",
              "    </tr>\n",
              "    <tr>\n",
              "      <th>4</th>\n",
              "      <td>Apartamento</td>\n",
              "      <td>Residencial</td>\n",
              "      <td>Rio de Janeiro</td>\n",
              "      <td>-43.480742</td>\n",
              "      <td>-23.027653</td>\n",
              "      <td>Zona Oeste</td>\n",
              "      <td>Recreio dos Bandeirantes</td>\n",
              "      <td>50000</td>\n",
              "      <td>120</td>\n",
              "      <td>400</td>\n",
              "      <td>3</td>\n",
              "      <td>2</td>\n",
              "      <td>1</td>\n",
              "      <td>1</td>\n",
              "      <td>60</td>\n",
              "      <td>0</td>\n",
              "      <td>3</td>\n",
              "      <td>4</td>\n",
              "      <td>2</td>\n",
              "    </tr>\n",
              "  </tbody>\n",
              "</table>\n",
              "</div>\n",
              "    <div class=\"colab-df-buttons\">\n",
              "\n",
              "  <div class=\"colab-df-container\">\n",
              "    <button class=\"colab-df-convert\" onclick=\"convertToInteractive('df-1f1075bc-eb89-46d9-8f28-a6bebe760d63')\"\n",
              "            title=\"Convert this dataframe to an interactive table.\"\n",
              "            style=\"display:none;\">\n",
              "\n",
              "  <svg xmlns=\"http://www.w3.org/2000/svg\" height=\"24px\" viewBox=\"0 -960 960 960\">\n",
              "    <path d=\"M120-120v-720h720v720H120Zm60-500h600v-160H180v160Zm220 220h160v-160H400v160Zm0 220h160v-160H400v160ZM180-400h160v-160H180v160Zm440 0h160v-160H620v160ZM180-180h160v-160H180v160Zm440 0h160v-160H620v160Z\"/>\n",
              "  </svg>\n",
              "    </button>\n",
              "\n",
              "  <style>\n",
              "    .colab-df-container {\n",
              "      display:flex;\n",
              "      gap: 12px;\n",
              "    }\n",
              "\n",
              "    .colab-df-convert {\n",
              "      background-color: #E8F0FE;\n",
              "      border: none;\n",
              "      border-radius: 50%;\n",
              "      cursor: pointer;\n",
              "      display: none;\n",
              "      fill: #1967D2;\n",
              "      height: 32px;\n",
              "      padding: 0 0 0 0;\n",
              "      width: 32px;\n",
              "    }\n",
              "\n",
              "    .colab-df-convert:hover {\n",
              "      background-color: #E2EBFA;\n",
              "      box-shadow: 0px 1px 2px rgba(60, 64, 67, 0.3), 0px 1px 3px 1px rgba(60, 64, 67, 0.15);\n",
              "      fill: #174EA6;\n",
              "    }\n",
              "\n",
              "    .colab-df-buttons div {\n",
              "      margin-bottom: 4px;\n",
              "    }\n",
              "\n",
              "    [theme=dark] .colab-df-convert {\n",
              "      background-color: #3B4455;\n",
              "      fill: #D2E3FC;\n",
              "    }\n",
              "\n",
              "    [theme=dark] .colab-df-convert:hover {\n",
              "      background-color: #434B5C;\n",
              "      box-shadow: 0px 1px 3px 1px rgba(0, 0, 0, 0.15);\n",
              "      filter: drop-shadow(0px 1px 2px rgba(0, 0, 0, 0.3));\n",
              "      fill: #FFFFFF;\n",
              "    }\n",
              "  </style>\n",
              "\n",
              "    <script>\n",
              "      const buttonEl =\n",
              "        document.querySelector('#df-1f1075bc-eb89-46d9-8f28-a6bebe760d63 button.colab-df-convert');\n",
              "      buttonEl.style.display =\n",
              "        google.colab.kernel.accessAllowed ? 'block' : 'none';\n",
              "\n",
              "      async function convertToInteractive(key) {\n",
              "        const element = document.querySelector('#df-1f1075bc-eb89-46d9-8f28-a6bebe760d63');\n",
              "        const dataTable =\n",
              "          await google.colab.kernel.invokeFunction('convertToInteractive',\n",
              "                                                    [key], {});\n",
              "        if (!dataTable) return;\n",
              "\n",
              "        const docLinkHtml = 'Like what you see? Visit the ' +\n",
              "          '<a target=\"_blank\" href=https://colab.research.google.com/notebooks/data_table.ipynb>data table notebook</a>'\n",
              "          + ' to learn more about interactive tables.';\n",
              "        element.innerHTML = '';\n",
              "        dataTable['output_type'] = 'display_data';\n",
              "        await google.colab.output.renderOutput(dataTable, element);\n",
              "        const docLink = document.createElement('div');\n",
              "        docLink.innerHTML = docLinkHtml;\n",
              "        element.appendChild(docLink);\n",
              "      }\n",
              "    </script>\n",
              "  </div>\n",
              "\n",
              "\n",
              "<div id=\"df-213d62bf-f5a3-49eb-b4b5-631794027467\">\n",
              "  <button class=\"colab-df-quickchart\" onclick=\"quickchart('df-213d62bf-f5a3-49eb-b4b5-631794027467')\"\n",
              "            title=\"Suggest charts\"\n",
              "            style=\"display:none;\">\n",
              "\n",
              "<svg xmlns=\"http://www.w3.org/2000/svg\" height=\"24px\"viewBox=\"0 0 24 24\"\n",
              "     width=\"24px\">\n",
              "    <g>\n",
              "        <path d=\"M19 3H5c-1.1 0-2 .9-2 2v14c0 1.1.9 2 2 2h14c1.1 0 2-.9 2-2V5c0-1.1-.9-2-2-2zM9 17H7v-7h2v7zm4 0h-2V7h2v10zm4 0h-2v-4h2v4z\"/>\n",
              "    </g>\n",
              "</svg>\n",
              "  </button>\n",
              "\n",
              "<style>\n",
              "  .colab-df-quickchart {\n",
              "      --bg-color: #E8F0FE;\n",
              "      --fill-color: #1967D2;\n",
              "      --hover-bg-color: #E2EBFA;\n",
              "      --hover-fill-color: #174EA6;\n",
              "      --disabled-fill-color: #AAA;\n",
              "      --disabled-bg-color: #DDD;\n",
              "  }\n",
              "\n",
              "  [theme=dark] .colab-df-quickchart {\n",
              "      --bg-color: #3B4455;\n",
              "      --fill-color: #D2E3FC;\n",
              "      --hover-bg-color: #434B5C;\n",
              "      --hover-fill-color: #FFFFFF;\n",
              "      --disabled-bg-color: #3B4455;\n",
              "      --disabled-fill-color: #666;\n",
              "  }\n",
              "\n",
              "  .colab-df-quickchart {\n",
              "    background-color: var(--bg-color);\n",
              "    border: none;\n",
              "    border-radius: 50%;\n",
              "    cursor: pointer;\n",
              "    display: none;\n",
              "    fill: var(--fill-color);\n",
              "    height: 32px;\n",
              "    padding: 0;\n",
              "    width: 32px;\n",
              "  }\n",
              "\n",
              "  .colab-df-quickchart:hover {\n",
              "    background-color: var(--hover-bg-color);\n",
              "    box-shadow: 0 1px 2px rgba(60, 64, 67, 0.3), 0 1px 3px 1px rgba(60, 64, 67, 0.15);\n",
              "    fill: var(--button-hover-fill-color);\n",
              "  }\n",
              "\n",
              "  .colab-df-quickchart-complete:disabled,\n",
              "  .colab-df-quickchart-complete:disabled:hover {\n",
              "    background-color: var(--disabled-bg-color);\n",
              "    fill: var(--disabled-fill-color);\n",
              "    box-shadow: none;\n",
              "  }\n",
              "\n",
              "  .colab-df-spinner {\n",
              "    border: 2px solid var(--fill-color);\n",
              "    border-color: transparent;\n",
              "    border-bottom-color: var(--fill-color);\n",
              "    animation:\n",
              "      spin 1s steps(1) infinite;\n",
              "  }\n",
              "\n",
              "  @keyframes spin {\n",
              "    0% {\n",
              "      border-color: transparent;\n",
              "      border-bottom-color: var(--fill-color);\n",
              "      border-left-color: var(--fill-color);\n",
              "    }\n",
              "    20% {\n",
              "      border-color: transparent;\n",
              "      border-left-color: var(--fill-color);\n",
              "      border-top-color: var(--fill-color);\n",
              "    }\n",
              "    30% {\n",
              "      border-color: transparent;\n",
              "      border-left-color: var(--fill-color);\n",
              "      border-top-color: var(--fill-color);\n",
              "      border-right-color: var(--fill-color);\n",
              "    }\n",
              "    40% {\n",
              "      border-color: transparent;\n",
              "      border-right-color: var(--fill-color);\n",
              "      border-top-color: var(--fill-color);\n",
              "    }\n",
              "    60% {\n",
              "      border-color: transparent;\n",
              "      border-right-color: var(--fill-color);\n",
              "    }\n",
              "    80% {\n",
              "      border-color: transparent;\n",
              "      border-right-color: var(--fill-color);\n",
              "      border-bottom-color: var(--fill-color);\n",
              "    }\n",
              "    90% {\n",
              "      border-color: transparent;\n",
              "      border-bottom-color: var(--fill-color);\n",
              "    }\n",
              "  }\n",
              "</style>\n",
              "\n",
              "  <script>\n",
              "    async function quickchart(key) {\n",
              "      const quickchartButtonEl =\n",
              "        document.querySelector('#' + key + ' button');\n",
              "      quickchartButtonEl.disabled = true;  // To prevent multiple clicks.\n",
              "      quickchartButtonEl.classList.add('colab-df-spinner');\n",
              "      try {\n",
              "        const charts = await google.colab.kernel.invokeFunction(\n",
              "            'suggestCharts', [key], {});\n",
              "      } catch (error) {\n",
              "        console.error('Error during call to suggestCharts:', error);\n",
              "      }\n",
              "      quickchartButtonEl.classList.remove('colab-df-spinner');\n",
              "      quickchartButtonEl.classList.add('colab-df-quickchart-complete');\n",
              "    }\n",
              "    (() => {\n",
              "      let quickchartButtonEl =\n",
              "        document.querySelector('#df-213d62bf-f5a3-49eb-b4b5-631794027467 button');\n",
              "      quickchartButtonEl.style.display =\n",
              "        google.colab.kernel.accessAllowed ? 'block' : 'none';\n",
              "    })();\n",
              "  </script>\n",
              "</div>\n",
              "\n",
              "    </div>\n",
              "  </div>\n"
            ]
          },
          "metadata": {},
          "execution_count": 7
        }
      ],
      "source": [
        "dados_lista2 = pd.json_normalize(dados.listing, sep='_')\n",
        "dados_lista2.head()"
      ]
    },
    {
      "cell_type": "markdown",
      "metadata": {
        "id": "DWqC5wd3jotq"
      },
      "source": [
        "### Junção dos dataframes"
      ]
    },
    {
      "cell_type": "code",
      "execution_count": 8,
      "metadata": {
        "colab": {
          "base_uri": "https://localhost:8080/",
          "height": 342
        },
        "id": "VO8u42uxjotq",
        "outputId": "53fa19d6-5b6a-433f-a32c-f798d779d260"
      },
      "outputs": [
        {
          "output_type": "execute_result",
          "data": {
            "text/plain": [
              "        customerID   source   types_unit  types_usage    address_city  \\\n",
              "0  775564-BOJSMVON  Website       Outros  Residencial  Rio de Janeiro   \n",
              "1  660895-AUENKNYY  Website  Apartamento  Residencial  Rio de Janeiro   \n",
              "2  751522-JESYFEQL  Website       Outros  Residencial  Rio de Janeiro   \n",
              "3  714052-GAAEWYKS  Website       Outros    Comercial  Rio de Janeiro   \n",
              "4  568886-ZIBFOMCC  Website  Apartamento  Residencial  Rio de Janeiro   \n",
              "\n",
              "   address_location_lon  address_location_lat address_zone  \\\n",
              "0            -43.413557            -22.909429   Zona Oeste   \n",
              "1            -43.509141            -22.869698   Zona Oeste   \n",
              "2            -43.646786            -22.986927   Zona Oeste   \n",
              "3            -43.330818            -22.881977   Zona Norte   \n",
              "4            -43.480742            -23.027653   Zona Oeste   \n",
              "\n",
              "       address_neighborhood prices_price  ... prices_tax_condo  \\\n",
              "0                   Taquara        45000  ...              150   \n",
              "1                Santíssimo        45000  ...              120   \n",
              "2        Pedra de Guaratiba        50000  ...              100   \n",
              "3                 Cascadura        45000  ...              468   \n",
              "4  Recreio dos Bandeirantes        50000  ...              400   \n",
              "\n",
              "  features_bedrooms  features_bathrooms  features_suites  \\\n",
              "0                 0                   0                0   \n",
              "1                 2                   1                0   \n",
              "2                 0                   0                0   \n",
              "3                 0                   1                0   \n",
              "4                 3                   2                1   \n",
              "\n",
              "   features_parkingSpaces  features_usableAreas features_totalAreas  \\\n",
              "0                       1                    62                  62   \n",
              "1                       1                    44                   0   \n",
              "2                       0                   132                 132   \n",
              "3                       0                    32                  32   \n",
              "4                       1                    60                   0   \n",
              "\n",
              "  features_floors  features_unitsOnTheFloor  features_unitFloor  \n",
              "0               0                         0                   0  \n",
              "1               0                         0                   0  \n",
              "2               0                         0                   0  \n",
              "3               0                         0                   3  \n",
              "4               3                         4                   2  \n",
              "\n",
              "[5 rows x 21 columns]"
            ],
            "text/html": [
              "\n",
              "  <div id=\"df-333dd7a8-4c37-45c2-9cdc-944501d56991\" class=\"colab-df-container\">\n",
              "    <div>\n",
              "<style scoped>\n",
              "    .dataframe tbody tr th:only-of-type {\n",
              "        vertical-align: middle;\n",
              "    }\n",
              "\n",
              "    .dataframe tbody tr th {\n",
              "        vertical-align: top;\n",
              "    }\n",
              "\n",
              "    .dataframe thead th {\n",
              "        text-align: right;\n",
              "    }\n",
              "</style>\n",
              "<table border=\"1\" class=\"dataframe\">\n",
              "  <thead>\n",
              "    <tr style=\"text-align: right;\">\n",
              "      <th></th>\n",
              "      <th>customerID</th>\n",
              "      <th>source</th>\n",
              "      <th>types_unit</th>\n",
              "      <th>types_usage</th>\n",
              "      <th>address_city</th>\n",
              "      <th>address_location_lon</th>\n",
              "      <th>address_location_lat</th>\n",
              "      <th>address_zone</th>\n",
              "      <th>address_neighborhood</th>\n",
              "      <th>prices_price</th>\n",
              "      <th>...</th>\n",
              "      <th>prices_tax_condo</th>\n",
              "      <th>features_bedrooms</th>\n",
              "      <th>features_bathrooms</th>\n",
              "      <th>features_suites</th>\n",
              "      <th>features_parkingSpaces</th>\n",
              "      <th>features_usableAreas</th>\n",
              "      <th>features_totalAreas</th>\n",
              "      <th>features_floors</th>\n",
              "      <th>features_unitsOnTheFloor</th>\n",
              "      <th>features_unitFloor</th>\n",
              "    </tr>\n",
              "  </thead>\n",
              "  <tbody>\n",
              "    <tr>\n",
              "      <th>0</th>\n",
              "      <td>775564-BOJSMVON</td>\n",
              "      <td>Website</td>\n",
              "      <td>Outros</td>\n",
              "      <td>Residencial</td>\n",
              "      <td>Rio de Janeiro</td>\n",
              "      <td>-43.413557</td>\n",
              "      <td>-22.909429</td>\n",
              "      <td>Zona Oeste</td>\n",
              "      <td>Taquara</td>\n",
              "      <td>45000</td>\n",
              "      <td>...</td>\n",
              "      <td>150</td>\n",
              "      <td>0</td>\n",
              "      <td>0</td>\n",
              "      <td>0</td>\n",
              "      <td>1</td>\n",
              "      <td>62</td>\n",
              "      <td>62</td>\n",
              "      <td>0</td>\n",
              "      <td>0</td>\n",
              "      <td>0</td>\n",
              "    </tr>\n",
              "    <tr>\n",
              "      <th>1</th>\n",
              "      <td>660895-AUENKNYY</td>\n",
              "      <td>Website</td>\n",
              "      <td>Apartamento</td>\n",
              "      <td>Residencial</td>\n",
              "      <td>Rio de Janeiro</td>\n",
              "      <td>-43.509141</td>\n",
              "      <td>-22.869698</td>\n",
              "      <td>Zona Oeste</td>\n",
              "      <td>Santíssimo</td>\n",
              "      <td>45000</td>\n",
              "      <td>...</td>\n",
              "      <td>120</td>\n",
              "      <td>2</td>\n",
              "      <td>1</td>\n",
              "      <td>0</td>\n",
              "      <td>1</td>\n",
              "      <td>44</td>\n",
              "      <td>0</td>\n",
              "      <td>0</td>\n",
              "      <td>0</td>\n",
              "      <td>0</td>\n",
              "    </tr>\n",
              "    <tr>\n",
              "      <th>2</th>\n",
              "      <td>751522-JESYFEQL</td>\n",
              "      <td>Website</td>\n",
              "      <td>Outros</td>\n",
              "      <td>Residencial</td>\n",
              "      <td>Rio de Janeiro</td>\n",
              "      <td>-43.646786</td>\n",
              "      <td>-22.986927</td>\n",
              "      <td>Zona Oeste</td>\n",
              "      <td>Pedra de Guaratiba</td>\n",
              "      <td>50000</td>\n",
              "      <td>...</td>\n",
              "      <td>100</td>\n",
              "      <td>0</td>\n",
              "      <td>0</td>\n",
              "      <td>0</td>\n",
              "      <td>0</td>\n",
              "      <td>132</td>\n",
              "      <td>132</td>\n",
              "      <td>0</td>\n",
              "      <td>0</td>\n",
              "      <td>0</td>\n",
              "    </tr>\n",
              "    <tr>\n",
              "      <th>3</th>\n",
              "      <td>714052-GAAEWYKS</td>\n",
              "      <td>Website</td>\n",
              "      <td>Outros</td>\n",
              "      <td>Comercial</td>\n",
              "      <td>Rio de Janeiro</td>\n",
              "      <td>-43.330818</td>\n",
              "      <td>-22.881977</td>\n",
              "      <td>Zona Norte</td>\n",
              "      <td>Cascadura</td>\n",
              "      <td>45000</td>\n",
              "      <td>...</td>\n",
              "      <td>468</td>\n",
              "      <td>0</td>\n",
              "      <td>1</td>\n",
              "      <td>0</td>\n",
              "      <td>0</td>\n",
              "      <td>32</td>\n",
              "      <td>32</td>\n",
              "      <td>0</td>\n",
              "      <td>0</td>\n",
              "      <td>3</td>\n",
              "    </tr>\n",
              "    <tr>\n",
              "      <th>4</th>\n",
              "      <td>568886-ZIBFOMCC</td>\n",
              "      <td>Website</td>\n",
              "      <td>Apartamento</td>\n",
              "      <td>Residencial</td>\n",
              "      <td>Rio de Janeiro</td>\n",
              "      <td>-43.480742</td>\n",
              "      <td>-23.027653</td>\n",
              "      <td>Zona Oeste</td>\n",
              "      <td>Recreio dos Bandeirantes</td>\n",
              "      <td>50000</td>\n",
              "      <td>...</td>\n",
              "      <td>400</td>\n",
              "      <td>3</td>\n",
              "      <td>2</td>\n",
              "      <td>1</td>\n",
              "      <td>1</td>\n",
              "      <td>60</td>\n",
              "      <td>0</td>\n",
              "      <td>3</td>\n",
              "      <td>4</td>\n",
              "      <td>2</td>\n",
              "    </tr>\n",
              "  </tbody>\n",
              "</table>\n",
              "<p>5 rows × 21 columns</p>\n",
              "</div>\n",
              "    <div class=\"colab-df-buttons\">\n",
              "\n",
              "  <div class=\"colab-df-container\">\n",
              "    <button class=\"colab-df-convert\" onclick=\"convertToInteractive('df-333dd7a8-4c37-45c2-9cdc-944501d56991')\"\n",
              "            title=\"Convert this dataframe to an interactive table.\"\n",
              "            style=\"display:none;\">\n",
              "\n",
              "  <svg xmlns=\"http://www.w3.org/2000/svg\" height=\"24px\" viewBox=\"0 -960 960 960\">\n",
              "    <path d=\"M120-120v-720h720v720H120Zm60-500h600v-160H180v160Zm220 220h160v-160H400v160Zm0 220h160v-160H400v160ZM180-400h160v-160H180v160Zm440 0h160v-160H620v160ZM180-180h160v-160H180v160Zm440 0h160v-160H620v160Z\"/>\n",
              "  </svg>\n",
              "    </button>\n",
              "\n",
              "  <style>\n",
              "    .colab-df-container {\n",
              "      display:flex;\n",
              "      gap: 12px;\n",
              "    }\n",
              "\n",
              "    .colab-df-convert {\n",
              "      background-color: #E8F0FE;\n",
              "      border: none;\n",
              "      border-radius: 50%;\n",
              "      cursor: pointer;\n",
              "      display: none;\n",
              "      fill: #1967D2;\n",
              "      height: 32px;\n",
              "      padding: 0 0 0 0;\n",
              "      width: 32px;\n",
              "    }\n",
              "\n",
              "    .colab-df-convert:hover {\n",
              "      background-color: #E2EBFA;\n",
              "      box-shadow: 0px 1px 2px rgba(60, 64, 67, 0.3), 0px 1px 3px 1px rgba(60, 64, 67, 0.15);\n",
              "      fill: #174EA6;\n",
              "    }\n",
              "\n",
              "    .colab-df-buttons div {\n",
              "      margin-bottom: 4px;\n",
              "    }\n",
              "\n",
              "    [theme=dark] .colab-df-convert {\n",
              "      background-color: #3B4455;\n",
              "      fill: #D2E3FC;\n",
              "    }\n",
              "\n",
              "    [theme=dark] .colab-df-convert:hover {\n",
              "      background-color: #434B5C;\n",
              "      box-shadow: 0px 1px 3px 1px rgba(0, 0, 0, 0.15);\n",
              "      filter: drop-shadow(0px 1px 2px rgba(0, 0, 0, 0.3));\n",
              "      fill: #FFFFFF;\n",
              "    }\n",
              "  </style>\n",
              "\n",
              "    <script>\n",
              "      const buttonEl =\n",
              "        document.querySelector('#df-333dd7a8-4c37-45c2-9cdc-944501d56991 button.colab-df-convert');\n",
              "      buttonEl.style.display =\n",
              "        google.colab.kernel.accessAllowed ? 'block' : 'none';\n",
              "\n",
              "      async function convertToInteractive(key) {\n",
              "        const element = document.querySelector('#df-333dd7a8-4c37-45c2-9cdc-944501d56991');\n",
              "        const dataTable =\n",
              "          await google.colab.kernel.invokeFunction('convertToInteractive',\n",
              "                                                    [key], {});\n",
              "        if (!dataTable) return;\n",
              "\n",
              "        const docLinkHtml = 'Like what you see? Visit the ' +\n",
              "          '<a target=\"_blank\" href=https://colab.research.google.com/notebooks/data_table.ipynb>data table notebook</a>'\n",
              "          + ' to learn more about interactive tables.';\n",
              "        element.innerHTML = '';\n",
              "        dataTable['output_type'] = 'display_data';\n",
              "        await google.colab.output.renderOutput(dataTable, element);\n",
              "        const docLink = document.createElement('div');\n",
              "        docLink.innerHTML = docLinkHtml;\n",
              "        element.appendChild(docLink);\n",
              "      }\n",
              "    </script>\n",
              "  </div>\n",
              "\n",
              "\n",
              "<div id=\"df-c1edc72a-ba82-4a87-a903-3b5cfbb17225\">\n",
              "  <button class=\"colab-df-quickchart\" onclick=\"quickchart('df-c1edc72a-ba82-4a87-a903-3b5cfbb17225')\"\n",
              "            title=\"Suggest charts\"\n",
              "            style=\"display:none;\">\n",
              "\n",
              "<svg xmlns=\"http://www.w3.org/2000/svg\" height=\"24px\"viewBox=\"0 0 24 24\"\n",
              "     width=\"24px\">\n",
              "    <g>\n",
              "        <path d=\"M19 3H5c-1.1 0-2 .9-2 2v14c0 1.1.9 2 2 2h14c1.1 0 2-.9 2-2V5c0-1.1-.9-2-2-2zM9 17H7v-7h2v7zm4 0h-2V7h2v10zm4 0h-2v-4h2v4z\"/>\n",
              "    </g>\n",
              "</svg>\n",
              "  </button>\n",
              "\n",
              "<style>\n",
              "  .colab-df-quickchart {\n",
              "      --bg-color: #E8F0FE;\n",
              "      --fill-color: #1967D2;\n",
              "      --hover-bg-color: #E2EBFA;\n",
              "      --hover-fill-color: #174EA6;\n",
              "      --disabled-fill-color: #AAA;\n",
              "      --disabled-bg-color: #DDD;\n",
              "  }\n",
              "\n",
              "  [theme=dark] .colab-df-quickchart {\n",
              "      --bg-color: #3B4455;\n",
              "      --fill-color: #D2E3FC;\n",
              "      --hover-bg-color: #434B5C;\n",
              "      --hover-fill-color: #FFFFFF;\n",
              "      --disabled-bg-color: #3B4455;\n",
              "      --disabled-fill-color: #666;\n",
              "  }\n",
              "\n",
              "  .colab-df-quickchart {\n",
              "    background-color: var(--bg-color);\n",
              "    border: none;\n",
              "    border-radius: 50%;\n",
              "    cursor: pointer;\n",
              "    display: none;\n",
              "    fill: var(--fill-color);\n",
              "    height: 32px;\n",
              "    padding: 0;\n",
              "    width: 32px;\n",
              "  }\n",
              "\n",
              "  .colab-df-quickchart:hover {\n",
              "    background-color: var(--hover-bg-color);\n",
              "    box-shadow: 0 1px 2px rgba(60, 64, 67, 0.3), 0 1px 3px 1px rgba(60, 64, 67, 0.15);\n",
              "    fill: var(--button-hover-fill-color);\n",
              "  }\n",
              "\n",
              "  .colab-df-quickchart-complete:disabled,\n",
              "  .colab-df-quickchart-complete:disabled:hover {\n",
              "    background-color: var(--disabled-bg-color);\n",
              "    fill: var(--disabled-fill-color);\n",
              "    box-shadow: none;\n",
              "  }\n",
              "\n",
              "  .colab-df-spinner {\n",
              "    border: 2px solid var(--fill-color);\n",
              "    border-color: transparent;\n",
              "    border-bottom-color: var(--fill-color);\n",
              "    animation:\n",
              "      spin 1s steps(1) infinite;\n",
              "  }\n",
              "\n",
              "  @keyframes spin {\n",
              "    0% {\n",
              "      border-color: transparent;\n",
              "      border-bottom-color: var(--fill-color);\n",
              "      border-left-color: var(--fill-color);\n",
              "    }\n",
              "    20% {\n",
              "      border-color: transparent;\n",
              "      border-left-color: var(--fill-color);\n",
              "      border-top-color: var(--fill-color);\n",
              "    }\n",
              "    30% {\n",
              "      border-color: transparent;\n",
              "      border-left-color: var(--fill-color);\n",
              "      border-top-color: var(--fill-color);\n",
              "      border-right-color: var(--fill-color);\n",
              "    }\n",
              "    40% {\n",
              "      border-color: transparent;\n",
              "      border-right-color: var(--fill-color);\n",
              "      border-top-color: var(--fill-color);\n",
              "    }\n",
              "    60% {\n",
              "      border-color: transparent;\n",
              "      border-right-color: var(--fill-color);\n",
              "    }\n",
              "    80% {\n",
              "      border-color: transparent;\n",
              "      border-right-color: var(--fill-color);\n",
              "      border-bottom-color: var(--fill-color);\n",
              "    }\n",
              "    90% {\n",
              "      border-color: transparent;\n",
              "      border-bottom-color: var(--fill-color);\n",
              "    }\n",
              "  }\n",
              "</style>\n",
              "\n",
              "  <script>\n",
              "    async function quickchart(key) {\n",
              "      const quickchartButtonEl =\n",
              "        document.querySelector('#' + key + ' button');\n",
              "      quickchartButtonEl.disabled = true;  // To prevent multiple clicks.\n",
              "      quickchartButtonEl.classList.add('colab-df-spinner');\n",
              "      try {\n",
              "        const charts = await google.colab.kernel.invokeFunction(\n",
              "            'suggestCharts', [key], {});\n",
              "      } catch (error) {\n",
              "        console.error('Error during call to suggestCharts:', error);\n",
              "      }\n",
              "      quickchartButtonEl.classList.remove('colab-df-spinner');\n",
              "      quickchartButtonEl.classList.add('colab-df-quickchart-complete');\n",
              "    }\n",
              "    (() => {\n",
              "      let quickchartButtonEl =\n",
              "        document.querySelector('#df-c1edc72a-ba82-4a87-a903-3b5cfbb17225 button');\n",
              "      quickchartButtonEl.style.display =\n",
              "        google.colab.kernel.accessAllowed ? 'block' : 'none';\n",
              "    })();\n",
              "  </script>\n",
              "</div>\n",
              "\n",
              "    </div>\n",
              "  </div>\n"
            ]
          },
          "metadata": {},
          "execution_count": 8
        }
      ],
      "source": [
        "dados_imoveis = pd.concat([dados_lista1, dados_lista2], axis=1)\n",
        "dados_imoveis.head()"
      ]
    },
    {
      "cell_type": "code",
      "execution_count": 9,
      "metadata": {
        "colab": {
          "base_uri": "https://localhost:8080/"
        },
        "id": "7LD3vrYikH-N",
        "outputId": "8c42bb52-dd05-4ceb-fd56-6c9d2b2b6e98"
      },
      "outputs": [
        {
          "output_type": "execute_result",
          "data": {
            "text/plain": [
              "(73615, 21)"
            ]
          },
          "metadata": {},
          "execution_count": 9
        }
      ],
      "source": [
        "dados_imoveis.shape"
      ]
    },
    {
      "cell_type": "code",
      "execution_count": 10,
      "metadata": {
        "colab": {
          "base_uri": "https://localhost:8080/"
        },
        "id": "h2uxFnNWjotr",
        "outputId": "66f73be1-5096-480c-b1c2-e6542ebd84ac"
      },
      "outputs": [
        {
          "output_type": "stream",
          "name": "stdout",
          "text": [
            "==============================================================================================================================================================================================================================================================================\n",
            "775564-BOJSMVON    1\n",
            "917809-TRNXMOHE    1\n",
            "125760-XEXDELYV    1\n",
            "294183-VCUBOXCU    1\n",
            "465524-CFDRZTHS    1\n",
            "                  ..\n",
            "200525-LDRZXCVM    1\n",
            "938284-QWFBFUXB    1\n",
            "882696-YVZSJYMI    1\n",
            "566032-WFPGBXHL    1\n",
            "610503-VULDJJZZ    1\n",
            "Name: customerID, Length: 73615, dtype: int64\n",
            "==============================================================================================================================================================================================================================================================================\n",
            "Website    73615\n",
            "Name: source, dtype: int64\n",
            "==============================================================================================================================================================================================================================================================================\n",
            "Apartamento    59106\n",
            "Casa            9389\n",
            "Outros          5120\n",
            "Name: types_unit, dtype: int64\n",
            "==============================================================================================================================================================================================================================================================================\n",
            "Residencial    69596\n",
            "Comercial       4019\n",
            "Name: types_usage, dtype: int64\n",
            "==============================================================================================================================================================================================================================================================================\n",
            "Rio de Janeiro        73607\n",
            "Queimados                 3\n",
            "São Gonçalo               2\n",
            "Cachoeirinha              1\n",
            "São João de Meriti        1\n",
            "Armação dos Búzios        1\n",
            "Name: address_city, dtype: int64\n",
            "==============================================================================================================================================================================================================================================================================\n",
            "-43.365895    399\n",
            "-43.462590    278\n",
            "-43.333066    236\n",
            "-43.383834    232\n",
            "-43.516473    218\n",
            "             ... \n",
            "-43.231882      1\n",
            "-43.236952      1\n",
            "-43.240152      1\n",
            "-43.185712      1\n",
            "-43.250934      1\n",
            "Name: address_location_lon, Length: 25753, dtype: int64\n",
            "==============================================================================================================================================================================================================================================================================\n",
            "-23.000371    399\n",
            "-23.017479    278\n",
            "-22.937463    236\n",
            "-22.966600    232\n",
            "-23.015968    218\n",
            "             ... \n",
            "-22.916667      1\n",
            "-22.904453      1\n",
            "-22.927386      1\n",
            "-22.944062      1\n",
            "-22.998918      1\n",
            "Name: address_location_lat, Length: 25552, dtype: int64\n",
            "==============================================================================================================================================================================================================================================================================\n",
            "Zona Oeste      37116\n",
            "Zona Sul        19222\n",
            "Zona Norte      15191\n",
            "Zona Central     1921\n",
            "                  165\n",
            "Name: address_zone, dtype: int64\n",
            "==============================================================================================================================================================================================================================================================================\n",
            "Barra da Tijuca                 11987\n",
            "Recreio dos Bandeirantes         7956\n",
            "Copacabana                       6380\n",
            "Jacarepaguá                      4192\n",
            "Tijuca                           3672\n",
            "                                ...  \n",
            "Área Rural de Rio de Janeiro        1\n",
            "Parque Analândia                    1\n",
            "Dumas                               1\n",
            "Tubiacanga                          1\n",
            "Vasco da Gama                       1\n",
            "Name: address_neighborhood, Length: 158, dtype: int64\n",
            "==============================================================================================================================================================================================================================================================================\n",
            "650000     830\n",
            "550000     750\n",
            "750000     748\n",
            "450000     737\n",
            "1200000    723\n",
            "          ... \n",
            "672042       1\n",
            "671567       1\n",
            "678825       1\n",
            "371932       1\n",
            "578990       1\n",
            "Name: prices_price, Length: 5230, dtype: int64\n",
            "==============================================================================================================================================================================================================================================================================\n",
            "0         9436\n",
            "1         1937\n",
            "20        1247\n",
            "10        1122\n",
            "100        939\n",
            "          ... \n",
            "4857         1\n",
            "2526         1\n",
            "5376         1\n",
            "444900       1\n",
            "3729         1\n",
            "Name: prices_tax_iptu, Length: 5488, dtype: int64\n",
            "==============================================================================================================================================================================================================================================================================\n",
            "0         6562\n",
            "1200      1371\n",
            "800       1350\n",
            "1100      1257\n",
            "1         1254\n",
            "          ... \n",
            "2905         1\n",
            "2272         1\n",
            "4102         1\n",
            "144654       1\n",
            "6075         1\n",
            "Name: prices_tax_condo, Length: 3297, dtype: int64\n",
            "==============================================================================================================================================================================================================================================================================\n",
            "2     25350\n",
            "3     24068\n",
            "4     10911\n",
            "1      6353\n",
            "0      3980\n",
            "5      2220\n",
            "6       476\n",
            "7        90\n",
            "8        65\n",
            "10       28\n",
            "9        18\n",
            "11        9\n",
            "12        8\n",
            "13        7\n",
            "14        7\n",
            "20        5\n",
            "15        4\n",
            "32        3\n",
            "30        2\n",
            "17        2\n",
            "23        2\n",
            "50        2\n",
            "27        2\n",
            "40        1\n",
            "24        1\n",
            "36        1\n",
            "Name: features_bedrooms, dtype: int64\n",
            "==============================================================================================================================================================================================================================================================================\n",
            "2     25451\n",
            "1     21096\n",
            "3     13481\n",
            "4      5591\n",
            "5      3286\n",
            "6      1999\n",
            "0      1270\n",
            "7       813\n",
            "8       405\n",
            "9        95\n",
            "10       72\n",
            "11       17\n",
            "12       16\n",
            "15        3\n",
            "40        3\n",
            "22        2\n",
            "17        2\n",
            "16        2\n",
            "13        2\n",
            "25        2\n",
            "18        2\n",
            "14        1\n",
            "49        1\n",
            "24        1\n",
            "36        1\n",
            "20        1\n",
            "Name: features_bathrooms, dtype: int64\n",
            "==============================================================================================================================================================================================================================================================================\n",
            "1     33188\n",
            "0     24492\n",
            "2      7812\n",
            "3      3707\n",
            "4      3314\n",
            "5       916\n",
            "6       140\n",
            "7        18\n",
            "8         7\n",
            "9         4\n",
            "10        4\n",
            "11        4\n",
            "13        2\n",
            "20        1\n",
            "50        1\n",
            "23        1\n",
            "17        1\n",
            "12        1\n",
            "16        1\n",
            "36        1\n",
            "Name: features_suites, dtype: int64\n",
            "==============================================================================================================================================================================================================================================================================\n",
            "1      35766\n",
            "2      15487\n",
            "0      13173\n",
            "3       5020\n",
            "4       2727\n",
            "5        601\n",
            "6        377\n",
            "8        134\n",
            "10       124\n",
            "7         82\n",
            "12        16\n",
            "15        14\n",
            "20        10\n",
            "9         10\n",
            "14         8\n",
            "30         8\n",
            "19         7\n",
            "21         7\n",
            "11         6\n",
            "13         5\n",
            "25         4\n",
            "50         3\n",
            "45         3\n",
            "16         3\n",
            "40         3\n",
            "18         3\n",
            "144        1\n",
            "60         1\n",
            "26         1\n",
            "35         1\n",
            "44         1\n",
            "180        1\n",
            "27         1\n",
            "17         1\n",
            "99         1\n",
            "31         1\n",
            "34         1\n",
            "42         1\n",
            "23         1\n",
            "32         1\n",
            "Name: features_parkingSpaces, dtype: int64\n",
            "==============================================================================================================================================================================================================================================================================\n",
            "70      2197\n",
            "60      1560\n",
            "80      1525\n",
            "90      1302\n",
            "50      1259\n",
            "        ... \n",
            "1442       1\n",
            "1917       1\n",
            "916        1\n",
            "1629       1\n",
            "1201       1\n",
            "Name: features_usableAreas, Length: 939, dtype: int64\n",
            "==============================================================================================================================================================================================================================================================================\n",
            "0        6948\n",
            "70       1981\n",
            "80       1329\n",
            "60       1302\n",
            "100      1135\n",
            "         ... \n",
            "2965        1\n",
            "5710        1\n",
            "10265       1\n",
            "3463        1\n",
            "1014        1\n",
            "Name: features_totalAreas, Length: 1305, dtype: int64\n",
            "==============================================================================================================================================================================================================================================================================\n",
            "0     57971\n",
            "12     2100\n",
            "3      1994\n",
            "10     1496\n",
            "5      1102\n",
            "4      1016\n",
            "7       975\n",
            "8       966\n",
            "2       878\n",
            "6       744\n",
            "15      732\n",
            "11      431\n",
            "9       377\n",
            "17      344\n",
            "20      335\n",
            "13      324\n",
            "18      321\n",
            "14      296\n",
            "16      286\n",
            "1       276\n",
            "22      194\n",
            "21      113\n",
            "19       91\n",
            "23       78\n",
            "25       48\n",
            "24       30\n",
            "30       25\n",
            "28       16\n",
            "27       13\n",
            "26        8\n",
            "40        8\n",
            "29        6\n",
            "32        4\n",
            "33        4\n",
            "34        3\n",
            "35        3\n",
            "42        2\n",
            "38        1\n",
            "37        1\n",
            "31        1\n",
            "50        1\n",
            "41        1\n",
            "Name: features_floors, dtype: int64\n",
            "==============================================================================================================================================================================================================================================================================\n",
            "0     60027\n",
            "4      3570\n",
            "8      1967\n",
            "6      1680\n",
            "2      1437\n",
            "10     1187\n",
            "12     1015\n",
            "1       966\n",
            "3       329\n",
            "5       324\n",
            "7       151\n",
            "9       147\n",
            "19      147\n",
            "16       98\n",
            "11       72\n",
            "20       69\n",
            "14       61\n",
            "15       58\n",
            "18       41\n",
            "13       36\n",
            "50       34\n",
            "30       28\n",
            "25       22\n",
            "17       18\n",
            "22       17\n",
            "24       16\n",
            "40       12\n",
            "21       11\n",
            "23       11\n",
            "36        9\n",
            "26        9\n",
            "49        5\n",
            "29        5\n",
            "37        5\n",
            "34        5\n",
            "44        4\n",
            "35        3\n",
            "45        3\n",
            "27        3\n",
            "33        3\n",
            "38        3\n",
            "32        2\n",
            "31        1\n",
            "76        1\n",
            "39        1\n",
            "43        1\n",
            "28        1\n",
            "Name: features_unitsOnTheFloor, dtype: int64\n",
            "==============================================================================================================================================================================================================================================================================\n",
            "0       54737\n",
            "2        3298\n",
            "3        3000\n",
            "1        2584\n",
            "4        1830\n",
            "5        1552\n",
            "6        1322\n",
            "7        1023\n",
            "8         895\n",
            "10        794\n",
            "9         558\n",
            "12        428\n",
            "11        361\n",
            "15        247\n",
            "13        178\n",
            "14        175\n",
            "16        150\n",
            "17        115\n",
            "18         77\n",
            "20         72\n",
            "19         48\n",
            "21         41\n",
            "22         32\n",
            "25         17\n",
            "50         12\n",
            "24         11\n",
            "23         10\n",
            "1234        7\n",
            "28          6\n",
            "26          6\n",
            "42          3\n",
            "99          3\n",
            "27          3\n",
            "36          2\n",
            "29          2\n",
            "31          1\n",
            "102         1\n",
            "701         1\n",
            "302         1\n",
            "370         1\n",
            "123         1\n",
            "480         1\n",
            "33          1\n",
            "65          1\n",
            "167         1\n",
            "78          1\n",
            "30          1\n",
            "60          1\n",
            "504         1\n",
            "32          1\n",
            "43          1\n",
            "Name: features_unitFloor, dtype: int64\n"
          ]
        }
      ],
      "source": [
        "for coluna in dados_imoveis.columns:\n",
        "    print('========='*30)\n",
        "    print(dados_imoveis[coluna].value_counts())"
      ]
    },
    {
      "cell_type": "markdown",
      "metadata": {
        "id": "hht873Vzjott"
      },
      "source": [
        "## 1.4 Limpeza"
      ]
    },
    {
      "cell_type": "markdown",
      "metadata": {
        "id": "f2QL-757jotr"
      },
      "source": [
        "### Filtro"
      ]
    },
    {
      "cell_type": "code",
      "execution_count": 11,
      "metadata": {
        "colab": {
          "base_uri": "https://localhost:8080/",
          "height": 342
        },
        "id": "tYvDwNlXjots",
        "outputId": "b171bdda-254f-4203-f023-b33727299e9e"
      },
      "outputs": [
        {
          "output_type": "execute_result",
          "data": {
            "text/plain": [
              "        customerID   source   types_unit  types_usage    address_city  \\\n",
              "0  775564-BOJSMVON  Website       Outros  Residencial  Rio de Janeiro   \n",
              "1  660895-AUENKNYY  Website  Apartamento  Residencial  Rio de Janeiro   \n",
              "2  751522-JESYFEQL  Website       Outros  Residencial  Rio de Janeiro   \n",
              "4  568886-ZIBFOMCC  Website  Apartamento  Residencial  Rio de Janeiro   \n",
              "5  526755-OBLTYTEN  Website       Outros  Residencial  Rio de Janeiro   \n",
              "\n",
              "   address_location_lon  address_location_lat address_zone  \\\n",
              "0            -43.413557            -22.909429   Zona Oeste   \n",
              "1            -43.509141            -22.869698   Zona Oeste   \n",
              "2            -43.646786            -22.986927   Zona Oeste   \n",
              "4            -43.480742            -23.027653   Zona Oeste   \n",
              "5            -43.571183            -22.966059   Zona Oeste   \n",
              "\n",
              "       address_neighborhood prices_price  ... prices_tax_condo  \\\n",
              "0                   Taquara        45000  ...              150   \n",
              "1                Santíssimo        45000  ...              120   \n",
              "2        Pedra de Guaratiba        50000  ...              100   \n",
              "4  Recreio dos Bandeirantes        50000  ...              400   \n",
              "5                 Guaratiba        50000  ...                0   \n",
              "\n",
              "  features_bedrooms  features_bathrooms  features_suites  \\\n",
              "0                 0                   0                0   \n",
              "1                 2                   1                0   \n",
              "2                 0                   0                0   \n",
              "4                 3                   2                1   \n",
              "5                 0                   0                0   \n",
              "\n",
              "   features_parkingSpaces  features_usableAreas features_totalAreas  \\\n",
              "0                       1                    62                  62   \n",
              "1                       1                    44                   0   \n",
              "2                       0                   132                 132   \n",
              "4                       1                    60                   0   \n",
              "5                       0                   200                 200   \n",
              "\n",
              "  features_floors  features_unitsOnTheFloor  features_unitFloor  \n",
              "0               0                         0                   0  \n",
              "1               0                         0                   0  \n",
              "2               0                         0                   0  \n",
              "4               3                         4                   2  \n",
              "5               0                         0                   0  \n",
              "\n",
              "[5 rows x 21 columns]"
            ],
            "text/html": [
              "\n",
              "  <div id=\"df-27c07569-3c32-4aca-ba39-c3b395682f59\" class=\"colab-df-container\">\n",
              "    <div>\n",
              "<style scoped>\n",
              "    .dataframe tbody tr th:only-of-type {\n",
              "        vertical-align: middle;\n",
              "    }\n",
              "\n",
              "    .dataframe tbody tr th {\n",
              "        vertical-align: top;\n",
              "    }\n",
              "\n",
              "    .dataframe thead th {\n",
              "        text-align: right;\n",
              "    }\n",
              "</style>\n",
              "<table border=\"1\" class=\"dataframe\">\n",
              "  <thead>\n",
              "    <tr style=\"text-align: right;\">\n",
              "      <th></th>\n",
              "      <th>customerID</th>\n",
              "      <th>source</th>\n",
              "      <th>types_unit</th>\n",
              "      <th>types_usage</th>\n",
              "      <th>address_city</th>\n",
              "      <th>address_location_lon</th>\n",
              "      <th>address_location_lat</th>\n",
              "      <th>address_zone</th>\n",
              "      <th>address_neighborhood</th>\n",
              "      <th>prices_price</th>\n",
              "      <th>...</th>\n",
              "      <th>prices_tax_condo</th>\n",
              "      <th>features_bedrooms</th>\n",
              "      <th>features_bathrooms</th>\n",
              "      <th>features_suites</th>\n",
              "      <th>features_parkingSpaces</th>\n",
              "      <th>features_usableAreas</th>\n",
              "      <th>features_totalAreas</th>\n",
              "      <th>features_floors</th>\n",
              "      <th>features_unitsOnTheFloor</th>\n",
              "      <th>features_unitFloor</th>\n",
              "    </tr>\n",
              "  </thead>\n",
              "  <tbody>\n",
              "    <tr>\n",
              "      <th>0</th>\n",
              "      <td>775564-BOJSMVON</td>\n",
              "      <td>Website</td>\n",
              "      <td>Outros</td>\n",
              "      <td>Residencial</td>\n",
              "      <td>Rio de Janeiro</td>\n",
              "      <td>-43.413557</td>\n",
              "      <td>-22.909429</td>\n",
              "      <td>Zona Oeste</td>\n",
              "      <td>Taquara</td>\n",
              "      <td>45000</td>\n",
              "      <td>...</td>\n",
              "      <td>150</td>\n",
              "      <td>0</td>\n",
              "      <td>0</td>\n",
              "      <td>0</td>\n",
              "      <td>1</td>\n",
              "      <td>62</td>\n",
              "      <td>62</td>\n",
              "      <td>0</td>\n",
              "      <td>0</td>\n",
              "      <td>0</td>\n",
              "    </tr>\n",
              "    <tr>\n",
              "      <th>1</th>\n",
              "      <td>660895-AUENKNYY</td>\n",
              "      <td>Website</td>\n",
              "      <td>Apartamento</td>\n",
              "      <td>Residencial</td>\n",
              "      <td>Rio de Janeiro</td>\n",
              "      <td>-43.509141</td>\n",
              "      <td>-22.869698</td>\n",
              "      <td>Zona Oeste</td>\n",
              "      <td>Santíssimo</td>\n",
              "      <td>45000</td>\n",
              "      <td>...</td>\n",
              "      <td>120</td>\n",
              "      <td>2</td>\n",
              "      <td>1</td>\n",
              "      <td>0</td>\n",
              "      <td>1</td>\n",
              "      <td>44</td>\n",
              "      <td>0</td>\n",
              "      <td>0</td>\n",
              "      <td>0</td>\n",
              "      <td>0</td>\n",
              "    </tr>\n",
              "    <tr>\n",
              "      <th>2</th>\n",
              "      <td>751522-JESYFEQL</td>\n",
              "      <td>Website</td>\n",
              "      <td>Outros</td>\n",
              "      <td>Residencial</td>\n",
              "      <td>Rio de Janeiro</td>\n",
              "      <td>-43.646786</td>\n",
              "      <td>-22.986927</td>\n",
              "      <td>Zona Oeste</td>\n",
              "      <td>Pedra de Guaratiba</td>\n",
              "      <td>50000</td>\n",
              "      <td>...</td>\n",
              "      <td>100</td>\n",
              "      <td>0</td>\n",
              "      <td>0</td>\n",
              "      <td>0</td>\n",
              "      <td>0</td>\n",
              "      <td>132</td>\n",
              "      <td>132</td>\n",
              "      <td>0</td>\n",
              "      <td>0</td>\n",
              "      <td>0</td>\n",
              "    </tr>\n",
              "    <tr>\n",
              "      <th>4</th>\n",
              "      <td>568886-ZIBFOMCC</td>\n",
              "      <td>Website</td>\n",
              "      <td>Apartamento</td>\n",
              "      <td>Residencial</td>\n",
              "      <td>Rio de Janeiro</td>\n",
              "      <td>-43.480742</td>\n",
              "      <td>-23.027653</td>\n",
              "      <td>Zona Oeste</td>\n",
              "      <td>Recreio dos Bandeirantes</td>\n",
              "      <td>50000</td>\n",
              "      <td>...</td>\n",
              "      <td>400</td>\n",
              "      <td>3</td>\n",
              "      <td>2</td>\n",
              "      <td>1</td>\n",
              "      <td>1</td>\n",
              "      <td>60</td>\n",
              "      <td>0</td>\n",
              "      <td>3</td>\n",
              "      <td>4</td>\n",
              "      <td>2</td>\n",
              "    </tr>\n",
              "    <tr>\n",
              "      <th>5</th>\n",
              "      <td>526755-OBLTYTEN</td>\n",
              "      <td>Website</td>\n",
              "      <td>Outros</td>\n",
              "      <td>Residencial</td>\n",
              "      <td>Rio de Janeiro</td>\n",
              "      <td>-43.571183</td>\n",
              "      <td>-22.966059</td>\n",
              "      <td>Zona Oeste</td>\n",
              "      <td>Guaratiba</td>\n",
              "      <td>50000</td>\n",
              "      <td>...</td>\n",
              "      <td>0</td>\n",
              "      <td>0</td>\n",
              "      <td>0</td>\n",
              "      <td>0</td>\n",
              "      <td>0</td>\n",
              "      <td>200</td>\n",
              "      <td>200</td>\n",
              "      <td>0</td>\n",
              "      <td>0</td>\n",
              "      <td>0</td>\n",
              "    </tr>\n",
              "  </tbody>\n",
              "</table>\n",
              "<p>5 rows × 21 columns</p>\n",
              "</div>\n",
              "    <div class=\"colab-df-buttons\">\n",
              "\n",
              "  <div class=\"colab-df-container\">\n",
              "    <button class=\"colab-df-convert\" onclick=\"convertToInteractive('df-27c07569-3c32-4aca-ba39-c3b395682f59')\"\n",
              "            title=\"Convert this dataframe to an interactive table.\"\n",
              "            style=\"display:none;\">\n",
              "\n",
              "  <svg xmlns=\"http://www.w3.org/2000/svg\" height=\"24px\" viewBox=\"0 -960 960 960\">\n",
              "    <path d=\"M120-120v-720h720v720H120Zm60-500h600v-160H180v160Zm220 220h160v-160H400v160Zm0 220h160v-160H400v160ZM180-400h160v-160H180v160Zm440 0h160v-160H620v160ZM180-180h160v-160H180v160Zm440 0h160v-160H620v160Z\"/>\n",
              "  </svg>\n",
              "    </button>\n",
              "\n",
              "  <style>\n",
              "    .colab-df-container {\n",
              "      display:flex;\n",
              "      gap: 12px;\n",
              "    }\n",
              "\n",
              "    .colab-df-convert {\n",
              "      background-color: #E8F0FE;\n",
              "      border: none;\n",
              "      border-radius: 50%;\n",
              "      cursor: pointer;\n",
              "      display: none;\n",
              "      fill: #1967D2;\n",
              "      height: 32px;\n",
              "      padding: 0 0 0 0;\n",
              "      width: 32px;\n",
              "    }\n",
              "\n",
              "    .colab-df-convert:hover {\n",
              "      background-color: #E2EBFA;\n",
              "      box-shadow: 0px 1px 2px rgba(60, 64, 67, 0.3), 0px 1px 3px 1px rgba(60, 64, 67, 0.15);\n",
              "      fill: #174EA6;\n",
              "    }\n",
              "\n",
              "    .colab-df-buttons div {\n",
              "      margin-bottom: 4px;\n",
              "    }\n",
              "\n",
              "    [theme=dark] .colab-df-convert {\n",
              "      background-color: #3B4455;\n",
              "      fill: #D2E3FC;\n",
              "    }\n",
              "\n",
              "    [theme=dark] .colab-df-convert:hover {\n",
              "      background-color: #434B5C;\n",
              "      box-shadow: 0px 1px 3px 1px rgba(0, 0, 0, 0.15);\n",
              "      filter: drop-shadow(0px 1px 2px rgba(0, 0, 0, 0.3));\n",
              "      fill: #FFFFFF;\n",
              "    }\n",
              "  </style>\n",
              "\n",
              "    <script>\n",
              "      const buttonEl =\n",
              "        document.querySelector('#df-27c07569-3c32-4aca-ba39-c3b395682f59 button.colab-df-convert');\n",
              "      buttonEl.style.display =\n",
              "        google.colab.kernel.accessAllowed ? 'block' : 'none';\n",
              "\n",
              "      async function convertToInteractive(key) {\n",
              "        const element = document.querySelector('#df-27c07569-3c32-4aca-ba39-c3b395682f59');\n",
              "        const dataTable =\n",
              "          await google.colab.kernel.invokeFunction('convertToInteractive',\n",
              "                                                    [key], {});\n",
              "        if (!dataTable) return;\n",
              "\n",
              "        const docLinkHtml = 'Like what you see? Visit the ' +\n",
              "          '<a target=\"_blank\" href=https://colab.research.google.com/notebooks/data_table.ipynb>data table notebook</a>'\n",
              "          + ' to learn more about interactive tables.';\n",
              "        element.innerHTML = '';\n",
              "        dataTable['output_type'] = 'display_data';\n",
              "        await google.colab.output.renderOutput(dataTable, element);\n",
              "        const docLink = document.createElement('div');\n",
              "        docLink.innerHTML = docLinkHtml;\n",
              "        element.appendChild(docLink);\n",
              "      }\n",
              "    </script>\n",
              "  </div>\n",
              "\n",
              "\n",
              "<div id=\"df-ad3e7a17-bc6c-4326-bd53-b9fc76349e07\">\n",
              "  <button class=\"colab-df-quickchart\" onclick=\"quickchart('df-ad3e7a17-bc6c-4326-bd53-b9fc76349e07')\"\n",
              "            title=\"Suggest charts\"\n",
              "            style=\"display:none;\">\n",
              "\n",
              "<svg xmlns=\"http://www.w3.org/2000/svg\" height=\"24px\"viewBox=\"0 0 24 24\"\n",
              "     width=\"24px\">\n",
              "    <g>\n",
              "        <path d=\"M19 3H5c-1.1 0-2 .9-2 2v14c0 1.1.9 2 2 2h14c1.1 0 2-.9 2-2V5c0-1.1-.9-2-2-2zM9 17H7v-7h2v7zm4 0h-2V7h2v10zm4 0h-2v-4h2v4z\"/>\n",
              "    </g>\n",
              "</svg>\n",
              "  </button>\n",
              "\n",
              "<style>\n",
              "  .colab-df-quickchart {\n",
              "      --bg-color: #E8F0FE;\n",
              "      --fill-color: #1967D2;\n",
              "      --hover-bg-color: #E2EBFA;\n",
              "      --hover-fill-color: #174EA6;\n",
              "      --disabled-fill-color: #AAA;\n",
              "      --disabled-bg-color: #DDD;\n",
              "  }\n",
              "\n",
              "  [theme=dark] .colab-df-quickchart {\n",
              "      --bg-color: #3B4455;\n",
              "      --fill-color: #D2E3FC;\n",
              "      --hover-bg-color: #434B5C;\n",
              "      --hover-fill-color: #FFFFFF;\n",
              "      --disabled-bg-color: #3B4455;\n",
              "      --disabled-fill-color: #666;\n",
              "  }\n",
              "\n",
              "  .colab-df-quickchart {\n",
              "    background-color: var(--bg-color);\n",
              "    border: none;\n",
              "    border-radius: 50%;\n",
              "    cursor: pointer;\n",
              "    display: none;\n",
              "    fill: var(--fill-color);\n",
              "    height: 32px;\n",
              "    padding: 0;\n",
              "    width: 32px;\n",
              "  }\n",
              "\n",
              "  .colab-df-quickchart:hover {\n",
              "    background-color: var(--hover-bg-color);\n",
              "    box-shadow: 0 1px 2px rgba(60, 64, 67, 0.3), 0 1px 3px 1px rgba(60, 64, 67, 0.15);\n",
              "    fill: var(--button-hover-fill-color);\n",
              "  }\n",
              "\n",
              "  .colab-df-quickchart-complete:disabled,\n",
              "  .colab-df-quickchart-complete:disabled:hover {\n",
              "    background-color: var(--disabled-bg-color);\n",
              "    fill: var(--disabled-fill-color);\n",
              "    box-shadow: none;\n",
              "  }\n",
              "\n",
              "  .colab-df-spinner {\n",
              "    border: 2px solid var(--fill-color);\n",
              "    border-color: transparent;\n",
              "    border-bottom-color: var(--fill-color);\n",
              "    animation:\n",
              "      spin 1s steps(1) infinite;\n",
              "  }\n",
              "\n",
              "  @keyframes spin {\n",
              "    0% {\n",
              "      border-color: transparent;\n",
              "      border-bottom-color: var(--fill-color);\n",
              "      border-left-color: var(--fill-color);\n",
              "    }\n",
              "    20% {\n",
              "      border-color: transparent;\n",
              "      border-left-color: var(--fill-color);\n",
              "      border-top-color: var(--fill-color);\n",
              "    }\n",
              "    30% {\n",
              "      border-color: transparent;\n",
              "      border-left-color: var(--fill-color);\n",
              "      border-top-color: var(--fill-color);\n",
              "      border-right-color: var(--fill-color);\n",
              "    }\n",
              "    40% {\n",
              "      border-color: transparent;\n",
              "      border-right-color: var(--fill-color);\n",
              "      border-top-color: var(--fill-color);\n",
              "    }\n",
              "    60% {\n",
              "      border-color: transparent;\n",
              "      border-right-color: var(--fill-color);\n",
              "    }\n",
              "    80% {\n",
              "      border-color: transparent;\n",
              "      border-right-color: var(--fill-color);\n",
              "      border-bottom-color: var(--fill-color);\n",
              "    }\n",
              "    90% {\n",
              "      border-color: transparent;\n",
              "      border-bottom-color: var(--fill-color);\n",
              "    }\n",
              "  }\n",
              "</style>\n",
              "\n",
              "  <script>\n",
              "    async function quickchart(key) {\n",
              "      const quickchartButtonEl =\n",
              "        document.querySelector('#' + key + ' button');\n",
              "      quickchartButtonEl.disabled = true;  // To prevent multiple clicks.\n",
              "      quickchartButtonEl.classList.add('colab-df-spinner');\n",
              "      try {\n",
              "        const charts = await google.colab.kernel.invokeFunction(\n",
              "            'suggestCharts', [key], {});\n",
              "      } catch (error) {\n",
              "        console.error('Error during call to suggestCharts:', error);\n",
              "      }\n",
              "      quickchartButtonEl.classList.remove('colab-df-spinner');\n",
              "      quickchartButtonEl.classList.add('colab-df-quickchart-complete');\n",
              "    }\n",
              "    (() => {\n",
              "      let quickchartButtonEl =\n",
              "        document.querySelector('#df-ad3e7a17-bc6c-4326-bd53-b9fc76349e07 button');\n",
              "      quickchartButtonEl.style.display =\n",
              "        google.colab.kernel.accessAllowed ? 'block' : 'none';\n",
              "    })();\n",
              "  </script>\n",
              "</div>\n",
              "\n",
              "    </div>\n",
              "  </div>\n"
            ]
          },
          "metadata": {},
          "execution_count": 11
        }
      ],
      "source": [
        "filtro = (dados_imoveis['types_usage'] == 'Residencial') & (dados_imoveis['address_city'] ==  'Rio de Janeiro')\n",
        "\n",
        "#aplicando o filtro\n",
        "dados_imoveis = dados_imoveis[filtro]\n",
        "dados_imoveis.head()"
      ]
    },
    {
      "cell_type": "markdown",
      "metadata": {
        "id": "MiQRemC5jott"
      },
      "source": [
        "### Tipos de variáveis"
      ]
    },
    {
      "cell_type": "code",
      "execution_count": 12,
      "metadata": {
        "colab": {
          "base_uri": "https://localhost:8080/"
        },
        "id": "I-BZG6ezjotu",
        "outputId": "ee6b5228-e350-468d-ea27-886c6f0fab1a"
      },
      "outputs": [
        {
          "output_type": "stream",
          "name": "stdout",
          "text": [
            "<class 'pandas.core.frame.DataFrame'>\n",
            "Int64Index: 69588 entries, 0 to 73614\n",
            "Data columns (total 21 columns):\n",
            " #   Column                    Non-Null Count  Dtype  \n",
            "---  ------                    --------------  -----  \n",
            " 0   customerID                69588 non-null  object \n",
            " 1   source                    69588 non-null  object \n",
            " 2   types_unit                69588 non-null  object \n",
            " 3   types_usage               69588 non-null  object \n",
            " 4   address_city              69588 non-null  object \n",
            " 5   address_location_lon      69449 non-null  float64\n",
            " 6   address_location_lat      69449 non-null  float64\n",
            " 7   address_zone              69588 non-null  object \n",
            " 8   address_neighborhood      69588 non-null  object \n",
            " 9   prices_price              69588 non-null  object \n",
            " 10  prices_tax_iptu           60863 non-null  object \n",
            " 11  prices_tax_condo          63527 non-null  object \n",
            " 12  features_bedrooms         69588 non-null  int64  \n",
            " 13  features_bathrooms        69588 non-null  int64  \n",
            " 14  features_suites           69588 non-null  int64  \n",
            " 15  features_parkingSpaces    69588 non-null  int64  \n",
            " 16  features_usableAreas      69588 non-null  object \n",
            " 17  features_totalAreas       69588 non-null  object \n",
            " 18  features_floors           69588 non-null  int64  \n",
            " 19  features_unitsOnTheFloor  69588 non-null  int64  \n",
            " 20  features_unitFloor        69588 non-null  int64  \n",
            "dtypes: float64(2), int64(7), object(12)\n",
            "memory usage: 11.7+ MB\n"
          ]
        }
      ],
      "source": [
        "#atenção ao tipo das variáveis e o indice\n",
        "dados_imoveis.info()"
      ]
    },
    {
      "cell_type": "markdown",
      "metadata": {
        "id": "hvIqV8S1jotu"
      },
      "source": [
        "Verificando a saída do `.info`\n",
        "\n",
        "> 69588 entries, 0 to 73614\n",
        "\n",
        " percebemos que temos que resentar o index, para que as infos fiquem ordenadas corretamente.\n",
        ""
      ]
    },
    {
      "cell_type": "code",
      "execution_count": null,
      "metadata": {
        "id": "mjrFeD24jotu"
      },
      "outputs": [],
      "source": [
        "dados_imoveis.reset_index(drop=True, inplace=True)"
      ]
    },
    {
      "cell_type": "code",
      "execution_count": null,
      "metadata": {
        "colab": {
          "base_uri": "https://localhost:8080/"
        },
        "id": "nHtAN-MSjotv",
        "outputId": "14ed6468-696e-4e84-d37f-1bcbee120e84"
      },
      "outputs": [
        {
          "name": "stdout",
          "output_type": "stream",
          "text": [
            "<class 'pandas.core.frame.DataFrame'>\n",
            "RangeIndex: 69588 entries, 0 to 69587\n",
            "Columns: 21 entries, customerID to features_unitFloor\n",
            "dtypes: float64(2), int64(7), object(12)\n",
            "memory usage: 11.1+ MB\n"
          ]
        }
      ],
      "source": [
        "#mostrar o RangeIndex\n",
        "dados_imoveis.info(verbose=False)"
      ]
    },
    {
      "cell_type": "markdown",
      "metadata": {
        "id": "FK5pkHOFjotv"
      },
      "source": [
        "Agora está correto."
      ]
    },
    {
      "cell_type": "code",
      "execution_count": 13,
      "metadata": {
        "colab": {
          "base_uri": "https://localhost:8080/"
        },
        "id": "kdfx3P_yjotv",
        "outputId": "1d3f645f-7c81-4140-8bfc-062e78487380"
      },
      "outputs": [
        {
          "output_type": "stream",
          "name": "stdout",
          "text": [
            "<class 'pandas.core.frame.DataFrame'>\n",
            "Int64Index: 69588 entries, 0 to 73614\n",
            "Data columns (total 21 columns):\n",
            " #   Column                    Non-Null Count  Dtype  \n",
            "---  ------                    --------------  -----  \n",
            " 0   customerID                69588 non-null  object \n",
            " 1   source                    69588 non-null  object \n",
            " 2   types_unit                69588 non-null  object \n",
            " 3   types_usage               69588 non-null  object \n",
            " 4   address_city              69588 non-null  object \n",
            " 5   address_location_lon      69449 non-null  float64\n",
            " 6   address_location_lat      69449 non-null  float64\n",
            " 7   address_zone              69588 non-null  object \n",
            " 8   address_neighborhood      69588 non-null  object \n",
            " 9   prices_price              69588 non-null  float64\n",
            " 10  prices_tax_iptu           60863 non-null  float64\n",
            " 11  prices_tax_condo          63527 non-null  float64\n",
            " 12  features_bedrooms         69588 non-null  int64  \n",
            " 13  features_bathrooms        69588 non-null  int64  \n",
            " 14  features_suites           69588 non-null  int64  \n",
            " 15  features_parkingSpaces    69588 non-null  int64  \n",
            " 16  features_usableAreas      69588 non-null  int64  \n",
            " 17  features_totalAreas       69588 non-null  int64  \n",
            " 18  features_floors           69588 non-null  int64  \n",
            " 19  features_unitsOnTheFloor  69588 non-null  int64  \n",
            " 20  features_unitFloor        69588 non-null  int64  \n",
            "dtypes: float64(5), int64(9), object(7)\n",
            "memory usage: 11.7+ MB\n"
          ]
        }
      ],
      "source": [
        "dados_imoveis = dados_imoveis.astype({\n",
        "    'prices_price': 'float64',\n",
        "    'prices_tax_iptu': 'float64',\n",
        "    'prices_tax_condo': 'float64',\n",
        "    'features_usableAreas': 'int64',\n",
        "    'features_totalAreas': 'int64',\n",
        "})\n",
        "\n",
        "dados_imoveis.info()"
      ]
    },
    {
      "cell_type": "markdown",
      "metadata": {
        "id": "ZQZNqAgJjot2"
      },
      "source": [
        "## 1.5 - Tratamento de dados final"
      ]
    },
    {
      "cell_type": "markdown",
      "metadata": {
        "id": "kvIsnpG0jotw"
      },
      "source": [
        "### Lidando com dados nulos"
      ]
    },
    {
      "cell_type": "markdown",
      "metadata": {
        "id": "yaysvPw2jotw"
      },
      "source": [
        "#### Dados nulos zone"
      ]
    },
    {
      "cell_type": "code",
      "execution_count": 14,
      "metadata": {
        "colab": {
          "base_uri": "https://localhost:8080/"
        },
        "id": "MN9Pci0_jotw",
        "outputId": "4156cfc4-827a-439f-dbf3-3566dc6d6069"
      },
      "outputs": [
        {
          "output_type": "execute_result",
          "data": {
            "text/plain": [
              "Zona Oeste      35523\n",
              "Zona Sul        18535\n",
              "Zona Norte      14379\n",
              "Zona Central     1002\n",
              "                  149\n",
              "Name: address_zone, dtype: int64"
            ]
          },
          "metadata": {},
          "execution_count": 14
        }
      ],
      "source": [
        "dados_imoveis.address_zone.value_counts()"
      ]
    },
    {
      "cell_type": "code",
      "execution_count": 15,
      "metadata": {
        "id": "s2PoMPrNjotw"
      },
      "outputs": [],
      "source": [
        "dados_imoveis['address_zone'] = dados_imoveis['address_zone'].replace('', np.nan)"
      ]
    },
    {
      "cell_type": "code",
      "execution_count": 16,
      "metadata": {
        "colab": {
          "base_uri": "https://localhost:8080/"
        },
        "id": "lRRIa3M5jotx",
        "outputId": "04e8d362-4e68-4d62-ccf2-c034077abc74"
      },
      "outputs": [
        {
          "output_type": "execute_result",
          "data": {
            "text/plain": [
              "149"
            ]
          },
          "metadata": {},
          "execution_count": 16
        }
      ],
      "source": [
        "#verificação\n",
        "dados_imoveis.address_zone.isnull().sum()"
      ]
    },
    {
      "cell_type": "code",
      "execution_count": null,
      "metadata": {
        "colab": {
          "base_uri": "https://localhost:8080/",
          "height": 386
        },
        "id": "eiNv690Fjotx",
        "outputId": "d00ad8cc-2c4a-40ce-8213-91565dba32f8"
      },
      "outputs": [
        {
          "data": {
            "text/html": [
              "\n",
              "  <div id=\"df-39b00b39-dc77-4920-936c-54ff7e74b886\">\n",
              "    <div class=\"colab-df-container\">\n",
              "      <div>\n",
              "<style scoped>\n",
              "    .dataframe tbody tr th:only-of-type {\n",
              "        vertical-align: middle;\n",
              "    }\n",
              "\n",
              "    .dataframe tbody tr th {\n",
              "        vertical-align: top;\n",
              "    }\n",
              "\n",
              "    .dataframe thead th {\n",
              "        text-align: right;\n",
              "    }\n",
              "</style>\n",
              "<table border=\"1\" class=\"dataframe\">\n",
              "  <thead>\n",
              "    <tr style=\"text-align: right;\">\n",
              "      <th></th>\n",
              "      <th>customerID</th>\n",
              "      <th>source</th>\n",
              "      <th>types_unit</th>\n",
              "      <th>types_usage</th>\n",
              "      <th>address_city</th>\n",
              "      <th>address_location_lon</th>\n",
              "      <th>address_location_lat</th>\n",
              "      <th>address_zone</th>\n",
              "      <th>address_neighborhood</th>\n",
              "      <th>prices_price</th>\n",
              "      <th>...</th>\n",
              "      <th>prices_tax_condo</th>\n",
              "      <th>features_bedrooms</th>\n",
              "      <th>features_bathrooms</th>\n",
              "      <th>features_suites</th>\n",
              "      <th>features_parkingSpaces</th>\n",
              "      <th>features_usableAreas</th>\n",
              "      <th>features_totalAreas</th>\n",
              "      <th>features_floors</th>\n",
              "      <th>features_unitsOnTheFloor</th>\n",
              "      <th>features_unitFloor</th>\n",
              "    </tr>\n",
              "  </thead>\n",
              "  <tbody>\n",
              "    <tr>\n",
              "      <th>0</th>\n",
              "      <td>775564-BOJSMVON</td>\n",
              "      <td>Website</td>\n",
              "      <td>Outros</td>\n",
              "      <td>Residencial</td>\n",
              "      <td>Rio de Janeiro</td>\n",
              "      <td>-43.413557</td>\n",
              "      <td>-22.909429</td>\n",
              "      <td>Zona Oeste</td>\n",
              "      <td>Taquara</td>\n",
              "      <td>45000.0</td>\n",
              "      <td>...</td>\n",
              "      <td>150.0</td>\n",
              "      <td>0</td>\n",
              "      <td>0</td>\n",
              "      <td>0</td>\n",
              "      <td>1</td>\n",
              "      <td>62</td>\n",
              "      <td>62</td>\n",
              "      <td>0</td>\n",
              "      <td>0</td>\n",
              "      <td>0</td>\n",
              "    </tr>\n",
              "    <tr>\n",
              "      <th>1</th>\n",
              "      <td>660895-AUENKNYY</td>\n",
              "      <td>Website</td>\n",
              "      <td>Apartamento</td>\n",
              "      <td>Residencial</td>\n",
              "      <td>Rio de Janeiro</td>\n",
              "      <td>-43.509141</td>\n",
              "      <td>-22.869698</td>\n",
              "      <td>Zona Oeste</td>\n",
              "      <td>Santíssimo</td>\n",
              "      <td>45000.0</td>\n",
              "      <td>...</td>\n",
              "      <td>120.0</td>\n",
              "      <td>2</td>\n",
              "      <td>1</td>\n",
              "      <td>0</td>\n",
              "      <td>1</td>\n",
              "      <td>44</td>\n",
              "      <td>0</td>\n",
              "      <td>0</td>\n",
              "      <td>0</td>\n",
              "      <td>0</td>\n",
              "    </tr>\n",
              "    <tr>\n",
              "      <th>2</th>\n",
              "      <td>751522-JESYFEQL</td>\n",
              "      <td>Website</td>\n",
              "      <td>Outros</td>\n",
              "      <td>Residencial</td>\n",
              "      <td>Rio de Janeiro</td>\n",
              "      <td>-43.646786</td>\n",
              "      <td>-22.986927</td>\n",
              "      <td>Zona Oeste</td>\n",
              "      <td>Pedra de Guaratiba</td>\n",
              "      <td>50000.0</td>\n",
              "      <td>...</td>\n",
              "      <td>100.0</td>\n",
              "      <td>0</td>\n",
              "      <td>0</td>\n",
              "      <td>0</td>\n",
              "      <td>0</td>\n",
              "      <td>132</td>\n",
              "      <td>132</td>\n",
              "      <td>0</td>\n",
              "      <td>0</td>\n",
              "      <td>0</td>\n",
              "    </tr>\n",
              "    <tr>\n",
              "      <th>3</th>\n",
              "      <td>568886-ZIBFOMCC</td>\n",
              "      <td>Website</td>\n",
              "      <td>Apartamento</td>\n",
              "      <td>Residencial</td>\n",
              "      <td>Rio de Janeiro</td>\n",
              "      <td>-43.480742</td>\n",
              "      <td>-23.027653</td>\n",
              "      <td>Zona Oeste</td>\n",
              "      <td>Recreio dos Bandeirantes</td>\n",
              "      <td>50000.0</td>\n",
              "      <td>...</td>\n",
              "      <td>400.0</td>\n",
              "      <td>3</td>\n",
              "      <td>2</td>\n",
              "      <td>1</td>\n",
              "      <td>1</td>\n",
              "      <td>60</td>\n",
              "      <td>0</td>\n",
              "      <td>3</td>\n",
              "      <td>4</td>\n",
              "      <td>2</td>\n",
              "    </tr>\n",
              "    <tr>\n",
              "      <th>4</th>\n",
              "      <td>526755-OBLTYTEN</td>\n",
              "      <td>Website</td>\n",
              "      <td>Outros</td>\n",
              "      <td>Residencial</td>\n",
              "      <td>Rio de Janeiro</td>\n",
              "      <td>-43.571183</td>\n",
              "      <td>-22.966059</td>\n",
              "      <td>Zona Oeste</td>\n",
              "      <td>Guaratiba</td>\n",
              "      <td>50000.0</td>\n",
              "      <td>...</td>\n",
              "      <td>0.0</td>\n",
              "      <td>0</td>\n",
              "      <td>0</td>\n",
              "      <td>0</td>\n",
              "      <td>0</td>\n",
              "      <td>200</td>\n",
              "      <td>200</td>\n",
              "      <td>0</td>\n",
              "      <td>0</td>\n",
              "      <td>0</td>\n",
              "    </tr>\n",
              "  </tbody>\n",
              "</table>\n",
              "<p>5 rows × 21 columns</p>\n",
              "</div>\n",
              "      <button class=\"colab-df-convert\" onclick=\"convertToInteractive('df-39b00b39-dc77-4920-936c-54ff7e74b886')\"\n",
              "              title=\"Convert this dataframe to an interactive table.\"\n",
              "              style=\"display:none;\">\n",
              "        \n",
              "  <svg xmlns=\"http://www.w3.org/2000/svg\" height=\"24px\"viewBox=\"0 0 24 24\"\n",
              "       width=\"24px\">\n",
              "    <path d=\"M0 0h24v24H0V0z\" fill=\"none\"/>\n",
              "    <path d=\"M18.56 5.44l.94 2.06.94-2.06 2.06-.94-2.06-.94-.94-2.06-.94 2.06-2.06.94zm-11 1L8.5 8.5l.94-2.06 2.06-.94-2.06-.94L8.5 2.5l-.94 2.06-2.06.94zm10 10l.94 2.06.94-2.06 2.06-.94-2.06-.94-.94-2.06-.94 2.06-2.06.94z\"/><path d=\"M17.41 7.96l-1.37-1.37c-.4-.4-.92-.59-1.43-.59-.52 0-1.04.2-1.43.59L10.3 9.45l-7.72 7.72c-.78.78-.78 2.05 0 2.83L4 21.41c.39.39.9.59 1.41.59.51 0 1.02-.2 1.41-.59l7.78-7.78 2.81-2.81c.8-.78.8-2.07 0-2.86zM5.41 20L4 18.59l7.72-7.72 1.47 1.35L5.41 20z\"/>\n",
              "  </svg>\n",
              "      </button>\n",
              "      \n",
              "  <style>\n",
              "    .colab-df-container {\n",
              "      display:flex;\n",
              "      flex-wrap:wrap;\n",
              "      gap: 12px;\n",
              "    }\n",
              "\n",
              "    .colab-df-convert {\n",
              "      background-color: #E8F0FE;\n",
              "      border: none;\n",
              "      border-radius: 50%;\n",
              "      cursor: pointer;\n",
              "      display: none;\n",
              "      fill: #1967D2;\n",
              "      height: 32px;\n",
              "      padding: 0 0 0 0;\n",
              "      width: 32px;\n",
              "    }\n",
              "\n",
              "    .colab-df-convert:hover {\n",
              "      background-color: #E2EBFA;\n",
              "      box-shadow: 0px 1px 2px rgba(60, 64, 67, 0.3), 0px 1px 3px 1px rgba(60, 64, 67, 0.15);\n",
              "      fill: #174EA6;\n",
              "    }\n",
              "\n",
              "    [theme=dark] .colab-df-convert {\n",
              "      background-color: #3B4455;\n",
              "      fill: #D2E3FC;\n",
              "    }\n",
              "\n",
              "    [theme=dark] .colab-df-convert:hover {\n",
              "      background-color: #434B5C;\n",
              "      box-shadow: 0px 1px 3px 1px rgba(0, 0, 0, 0.15);\n",
              "      filter: drop-shadow(0px 1px 2px rgba(0, 0, 0, 0.3));\n",
              "      fill: #FFFFFF;\n",
              "    }\n",
              "  </style>\n",
              "\n",
              "      <script>\n",
              "        const buttonEl =\n",
              "          document.querySelector('#df-39b00b39-dc77-4920-936c-54ff7e74b886 button.colab-df-convert');\n",
              "        buttonEl.style.display =\n",
              "          google.colab.kernel.accessAllowed ? 'block' : 'none';\n",
              "\n",
              "        async function convertToInteractive(key) {\n",
              "          const element = document.querySelector('#df-39b00b39-dc77-4920-936c-54ff7e74b886');\n",
              "          const dataTable =\n",
              "            await google.colab.kernel.invokeFunction('convertToInteractive',\n",
              "                                                     [key], {});\n",
              "          if (!dataTable) return;\n",
              "\n",
              "          const docLinkHtml = 'Like what you see? Visit the ' +\n",
              "            '<a target=\"_blank\" href=https://colab.research.google.com/notebooks/data_table.ipynb>data table notebook</a>'\n",
              "            + ' to learn more about interactive tables.';\n",
              "          element.innerHTML = '';\n",
              "          dataTable['output_type'] = 'display_data';\n",
              "          await google.colab.output.renderOutput(dataTable, element);\n",
              "          const docLink = document.createElement('div');\n",
              "          docLink.innerHTML = docLinkHtml;\n",
              "          element.appendChild(docLink);\n",
              "        }\n",
              "      </script>\n",
              "    </div>\n",
              "  </div>\n",
              "  "
            ],
            "text/plain": [
              "        customerID   source   types_unit  types_usage    address_city  \\\n",
              "0  775564-BOJSMVON  Website       Outros  Residencial  Rio de Janeiro   \n",
              "1  660895-AUENKNYY  Website  Apartamento  Residencial  Rio de Janeiro   \n",
              "2  751522-JESYFEQL  Website       Outros  Residencial  Rio de Janeiro   \n",
              "3  568886-ZIBFOMCC  Website  Apartamento  Residencial  Rio de Janeiro   \n",
              "4  526755-OBLTYTEN  Website       Outros  Residencial  Rio de Janeiro   \n",
              "\n",
              "   address_location_lon  address_location_lat address_zone  \\\n",
              "0            -43.413557            -22.909429   Zona Oeste   \n",
              "1            -43.509141            -22.869698   Zona Oeste   \n",
              "2            -43.646786            -22.986927   Zona Oeste   \n",
              "3            -43.480742            -23.027653   Zona Oeste   \n",
              "4            -43.571183            -22.966059   Zona Oeste   \n",
              "\n",
              "       address_neighborhood  prices_price  ...  prices_tax_condo  \\\n",
              "0                   Taquara       45000.0  ...             150.0   \n",
              "1                Santíssimo       45000.0  ...             120.0   \n",
              "2        Pedra de Guaratiba       50000.0  ...             100.0   \n",
              "3  Recreio dos Bandeirantes       50000.0  ...             400.0   \n",
              "4                 Guaratiba       50000.0  ...               0.0   \n",
              "\n",
              "   features_bedrooms  features_bathrooms  features_suites  \\\n",
              "0                  0                   0                0   \n",
              "1                  2                   1                0   \n",
              "2                  0                   0                0   \n",
              "3                  3                   2                1   \n",
              "4                  0                   0                0   \n",
              "\n",
              "   features_parkingSpaces  features_usableAreas  features_totalAreas  \\\n",
              "0                       1                    62                   62   \n",
              "1                       1                    44                    0   \n",
              "2                       0                   132                  132   \n",
              "3                       1                    60                    0   \n",
              "4                       0                   200                  200   \n",
              "\n",
              "   features_floors  features_unitsOnTheFloor  features_unitFloor  \n",
              "0                0                         0                   0  \n",
              "1                0                         0                   0  \n",
              "2                0                         0                   0  \n",
              "3                3                         4                   2  \n",
              "4                0                         0                   0  \n",
              "\n",
              "[5 rows x 21 columns]"
            ]
          },
          "execution_count": 18,
          "metadata": {},
          "output_type": "execute_result"
        }
      ],
      "source": [
        "#relação zona com bairro\n",
        "dados_imoveis.head()"
      ]
    },
    {
      "cell_type": "code",
      "execution_count": null,
      "metadata": {
        "colab": {
          "base_uri": "https://localhost:8080/"
        },
        "id": "WQodJOf3joty",
        "outputId": "8d451269-f071-465f-dc3e-b3d772588577"
      },
      "outputs": [
        {
          "name": "stdout",
          "output_type": "stream",
          "text": [
            "[{'customerID': '775564-BOJSMVON', 'source': 'Website', 'types_unit': 'Outros', 'types_usage': 'Residencial', 'address_city': 'Rio de Janeiro', 'address_location_lon': -43.413557, 'address_location_lat': -22.909429, 'address_zone': 'Zona Oeste', 'address_neighborhood': 'Taquara', 'prices_price': 45000.0, 'prices_tax_iptu': 0.0, 'prices_tax_condo': 150.0, 'features_bedrooms': 0, 'features_bathrooms': 0, 'features_suites': 0, 'features_parkingSpaces': 1, 'features_usableAreas': 62, 'features_totalAreas': 62, 'features_floors': 0, 'features_unitsOnTheFloor': 0, 'features_unitFloor': 0}, {'customerID': '660895-AUENKNYY', 'source': 'Website', 'types_unit': 'Apartamento', 'types_usage': 'Residencial', 'address_city': 'Rio de Janeiro', 'address_location_lon': -43.509141, 'address_location_lat': -22.869698, 'address_zone': 'Zona Oeste', 'address_neighborhood': 'Santíssimo', 'prices_price': 45000.0, 'prices_tax_iptu': 0.0, 'prices_tax_condo': 120.0, 'features_bedrooms': 2, 'features_bathrooms': 1, 'features_suites': 0, 'features_parkingSpaces': 1, 'features_usableAreas': 44, 'features_totalAreas': 0, 'features_floors': 0, 'features_unitsOnTheFloor': 0, 'features_unitFloor': 0}, {'customerID': '751522-JESYFEQL', 'source': 'Website', 'types_unit': 'Outros', 'types_usage': 'Residencial', 'address_city': 'Rio de Janeiro', 'address_location_lon': -43.646786, 'address_location_lat': -22.986927, 'address_zone': 'Zona Oeste', 'address_neighborhood': 'Pedra de Guaratiba', 'prices_price': 50000.0, 'prices_tax_iptu': 0.0, 'prices_tax_condo': 100.0, 'features_bedrooms': 0, 'features_bathrooms': 0, 'features_suites': 0, 'features_parkingSpaces': 0, 'features_usableAreas': 132, 'features_totalAreas': 132, 'features_floors': 0, 'features_unitsOnTheFloor': 0, 'features_unitFloor': 0}, {'customerID': '568886-ZIBFOMCC', 'source': 'Website', 'types_unit': 'Apartamento', 'types_usage': 'Residencial', 'address_city': 'Rio de Janeiro', 'address_location_lon': -43.480742, 'address_location_lat': -23.027653, 'address_zone': 'Zona Oeste', 'address_neighborhood': 'Recreio dos Bandeirantes', 'prices_price': 50000.0, 'prices_tax_iptu': 120.0, 'prices_tax_condo': 400.0, 'features_bedrooms': 3, 'features_bathrooms': 2, 'features_suites': 1, 'features_parkingSpaces': 1, 'features_usableAreas': 60, 'features_totalAreas': 0, 'features_floors': 3, 'features_unitsOnTheFloor': 4, 'features_unitFloor': 2}, {'customerID': '526755-OBLTYTEN', 'source': 'Website', 'types_unit': 'Outros', 'types_usage': 'Residencial', 'address_city': 'Rio de Janeiro', 'address_location_lon': -43.571183, 'address_location_lat': -22.966059, 'address_zone': 'Zona Oeste', 'address_neighborhood': 'Guaratiba', 'prices_price': 50000.0, 'prices_tax_iptu': nan, 'prices_tax_condo': 0.0, 'features_bedrooms': 0, 'features_bathrooms': 0, 'features_suites': 0, 'features_parkingSpaces': 0, 'features_usableAreas': 200, 'features_totalAreas': 200, 'features_floors': 0, 'features_unitsOnTheFloor': 0, 'features_unitFloor': 0}, {'customerID': '792086-NWNQTDYL', 'source': 'Website', 'types_unit': 'Apartamento', 'types_usage': 'Residencial', 'address_city': 'Rio de Janeiro', 'address_location_lon': -43.253044, 'address_location_lat': -22.885306, 'address_zone': 'Zona Norte', 'address_neighborhood': 'Jacarezinho', 'prices_price': 45336.0, 'prices_tax_iptu': 0.0, 'prices_tax_condo': 0.0, 'features_bedrooms': 1, 'features_bathrooms': 1, 'features_suites': 0, 'features_parkingSpaces': 1, 'features_usableAreas': 33, 'features_totalAreas': 35, 'features_floors': 0, 'features_unitsOnTheFloor': 0, 'features_unitFloor': 0}, {'customerID': '952338-SVULQMXR', 'source': 'Website', 'types_unit': 'Outros', 'types_usage': 'Residencial', 'address_city': 'Rio de Janeiro', 'address_location_lon': -43.651456, 'address_location_lat': -22.877982, 'address_zone': 'Zona Oeste', 'address_neighborhood': 'Santa Cruz', 'prices_price': 45000.0, 'prices_tax_iptu': 0.0, 'prices_tax_condo': 0.0, 'features_bedrooms': 0, 'features_bathrooms': 0, 'features_suites': 0, 'features_parkingSpaces': 0, 'features_usableAreas': 468, 'features_totalAreas': 468, 'features_floors': 0, 'features_unitsOnTheFloor': 0, 'features_unitFloor': 0}, {'customerID': '570439-LDICQOXZ', 'source': 'Website', 'types_unit': 'Outros', 'types_usage': 'Residencial', 'address_city': 'Rio de Janeiro', 'address_location_lon': -43.504337, 'address_location_lat': -22.998183, 'address_zone': 'Zona Oeste', 'address_neighborhood': 'Vargem Grande', 'prices_price': 50000.0, 'prices_tax_iptu': 0.0, 'prices_tax_condo': 0.0, 'features_bedrooms': 0, 'features_bathrooms': 0, 'features_suites': 0, 'features_parkingSpaces': 0, 'features_usableAreas': 180, 'features_totalAreas': 180, 'features_floors': 0, 'features_unitsOnTheFloor': 0, 'features_unitFloor': 1}, {'customerID': '684023-YTBNKLLO', 'source': 'Website', 'types_unit': 'Outros', 'types_usage': 'Residencial', 'address_city': 'Rio de Janeiro', 'address_location_lon': -43.512464, 'address_location_lat': -22.843794, 'address_zone': 'Zona Oeste', 'address_neighborhood': 'Bangu', 'prices_price': 50000.0, 'prices_tax_iptu': 0.0, 'prices_tax_condo': 0.0, 'features_bedrooms': 0, 'features_bathrooms': 0, 'features_suites': 0, 'features_parkingSpaces': 0, 'features_usableAreas': 128, 'features_totalAreas': 128, 'features_floors': 0, 'features_unitsOnTheFloor': 0, 'features_unitFloor': 0}, {'customerID': '629412-VKUMMAVR', 'source': 'Website', 'types_unit': 'Outros', 'types_usage': 'Residencial', 'address_city': 'Rio de Janeiro', 'address_location_lon': -43.37182, 'address_location_lat': -22.91077, 'address_zone': 'Zona Oeste', 'address_neighborhood': 'Tanque', 'prices_price': 45000.0, 'prices_tax_iptu': 0.0, 'prices_tax_condo': 300.0, 'features_bedrooms': 0, 'features_bathrooms': 0, 'features_suites': 0, 'features_parkingSpaces': 0, 'features_usableAreas': 82, 'features_totalAreas': 82, 'features_floors': 0, 'features_unitsOnTheFloor': 0, 'features_unitFloor': 1}, {'customerID': '951104-MACIAPIS', 'source': 'Website', 'types_unit': 'Apartamento', 'types_usage': 'Residencial', 'address_city': 'Rio de Janeiro', 'address_location_lon': -43.201575, 'address_location_lat': -22.897014, 'address_zone': 'Zona Central', 'address_neighborhood': 'Santo Cristo', 'prices_price': 45000.0, 'prices_tax_iptu': 120.0, 'prices_tax_condo': 350.0, 'features_bedrooms': 3, 'features_bathrooms': 2, 'features_suites': 1, 'features_parkingSpaces': 1, 'features_usableAreas': 70, 'features_totalAreas': 0, 'features_floors': 20, 'features_unitsOnTheFloor': 19, 'features_unitFloor': 20}, {'customerID': '037953-VZOABKON', 'source': 'Website', 'types_unit': 'Apartamento', 'types_usage': 'Residencial', 'address_city': 'Rio de Janeiro', 'address_location_lon': -43.349937, 'address_location_lat': -22.826422, 'address_zone': 'Zona Norte', 'address_neighborhood': 'Coelho Neto', 'prices_price': 45000.0, 'prices_tax_iptu': 0.0, 'prices_tax_condo': nan, 'features_bedrooms': 2, 'features_bathrooms': 1, 'features_suites': 0, 'features_parkingSpaces': 1, 'features_usableAreas': 30, 'features_totalAreas': 38, 'features_floors': 0, 'features_unitsOnTheFloor': 0, 'features_unitFloor': 0}, {'customerID': '076685-DTBPTHTT', 'source': 'Website', 'types_unit': 'Outros', 'types_usage': 'Residencial', 'address_city': 'Rio de Janeiro', 'address_location_lon': -43.360071, 'address_location_lat': -22.870156, 'address_zone': 'Zona Norte', 'address_neighborhood': 'Bento Ribeiro', 'prices_price': 50000.0, 'prices_tax_iptu': 0.0, 'prices_tax_condo': 0.0, 'features_bedrooms': 1, 'features_bathrooms': 1, 'features_suites': 1, 'features_parkingSpaces': 0, 'features_usableAreas': 45, 'features_totalAreas': 45, 'features_floors': 0, 'features_unitsOnTheFloor': 0, 'features_unitFloor': 3}, {'customerID': '524997-BJRFHJFA', 'source': 'Website', 'types_unit': 'Outros', 'types_usage': 'Residencial', 'address_city': 'Rio de Janeiro', 'address_location_lon': -43.573923, 'address_location_lat': -22.928984, 'address_zone': 'Zona Oeste', 'address_neighborhood': 'Campo Grande', 'prices_price': 45000.0, 'prices_tax_iptu': 150.0, 'prices_tax_condo': 0.0, 'features_bedrooms': 0, 'features_bathrooms': 0, 'features_suites': 0, 'features_parkingSpaces': 0, 'features_usableAreas': 0, 'features_totalAreas': 0, 'features_floors': 0, 'features_unitsOnTheFloor': 0, 'features_unitFloor': 0}, {'customerID': '808989-TTALJSQZ', 'source': 'Website', 'types_unit': 'Outros', 'types_usage': 'Residencial', 'address_city': 'Rio de Janeiro', 'address_location_lon': -43.35335, 'address_location_lat': -22.873057, 'address_zone': 'Zona Norte', 'address_neighborhood': 'Oswaldo Cruz', 'prices_price': 50000.0, 'prices_tax_iptu': 1.0, 'prices_tax_condo': 1.0, 'features_bedrooms': 1, 'features_bathrooms': 1, 'features_suites': 0, 'features_parkingSpaces': 0, 'features_usableAreas': 40, 'features_totalAreas': 40, 'features_floors': 0, 'features_unitsOnTheFloor': 0, 'features_unitFloor': 0}, {'customerID': '315170-FHAZXKXI', 'source': 'Website', 'types_unit': 'Apartamento', 'types_usage': 'Residencial', 'address_city': 'Rio de Janeiro', 'address_location_lon': -43.428833, 'address_location_lat': -22.984799, 'address_zone': 'Zona Oeste', 'address_neighborhood': 'Camorim', 'prices_price': 50000.0, 'prices_tax_iptu': 0.0, 'prices_tax_condo': 0.0, 'features_bedrooms': 2, 'features_bathrooms': 1, 'features_suites': 0, 'features_parkingSpaces': 0, 'features_usableAreas': 60, 'features_totalAreas': 60, 'features_floors': 0, 'features_unitsOnTheFloor': 0, 'features_unitFloor': 0}, {'customerID': '597728-IAGBYKUE', 'source': 'Website', 'types_unit': 'Outros', 'types_usage': 'Residencial', 'address_city': 'Rio de Janeiro', 'address_location_lon': -43.695709, 'address_location_lat': -22.969253, 'address_zone': 'Zona Oeste', 'address_neighborhood': 'Sepetiba', 'prices_price': 45000.0, 'prices_tax_iptu': 0.0, 'prices_tax_condo': 0.0, 'features_bedrooms': 0, 'features_bathrooms': 0, 'features_suites': 0, 'features_parkingSpaces': 0, 'features_usableAreas': 0, 'features_totalAreas': 0, 'features_floors': 0, 'features_unitsOnTheFloor': 0, 'features_unitFloor': 0}, {'customerID': '837728-ZTMXBNLS', 'source': 'Website', 'types_unit': 'Apartamento', 'types_usage': 'Residencial', 'address_city': 'Rio de Janeiro', 'address_location_lon': -43.302529, 'address_location_lat': -22.815365, 'address_zone': 'Zona Norte', 'address_neighborhood': 'Vigário Geral', 'prices_price': 60000.0, 'prices_tax_iptu': 0.0, 'prices_tax_condo': 0.0, 'features_bedrooms': 2, 'features_bathrooms': 1, 'features_suites': 0, 'features_parkingSpaces': 0, 'features_usableAreas': 72, 'features_totalAreas': 0, 'features_floors': 0, 'features_unitsOnTheFloor': 0, 'features_unitFloor': 0}, {'customerID': '078122-LOOOLWOV', 'source': 'Website', 'types_unit': 'Casa', 'types_usage': 'Residencial', 'address_city': 'Rio de Janeiro', 'address_location_lon': -43.344722, 'address_location_lat': -22.888556, 'address_zone': 'Zona Norte', 'address_neighborhood': 'Campinho', 'prices_price': 50250.0, 'prices_tax_iptu': 0.0, 'prices_tax_condo': 0.0, 'features_bedrooms': 3, 'features_bathrooms': 1, 'features_suites': 2, 'features_parkingSpaces': 2, 'features_usableAreas': 105, 'features_totalAreas': 120, 'features_floors': 0, 'features_unitsOnTheFloor': 0, 'features_unitFloor': 1}, {'customerID': '366507-AJJVGRXY', 'source': 'Website', 'types_unit': 'Casa', 'types_usage': 'Residencial', 'address_city': 'Rio de Janeiro', 'address_location_lon': -43.415601, 'address_location_lat': -22.882122, 'address_zone': 'Zona Oeste', 'address_neighborhood': 'Realengo', 'prices_price': 60000.0, 'prices_tax_iptu': 0.0, 'prices_tax_condo': 0.0, 'features_bedrooms': 2, 'features_bathrooms': 1, 'features_suites': 0, 'features_parkingSpaces': 0, 'features_usableAreas': 110, 'features_totalAreas': 0, 'features_floors': 0, 'features_unitsOnTheFloor': 0, 'features_unitFloor': 0}, {'customerID': '597650-DPPRERLT', 'source': 'Website', 'types_unit': 'Casa', 'types_usage': 'Residencial', 'address_city': 'Rio de Janeiro', 'address_location_lon': -43.384838, 'address_location_lat': -22.936227, 'address_zone': 'Zona Oeste', 'address_neighborhood': 'Jacarepaguá', 'prices_price': 60000.0, 'prices_tax_iptu': 0.0, 'prices_tax_condo': 0.0, 'features_bedrooms': 2, 'features_bathrooms': 2, 'features_suites': 0, 'features_parkingSpaces': 0, 'features_usableAreas': 70, 'features_totalAreas': 0, 'features_floors': 3, 'features_unitsOnTheFloor': 1, 'features_unitFloor': 3}, {'customerID': '700359-CRHVVJAG', 'source': 'Website', 'types_unit': 'Apartamento', 'types_usage': 'Residencial', 'address_city': 'Rio de Janeiro', 'address_location_lon': -43.362406, 'address_location_lat': -22.943739, 'address_zone': 'Zona Oeste', 'address_neighborhood': 'Cidade de Deus', 'prices_price': 59900.0, 'prices_tax_iptu': nan, 'prices_tax_condo': 70.0, 'features_bedrooms': 1, 'features_bathrooms': 1, 'features_suites': 0, 'features_parkingSpaces': 1, 'features_usableAreas': 35, 'features_totalAreas': 35, 'features_floors': 2, 'features_unitsOnTheFloor': 0, 'features_unitFloor': 2}, {'customerID': '027496-AAXNHOTM', 'source': 'Website', 'types_unit': 'Casa', 'types_usage': 'Residencial', 'address_city': 'Rio de Janeiro', 'address_location_lon': -43.35646, 'address_location_lat': -22.843824, 'address_zone': 'Zona Norte', 'address_neighborhood': 'Honório Gurgel', 'prices_price': 60000.0, 'prices_tax_iptu': 0.0, 'prices_tax_condo': nan, 'features_bedrooms': 1, 'features_bathrooms': 1, 'features_suites': 0, 'features_parkingSpaces': 0, 'features_usableAreas': 50, 'features_totalAreas': 50, 'features_floors': 0, 'features_unitsOnTheFloor': 0, 'features_unitFloor': 0}, {'customerID': '746672-ORGYUCGY', 'source': 'Website', 'types_unit': 'Apartamento', 'types_usage': 'Residencial', 'address_city': 'Rio de Janeiro', 'address_location_lon': -43.187231, 'address_location_lat': -22.906049, 'address_zone': 'Zona Central', 'address_neighborhood': 'Centro', 'prices_price': 60000.0, 'prices_tax_iptu': 0.0, 'prices_tax_condo': 600.0, 'features_bedrooms': 0, 'features_bathrooms': 1, 'features_suites': 0, 'features_parkingSpaces': 0, 'features_usableAreas': 19, 'features_totalAreas': 0, 'features_floors': 12, 'features_unitsOnTheFloor': 0, 'features_unitFloor': 3}, {'customerID': '033467-BKAXBNVM', 'source': 'Website', 'types_unit': 'Apartamento', 'types_usage': 'Residencial', 'address_city': 'Rio de Janeiro', 'address_location_lon': -43.62963, 'address_location_lat': -22.88773, 'address_zone': 'Zona Oeste', 'address_neighborhood': 'Cosmos', 'prices_price': 64968.0, 'prices_tax_iptu': 0.0, 'prices_tax_condo': 0.0, 'features_bedrooms': 2, 'features_bathrooms': 1, 'features_suites': 0, 'features_parkingSpaces': 0, 'features_usableAreas': 42, 'features_totalAreas': 0, 'features_floors': 0, 'features_unitsOnTheFloor': 0, 'features_unitFloor': 0}, {'customerID': '322557-ASMFHPLM', 'source': 'Website', 'types_unit': 'Apartamento', 'types_usage': 'Residencial', 'address_city': 'Rio de Janeiro', 'address_location_lon': -43.303957, 'address_location_lat': -22.869196, 'address_zone': 'Zona Norte', 'address_neighborhood': 'Tomás Coelho', 'prices_price': 70000.0, 'prices_tax_iptu': 32.0, 'prices_tax_condo': 300.0, 'features_bedrooms': 2, 'features_bathrooms': 1, 'features_suites': 0, 'features_parkingSpaces': 1, 'features_usableAreas': 60, 'features_totalAreas': 60, 'features_floors': 4, 'features_unitsOnTheFloor': 4, 'features_unitFloor': 1}, {'customerID': '262188-OVYTDJCH', 'source': 'Website', 'types_unit': 'Apartamento', 'types_usage': 'Residencial', 'address_city': 'Rio de Janeiro', 'address_location_lon': -43.324988, 'address_location_lat': -22.885805, 'address_zone': 'Zona Norte', 'address_neighborhood': 'Cascadura', 'prices_price': 70000.0, 'prices_tax_iptu': 0.0, 'prices_tax_condo': nan, 'features_bedrooms': 2, 'features_bathrooms': 2, 'features_suites': 0, 'features_parkingSpaces': 0, 'features_usableAreas': 34, 'features_totalAreas': 34, 'features_floors': 0, 'features_unitsOnTheFloor': 0, 'features_unitFloor': 0}, {'customerID': '864441-VOKAUJKK', 'source': 'Website', 'types_unit': 'Apartamento', 'types_usage': 'Residencial', 'address_city': 'Rio de Janeiro', 'address_location_lon': -43.376953, 'address_location_lat': -22.81583, 'address_zone': 'Zona Norte', 'address_neighborhood': 'Pavuna', 'prices_price': 65000.0, 'prices_tax_iptu': 0.0, 'prices_tax_condo': 250.0, 'features_bedrooms': 2, 'features_bathrooms': 1, 'features_suites': 0, 'features_parkingSpaces': 1, 'features_usableAreas': 55, 'features_totalAreas': 0, 'features_floors': 4, 'features_unitsOnTheFloor': 0, 'features_unitFloor': 0}, {'customerID': '530165-ZGXJPOYI', 'source': 'Website', 'types_unit': 'Apartamento', 'types_usage': 'Residencial', 'address_city': 'Rio de Janeiro', 'address_location_lon': -43.630792, 'address_location_lat': -22.882398, 'address_zone': 'Zona Oeste', 'address_neighborhood': 'Paciência', 'prices_price': 70000.0, 'prices_tax_iptu': 0.0, 'prices_tax_condo': 95.0, 'features_bedrooms': 2, 'features_bathrooms': 1, 'features_suites': 0, 'features_parkingSpaces': 1, 'features_usableAreas': 40, 'features_totalAreas': 40, 'features_floors': 5, 'features_unitsOnTheFloor': 4, 'features_unitFloor': 0}, {'customerID': '200345-XTAQVQMM', 'source': 'Website', 'types_unit': 'Apartamento', 'types_usage': 'Residencial', 'address_city': 'Rio de Janeiro', 'address_location_lon': -43.345745, 'address_location_lat': -22.903359, 'address_zone': 'Zona Oeste', 'address_neighborhood': 'Praça Seca', 'prices_price': 65000.0, 'prices_tax_iptu': nan, 'prices_tax_condo': 275.0, 'features_bedrooms': 1, 'features_bathrooms': 1, 'features_suites': 0, 'features_parkingSpaces': 1, 'features_usableAreas': 30, 'features_totalAreas': 30, 'features_floors': 0, 'features_unitsOnTheFloor': 0, 'features_unitFloor': 0}, {'customerID': '767954-LNRQNJHN', 'source': 'Website', 'types_unit': 'Apartamento', 'types_usage': 'Residencial', 'address_city': 'Rio de Janeiro', 'address_location_lon': -43.364735, 'address_location_lat': -22.89446, 'address_zone': 'Zona Oeste', 'address_neighborhood': 'Vila Valqueire', 'prices_price': 65000.0, 'prices_tax_iptu': nan, 'prices_tax_condo': nan, 'features_bedrooms': 1, 'features_bathrooms': 1, 'features_suites': 0, 'features_parkingSpaces': 0, 'features_usableAreas': 48, 'features_totalAreas': 48, 'features_floors': 0, 'features_unitsOnTheFloor': 0, 'features_unitFloor': 0}, {'customerID': '163202-SKWHNBJO', 'source': 'Website', 'types_unit': 'Apartamento', 'types_usage': 'Residencial', 'address_city': 'Rio de Janeiro', 'address_location_lon': -43.583425, 'address_location_lat': -22.912013, 'address_zone': 'Zona Oeste', 'address_neighborhood': 'Inhoaíba', 'prices_price': 65000.0, 'prices_tax_iptu': 0.0, 'prices_tax_condo': 0.0, 'features_bedrooms': 2, 'features_bathrooms': 1, 'features_suites': 0, 'features_parkingSpaces': 1, 'features_usableAreas': 43, 'features_totalAreas': 0, 'features_floors': 0, 'features_unitsOnTheFloor': 0, 'features_unitFloor': 0}, {'customerID': '483218-QIPTUQMZ', 'source': 'Website', 'types_unit': 'Apartamento', 'types_usage': 'Residencial', 'address_city': 'Rio de Janeiro', 'address_location_lon': -43.31462, 'address_location_lat': -22.85625, 'address_zone': 'Zona Norte', 'address_neighborhood': 'Vicente de Carvalho', 'prices_price': 70000.0, 'prices_tax_iptu': 0.0, 'prices_tax_condo': 0.0, 'features_bedrooms': 1, 'features_bathrooms': 1, 'features_suites': 0, 'features_parkingSpaces': 0, 'features_usableAreas': 42, 'features_totalAreas': 42, 'features_floors': 0, 'features_unitsOnTheFloor': 0, 'features_unitFloor': 0}, {'customerID': '949715-ODFLQCYM', 'source': 'Website', 'types_unit': 'Casa', 'types_usage': 'Residencial', 'address_city': 'Rio de Janeiro', 'address_location_lon': -43.53603, 'address_location_lat': -22.894516, 'address_zone': 'Zona Oeste', 'address_neighborhood': 'Senador Vasconcelos', 'prices_price': 70000.0, 'prices_tax_iptu': 0.0, 'prices_tax_condo': 0.0, 'features_bedrooms': 1, 'features_bathrooms': 1, 'features_suites': 0, 'features_parkingSpaces': 0, 'features_usableAreas': 45, 'features_totalAreas': 65, 'features_floors': 0, 'features_unitsOnTheFloor': 0, 'features_unitFloor': 0}, {'customerID': '180611-HKKHHKXG', 'source': 'Website', 'types_unit': 'Apartamento', 'types_usage': 'Residencial', 'address_city': 'Rio de Janeiro', 'address_location_lon': -43.340632, 'address_location_lat': -22.858242, 'address_zone': 'Zona Norte', 'address_neighborhood': 'Turiaçu', 'prices_price': 73952.0, 'prices_tax_iptu': 0.0, 'prices_tax_condo': 0.0, 'features_bedrooms': 2, 'features_bathrooms': 1, 'features_suites': 0, 'features_parkingSpaces': 0, 'features_usableAreas': 49, 'features_totalAreas': 0, 'features_floors': 0, 'features_unitsOnTheFloor': 0, 'features_unitFloor': 3}, {'customerID': '581194-RTJNKZGX', 'source': 'Website', 'types_unit': 'Apartamento', 'types_usage': 'Residencial', 'address_city': 'Rio de Janeiro', 'address_location_lon': -43.287576, 'address_location_lat': -22.837859, 'address_zone': 'Zona Norte', 'address_neighborhood': 'Penha Circular', 'prices_price': 75000.0, 'prices_tax_iptu': 0.0, 'prices_tax_condo': 350.0, 'features_bedrooms': 2, 'features_bathrooms': 1, 'features_suites': 0, 'features_parkingSpaces': 0, 'features_usableAreas': 75, 'features_totalAreas': 75, 'features_floors': 0, 'features_unitsOnTheFloor': 0, 'features_unitFloor': 4}, {'customerID': '603828-PMOQKWHE', 'source': 'Website', 'types_unit': 'Apartamento', 'types_usage': 'Residencial', 'address_city': 'Rio de Janeiro', 'address_location_lon': -43.319648, 'address_location_lat': -22.895935, 'address_zone': 'Zona Norte', 'address_neighborhood': 'Quintino Bocaiúva', 'prices_price': 75000.0, 'prices_tax_iptu': 0.0, 'prices_tax_condo': 0.0, 'features_bedrooms': 1, 'features_bathrooms': 1, 'features_suites': 0, 'features_parkingSpaces': 1, 'features_usableAreas': 55, 'features_totalAreas': 55, 'features_floors': 2, 'features_unitsOnTheFloor': 1, 'features_unitFloor': 0}, {'customerID': '781886-BKWQWOUK', 'source': 'Website', 'types_unit': 'Apartamento', 'types_usage': 'Residencial', 'address_city': 'Rio de Janeiro', 'address_location_lon': -43.261999, 'address_location_lat': -22.901417, 'address_zone': 'Zona Norte', 'address_neighborhood': 'Sampaio', 'prices_price': 75000.0, 'prices_tax_iptu': 0.0, 'prices_tax_condo': 0.0, 'features_bedrooms': 2, 'features_bathrooms': 1, 'features_suites': 0, 'features_parkingSpaces': 0, 'features_usableAreas': 65, 'features_totalAreas': 65, 'features_floors': 0, 'features_unitsOnTheFloor': 0, 'features_unitFloor': 0}, {'customerID': '589782-TPCRCISK', 'source': 'Website', 'types_unit': 'Apartamento', 'types_usage': 'Residencial', 'address_city': 'Rio de Janeiro', 'address_location_lon': -43.310236, 'address_location_lat': -22.885478, 'address_zone': 'Zona Norte', 'address_neighborhood': 'Piedade', 'prices_price': 79580.0, 'prices_tax_iptu': 64.0, 'prices_tax_condo': 180.0, 'features_bedrooms': 1, 'features_bathrooms': 1, 'features_suites': 0, 'features_parkingSpaces': 0, 'features_usableAreas': 26, 'features_totalAreas': 26, 'features_floors': 3, 'features_unitsOnTheFloor': 27, 'features_unitFloor': 3}, {'customerID': '869146-NQCRYADE', 'source': 'Website', 'types_unit': 'Apartamento', 'types_usage': 'Residencial', 'address_city': 'Rio de Janeiro', 'address_location_lon': -43.300698, 'address_location_lat': -22.835584, 'address_zone': 'Zona Norte', 'address_neighborhood': 'Braz de Pina', 'prices_price': 75000.0, 'prices_tax_iptu': 0.0, 'prices_tax_condo': 60.0, 'features_bedrooms': 2, 'features_bathrooms': 1, 'features_suites': 0, 'features_parkingSpaces': 1, 'features_usableAreas': 40, 'features_totalAreas': 40, 'features_floors': 0, 'features_unitsOnTheFloor': 0, 'features_unitFloor': 5}, {'customerID': '493557-TPVGRKVH', 'source': 'Website', 'types_unit': 'Outros', 'types_usage': 'Residencial', 'address_city': 'Rio de Janeiro', 'address_location_lon': -43.219029, 'address_location_lat': -22.892591, 'address_zone': 'Zona Norte', 'address_neighborhood': 'São Cristóvão', 'prices_price': 78000.0, 'prices_tax_iptu': 0.0, 'prices_tax_condo': 0.0, 'features_bedrooms': 0, 'features_bathrooms': 0, 'features_suites': 0, 'features_parkingSpaces': 0, 'features_usableAreas': 4, 'features_totalAreas': 4, 'features_floors': 0, 'features_unitsOnTheFloor': 0, 'features_unitFloor': 0}, {'customerID': '328969-JBLENNEA', 'source': 'Website', 'types_unit': 'Outros', 'types_usage': 'Residencial', 'address_city': 'Rio de Janeiro', 'address_location_lon': -43.362711, 'address_location_lat': -22.85344, 'address_zone': 'Zona Norte', 'address_neighborhood': 'Marechal Hermes', 'prices_price': 79990.0, 'prices_tax_iptu': 0.0, 'prices_tax_condo': 0.0, 'features_bedrooms': 0, 'features_bathrooms': 0, 'features_suites': 0, 'features_parkingSpaces': 0, 'features_usableAreas': 800, 'features_totalAreas': 800, 'features_floors': 0, 'features_unitsOnTheFloor': 0, 'features_unitFloor': 0}, {'customerID': '518254-URWPXPFG', 'source': 'Website', 'types_unit': 'Apartamento', 'types_usage': 'Residencial', 'address_city': 'Rio de Janeiro', 'address_location_lon': -43.189661, 'address_location_lat': -22.914738, 'address_zone': 'Zona Sul', 'address_neighborhood': 'Santa Teresa', 'prices_price': 75000.0, 'prices_tax_iptu': 0.0, 'prices_tax_condo': 0.0, 'features_bedrooms': 1, 'features_bathrooms': 1, 'features_suites': 0, 'features_parkingSpaces': 0, 'features_usableAreas': 23, 'features_totalAreas': 0, 'features_floors': 0, 'features_unitsOnTheFloor': 0, 'features_unitFloor': 0}, {'customerID': '515657-YDYQWQPX', 'source': 'Website', 'types_unit': 'Apartamento', 'types_usage': 'Residencial', 'address_city': 'Rio de Janeiro', 'address_location_lon': -43.254609, 'address_location_lat': -22.913919, 'address_zone': 'Zona Norte', 'address_neighborhood': 'Vila Isabel', 'prices_price': 74999.0, 'prices_tax_iptu': 0.0, 'prices_tax_condo': 0.0, 'features_bedrooms': 2, 'features_bathrooms': 1, 'features_suites': 0, 'features_parkingSpaces': 0, 'features_usableAreas': 50, 'features_totalAreas': 50, 'features_floors': 0, 'features_unitsOnTheFloor': 0, 'features_unitFloor': 0}, {'customerID': '451415-RIRHVATI', 'source': 'Website', 'types_unit': 'Apartamento', 'types_usage': 'Residencial', 'address_city': 'Rio de Janeiro', 'address_location_lon': -43.384365, 'address_location_lat': -22.949155, 'address_zone': 'Zona Oeste', 'address_neighborhood': 'Curicica', 'prices_price': 80000.0, 'prices_tax_iptu': 0.0, 'prices_tax_condo': nan, 'features_bedrooms': 1, 'features_bathrooms': 1, 'features_suites': 0, 'features_parkingSpaces': 0, 'features_usableAreas': 40, 'features_totalAreas': 40, 'features_floors': 0, 'features_unitsOnTheFloor': 0, 'features_unitFloor': 0}, {'customerID': '209729-DGDQEWIY', 'source': 'Website', 'types_unit': 'Apartamento', 'types_usage': 'Residencial', 'address_city': 'Rio de Janeiro', 'address_location_lon': -43.297569, 'address_location_lat': -22.892418, 'address_zone': 'Zona Norte', 'address_neighborhood': 'Engenho de Dentro', 'prices_price': 81230.0, 'prices_tax_iptu': 100.0, 'prices_tax_condo': 100.0, 'features_bedrooms': 2, 'features_bathrooms': 1, 'features_suites': 0, 'features_parkingSpaces': 1, 'features_usableAreas': 46, 'features_totalAreas': 46, 'features_floors': 11, 'features_unitsOnTheFloor': 8, 'features_unitFloor': 2}, {'customerID': '199199-ZUCTRMGC', 'source': 'Website', 'types_unit': 'Apartamento', 'types_usage': 'Residencial', 'address_city': 'Rio de Janeiro', 'address_location_lon': -43.296072, 'address_location_lat': -22.866831, 'address_zone': 'Zona Norte', 'address_neighborhood': 'Engenho da Rainha', 'prices_price': 90000.0, 'prices_tax_iptu': 100.0, 'prices_tax_condo': 236.0, 'features_bedrooms': 1, 'features_bathrooms': 1, 'features_suites': 0, 'features_parkingSpaces': 1, 'features_usableAreas': 35, 'features_totalAreas': 35, 'features_floors': 4, 'features_unitsOnTheFloor': 4, 'features_unitFloor': 3}, {'customerID': '574134-CMBLYFPE', 'source': 'Website', 'types_unit': 'Apartamento', 'types_usage': 'Residencial', 'address_city': 'Rio de Janeiro', 'address_location_lon': -43.330107, 'address_location_lat': -22.860275, 'address_zone': 'Zona Norte', 'address_neighborhood': 'Madureira', 'prices_price': 90000.0, 'prices_tax_iptu': 0.0, 'prices_tax_condo': 0.0, 'features_bedrooms': 2, 'features_bathrooms': 1, 'features_suites': 0, 'features_parkingSpaces': 0, 'features_usableAreas': 59, 'features_totalAreas': 0, 'features_floors': 0, 'features_unitsOnTheFloor': 0, 'features_unitFloor': 0}, {'customerID': '376135-CMOSQLMU', 'source': 'Website', 'types_unit': 'Apartamento', 'types_usage': 'Residencial', 'address_city': 'Rio de Janeiro', 'address_location_lon': -43.272368, 'address_location_lat': -22.906776999999998, 'address_zone': 'Zona Norte', 'address_neighborhood': 'Engenho Novo', 'prices_price': 90000.0, 'prices_tax_iptu': 0.0, 'prices_tax_condo': 320.0, 'features_bedrooms': 1, 'features_bathrooms': 1, 'features_suites': 0, 'features_parkingSpaces': 0, 'features_usableAreas': 40, 'features_totalAreas': 0, 'features_floors': 4, 'features_unitsOnTheFloor': 4, 'features_unitFloor': 2}, {'customerID': '434386-MBKCACKJ', 'source': 'Website', 'types_unit': 'Casa', 'types_usage': 'Residencial', 'address_city': 'Rio de Janeiro', 'address_location_lon': -43.327545, 'address_location_lat': -22.874881, 'address_zone': 'Zona Norte', 'address_neighborhood': 'Engenheiro Leal', 'prices_price': 90000.0, 'prices_tax_iptu': 0.0, 'prices_tax_condo': 190.0, 'features_bedrooms': 2, 'features_bathrooms': 2, 'features_suites': 0, 'features_parkingSpaces': 0, 'features_usableAreas': 70, 'features_totalAreas': 0, 'features_floors': 0, 'features_unitsOnTheFloor': 0, 'features_unitFloor': 0}, {'customerID': '807518-GYVCEHCI', 'source': 'Website', 'types_unit': 'Apartamento', 'types_usage': 'Residencial', 'address_city': 'Rio de Janeiro', 'address_location_lon': -43.26285, 'address_location_lat': -22.87316, 'address_zone': 'Zona Norte', 'address_neighborhood': 'Higienópolis', 'prices_price': 84150.0, 'prices_tax_iptu': 0.0, 'prices_tax_condo': 0.0, 'features_bedrooms': 2, 'features_bathrooms': 1, 'features_suites': 0, 'features_parkingSpaces': 1, 'features_usableAreas': 57, 'features_totalAreas': 60, 'features_floors': 2, 'features_unitsOnTheFloor': 0, 'features_unitFloor': 2}, {'customerID': '938162-DGGKUQGT', 'source': 'Website', 'types_unit': 'Apartamento', 'types_usage': 'Residencial', 'address_city': 'Rio de Janeiro', 'address_location_lon': -43.451467, 'address_location_lat': -22.882215, 'address_zone': 'Zona Oeste', 'address_neighborhood': 'Padre Miguel', 'prices_price': 90000.0, 'prices_tax_iptu': nan, 'prices_tax_condo': nan, 'features_bedrooms': 1, 'features_bathrooms': 1, 'features_suites': 0, 'features_parkingSpaces': 0, 'features_usableAreas': 65, 'features_totalAreas': 70, 'features_floors': 0, 'features_unitsOnTheFloor': 0, 'features_unitFloor': 0}, {'customerID': '172572-ZMBEMAON', 'source': 'Website', 'types_unit': 'Outros', 'types_usage': 'Residencial', 'address_city': 'Rio de Janeiro', 'address_location_lon': -43.354001, 'address_location_lat': -22.849668, 'address_zone': 'Zona Norte', 'address_neighborhood': 'Rocha Miranda', 'prices_price': 85000.0, 'prices_tax_iptu': nan, 'prices_tax_condo': nan, 'features_bedrooms': 1, 'features_bathrooms': 1, 'features_suites': 0, 'features_parkingSpaces': 0, 'features_usableAreas': 30, 'features_totalAreas': 30, 'features_floors': 0, 'features_unitsOnTheFloor': 0, 'features_unitFloor': 0}, {'customerID': '346809-NTGJEFXM', 'source': 'Website', 'types_unit': 'Casa', 'types_usage': 'Residencial', 'address_city': 'Rio de Janeiro', 'address_location_lon': -43.299467, 'address_location_lat': -22.873899, 'address_zone': 'Zona Norte', 'address_neighborhood': 'Pilares', 'prices_price': 90000.0, 'prices_tax_iptu': 0.0, 'prices_tax_condo': 40.0, 'features_bedrooms': 1, 'features_bathrooms': 1, 'features_suites': 0, 'features_parkingSpaces': 1, 'features_usableAreas': 74, 'features_totalAreas': 74, 'features_floors': 0, 'features_unitsOnTheFloor': 0, 'features_unitFloor': 0}, {'customerID': '419355-FRHUMFOT', 'source': 'Website', 'types_unit': 'Apartamento', 'types_usage': 'Residencial', 'address_city': 'Rio de Janeiro', 'address_location_lon': -43.402048, 'address_location_lat': -22.820913, 'address_zone': 'Zona Norte', 'address_neighborhood': 'Anchieta', 'prices_price': 90000.0, 'prices_tax_iptu': nan, 'prices_tax_condo': 170.0, 'features_bedrooms': 1, 'features_bathrooms': 1, 'features_suites': 0, 'features_parkingSpaces': 1, 'features_usableAreas': 40, 'features_totalAreas': 52, 'features_floors': 0, 'features_unitsOnTheFloor': 0, 'features_unitFloor': 1}, {'customerID': '583156-RFQQMRCD', 'source': 'Website', 'types_unit': 'Outros', 'types_usage': 'Residencial', 'address_city': 'Rio de Janeiro', 'address_location_lon': -43.402387, 'address_location_lat': -22.888769, 'address_zone': 'Zona Oeste', 'address_neighborhood': 'Jardim Sulacap', 'prices_price': 90000.0, 'prices_tax_iptu': nan, 'prices_tax_condo': 200.0, 'features_bedrooms': 1, 'features_bathrooms': 0, 'features_suites': 0, 'features_parkingSpaces': 0, 'features_usableAreas': 0, 'features_totalAreas': 0, 'features_floors': 0, 'features_unitsOnTheFloor': 0, 'features_unitFloor': 0}, {'customerID': '246399-NJTDQLIS', 'source': 'Website', 'types_unit': 'Apartamento', 'types_usage': 'Residencial', 'address_city': 'Rio de Janeiro', 'address_location_lon': -43.306129, 'address_location_lat': -22.899714, 'address_zone': 'Zona Norte', 'address_neighborhood': 'Encantado', 'prices_price': 89000.0, 'prices_tax_iptu': 0.0, 'prices_tax_condo': 0.0, 'features_bedrooms': 1, 'features_bathrooms': 1, 'features_suites': 0, 'features_parkingSpaces': 0, 'features_usableAreas': 35, 'features_totalAreas': 35, 'features_floors': 3, 'features_unitsOnTheFloor': 2, 'features_unitFloor': 0}, {'customerID': '393953-SHTUHZCK', 'source': 'Website', 'types_unit': 'Apartamento', 'types_usage': 'Residencial', 'address_city': 'Rio de Janeiro', 'address_location_lon': -43.225037, 'address_location_lat': -22.811507, 'address_zone': 'Zona Norte', 'address_neighborhood': 'Galeão', 'prices_price': 85000.0, 'prices_tax_iptu': 0.0, 'prices_tax_condo': 0.0, 'features_bedrooms': 1, 'features_bathrooms': 1, 'features_suites': 0, 'features_parkingSpaces': 0, 'features_usableAreas': 35, 'features_totalAreas': 35, 'features_floors': 0, 'features_unitsOnTheFloor': 0, 'features_unitFloor': 0}, {'customerID': '481389-YHHQCNUQ', 'source': 'Website', 'types_unit': 'Apartamento', 'types_usage': 'Residencial', 'address_city': 'Rio de Janeiro', 'address_location_lon': -43.292312, 'address_location_lat': -22.816668, 'address_zone': 'Zona Norte', 'address_neighborhood': 'Parada de Lucas', 'prices_price': 100000.0, 'prices_tax_iptu': nan, 'prices_tax_condo': 230.0, 'features_bedrooms': 2, 'features_bathrooms': 1, 'features_suites': 0, 'features_parkingSpaces': 0, 'features_usableAreas': 79, 'features_totalAreas': 79, 'features_floors': 0, 'features_unitsOnTheFloor': 0, 'features_unitFloor': 0}, {'customerID': '115536-YXTNIDTV', 'source': 'Website', 'types_unit': 'Apartamento', 'types_usage': 'Residencial', 'address_city': 'Rio de Janeiro', 'address_location_lon': -43.266515, 'address_location_lat': -22.843141, 'address_zone': 'Zona Norte', 'address_neighborhood': 'Olaria', 'prices_price': 100000.0, 'prices_tax_iptu': 10.0, 'prices_tax_condo': 10.0, 'features_bedrooms': 1, 'features_bathrooms': 1, 'features_suites': 1, 'features_parkingSpaces': 1, 'features_usableAreas': 100, 'features_totalAreas': 100, 'features_floors': 0, 'features_unitsOnTheFloor': 0, 'features_unitFloor': 0}, {'customerID': '121990-DODJLLBO', 'source': 'Website', 'types_unit': 'Apartamento', 'types_usage': 'Residencial', 'address_city': 'Rio de Janeiro', 'address_location_lon': -43.272485, 'address_location_lat': -22.865951, 'address_zone': 'Zona Norte', 'address_neighborhood': 'Bonsucesso', 'prices_price': 95488.0, 'prices_tax_iptu': 0.0, 'prices_tax_condo': 0.0, 'features_bedrooms': 2, 'features_bathrooms': 1, 'features_suites': 0, 'features_parkingSpaces': 0, 'features_usableAreas': 71, 'features_totalAreas': 71, 'features_floors': 0, 'features_unitsOnTheFloor': 0, 'features_unitFloor': 0}, {'customerID': '998101-AAVNWERD', 'source': 'Website', 'types_unit': 'Apartamento', 'types_usage': 'Residencial', 'address_city': 'Rio de Janeiro', 'address_location_lon': -43.284819, 'address_location_lat': -22.912577, 'address_zone': 'Zona Norte', 'address_neighborhood': 'Méier', 'prices_price': 99000.0, 'prices_tax_iptu': nan, 'prices_tax_condo': nan, 'features_bedrooms': 1, 'features_bathrooms': 1, 'features_suites': 0, 'features_parkingSpaces': 0, 'features_usableAreas': 40, 'features_totalAreas': 40, 'features_floors': 0, 'features_unitsOnTheFloor': 0, 'features_unitFloor': 0}, {'customerID': '610476-RPCOCDOX', 'source': 'Website', 'types_unit': 'Casa', 'types_usage': 'Residencial', 'address_city': 'Rio de Janeiro', 'address_location_lon': -43.180832, 'address_location_lat': -22.939026, 'address_zone': 'Zona Sul', 'address_neighborhood': 'Laranjeiras', 'prices_price': 96000.0, 'prices_tax_iptu': 0.0, 'prices_tax_condo': 0.0, 'features_bedrooms': 1, 'features_bathrooms': 1, 'features_suites': 0, 'features_parkingSpaces': 0, 'features_usableAreas': 40, 'features_totalAreas': 40, 'features_floors': 0, 'features_unitsOnTheFloor': 0, 'features_unitFloor': 0}, {'customerID': '108615-RYAUXXVK', 'source': 'Website', 'types_unit': 'Casa', 'types_usage': 'Residencial', 'address_city': 'Rio de Janeiro', 'address_location_lon': -43.304667, 'address_location_lat': -22.826117, 'address_zone': 'Zona Norte', 'address_neighborhood': 'Cordovil', 'prices_price': 100000.0, 'prices_tax_iptu': nan, 'prices_tax_condo': nan, 'features_bedrooms': 1, 'features_bathrooms': 1, 'features_suites': 0, 'features_parkingSpaces': 0, 'features_usableAreas': 30, 'features_totalAreas': 30, 'features_floors': 0, 'features_unitsOnTheFloor': 0, 'features_unitFloor': 0}, {'customerID': '544958-CMSFGKNY', 'source': 'Website', 'types_unit': 'Apartamento', 'types_usage': 'Residencial', 'address_city': 'Rio de Janeiro', 'address_location_lon': -43.299109, 'address_location_lat': -22.890235, 'address_zone': 'Zona Norte', 'address_neighborhood': 'Abolição', 'prices_price': 100000.0, 'prices_tax_iptu': 16.0, 'prices_tax_condo': 255.0, 'features_bedrooms': 1, 'features_bathrooms': 1, 'features_suites': 0, 'features_parkingSpaces': 0, 'features_usableAreas': 37, 'features_totalAreas': 37, 'features_floors': 0, 'features_unitsOnTheFloor': 0, 'features_unitFloor': 0}, {'customerID': '111317-JOGRSFJO', 'source': 'Website', 'types_unit': 'Apartamento', 'types_usage': 'Residencial', 'address_city': 'Rio de Janeiro', 'address_location_lon': -43.271849, 'address_location_lat': -22.87376, 'address_zone': 'Zona Norte', 'address_neighborhood': 'Inhaúma', 'prices_price': 105000.0, 'prices_tax_iptu': 0.0, 'prices_tax_condo': 50.0, 'features_bedrooms': 2, 'features_bathrooms': 1, 'features_suites': 0, 'features_parkingSpaces': 1, 'features_usableAreas': 40, 'features_totalAreas': 0, 'features_floors': 4, 'features_unitsOnTheFloor': 2, 'features_unitFloor': 3}, {'customerID': '781500-HYZVEHQJ', 'source': 'Website', 'types_unit': 'Apartamento', 'types_usage': 'Residencial', 'address_city': 'Rio de Janeiro', 'address_location_lon': -43.17916, 'address_location_lat': -22.789602, 'address_zone': 'Zona Norte', 'address_neighborhood': 'Bancários', 'prices_price': 104500.0, 'prices_tax_iptu': 0.0, 'prices_tax_condo': 0.0, 'features_bedrooms': 2, 'features_bathrooms': 2, 'features_suites': 1, 'features_parkingSpaces': 1, 'features_usableAreas': 60, 'features_totalAreas': 69, 'features_floors': 3, 'features_unitsOnTheFloor': 4, 'features_unitFloor': 0}, {'customerID': '272009-NPDQFRYX', 'source': 'Website', 'types_unit': 'Apartamento', 'types_usage': 'Residencial', 'address_city': 'Rio de Janeiro', 'address_location_lon': -43.279725, 'address_location_lat': -22.912939, 'address_zone': 'Zona Norte', 'address_neighborhood': 'Lins de Vasconcelos', 'prices_price': 110000.0, 'prices_tax_iptu': 0.0, 'prices_tax_condo': 300.0, 'features_bedrooms': 2, 'features_bathrooms': 1, 'features_suites': 0, 'features_parkingSpaces': 1, 'features_usableAreas': 70, 'features_totalAreas': 75, 'features_floors': 0, 'features_unitsOnTheFloor': 0, 'features_unitFloor': 1}, {'customerID': '620934-NKEAAFOR', 'source': 'Website', 'types_unit': 'Apartamento', 'types_usage': 'Residencial', 'address_city': 'Rio de Janeiro', 'address_location_lon': -43.261657, 'address_location_lat': -22.850588, 'address_zone': 'Zona Norte', 'address_neighborhood': 'Ramos', 'prices_price': 110000.0, 'prices_tax_iptu': nan, 'prices_tax_condo': nan, 'features_bedrooms': 1, 'features_bathrooms': 1, 'features_suites': 0, 'features_parkingSpaces': 0, 'features_usableAreas': 62, 'features_totalAreas': 65, 'features_floors': 0, 'features_unitsOnTheFloor': 0, 'features_unitFloor': 0}, {'customerID': '217398-NIERJFLM', 'source': 'Website', 'types_unit': 'Apartamento', 'types_usage': 'Residencial', 'address_city': 'Rio de Janeiro', 'address_location_lon': -43.330051, 'address_location_lat': -22.824793, 'address_zone': 'Zona Norte', 'address_neighborhood': 'Irajá', 'prices_price': 110000.0, 'prices_tax_iptu': 0.0, 'prices_tax_condo': 122.0, 'features_bedrooms': 1, 'features_bathrooms': 1, 'features_suites': 0, 'features_parkingSpaces': 1, 'features_usableAreas': 32, 'features_totalAreas': 32, 'features_floors': 0, 'features_unitsOnTheFloor': 0, 'features_unitFloor': 0}, {'customerID': '222741-BUGERGWT', 'source': 'Website', 'types_unit': 'Apartamento', 'types_usage': 'Residencial', 'address_city': 'Rio de Janeiro', 'address_location_lon': -43.207985, 'address_location_lat': -22.926568, 'address_zone': 'Zona Sul', 'address_neighborhood': 'Rio Comprido', 'prices_price': 110000.0, 'prices_tax_iptu': 0.0, 'prices_tax_condo': 0.0, 'features_bedrooms': 1, 'features_bathrooms': 1, 'features_suites': 0, 'features_parkingSpaces': 0, 'features_usableAreas': 50, 'features_totalAreas': 0, 'features_floors': 0, 'features_unitsOnTheFloor': 0, 'features_unitFloor': 2}, {'customerID': '261884-ENUZUCTO', 'source': 'Website', 'types_unit': 'Apartamento', 'types_usage': 'Residencial', 'address_city': 'Rio de Janeiro', 'address_location_lon': -43.37277, 'address_location_lat': -22.845609, 'address_zone': 'Zona Norte', 'address_neighborhood': 'Guadalupe', 'prices_price': 105000.0, 'prices_tax_iptu': nan, 'prices_tax_condo': 160.0, 'features_bedrooms': 1, 'features_bathrooms': 1, 'features_suites': 0, 'features_parkingSpaces': 0, 'features_usableAreas': 40, 'features_totalAreas': 40, 'features_floors': 0, 'features_unitsOnTheFloor': 0, 'features_unitFloor': 0}, {'customerID': '705530-NJEMPPJZ', 'source': 'Website', 'types_unit': 'Apartamento', 'types_usage': 'Residencial', 'address_city': 'Rio de Janeiro', 'address_location_lon': -43.283049, 'address_location_lat': -22.820739, 'address_zone': 'Zona Norte', 'address_neighborhood': 'Penha', 'prices_price': 110000.0, 'prices_tax_iptu': nan, 'prices_tax_condo': 90.0, 'features_bedrooms': 2, 'features_bathrooms': 1, 'features_suites': 0, 'features_parkingSpaces': 0, 'features_usableAreas': 51, 'features_totalAreas': 55, 'features_floors': 0, 'features_unitsOnTheFloor': 0, 'features_unitFloor': 0}, {'customerID': '517018-BLFYLAZS', 'source': 'Website', 'types_unit': 'Apartamento', 'types_usage': 'Residencial', 'address_city': 'Rio de Janeiro', 'address_location_lon': -43.253704, 'address_location_lat': -22.899514, 'address_zone': 'Zona Norte', 'address_neighborhood': 'Riachuelo', 'prices_price': 110000.0, 'prices_tax_iptu': 252.0, 'prices_tax_condo': 378.0, 'features_bedrooms': 1, 'features_bathrooms': 1, 'features_suites': 0, 'features_parkingSpaces': 0, 'features_usableAreas': 30, 'features_totalAreas': 35, 'features_floors': 4, 'features_unitsOnTheFloor': 16, 'features_unitFloor': 2}, {'customerID': '780968-VRFWNQBF', 'source': 'Website', 'types_unit': 'Apartamento', 'types_usage': 'Residencial', 'address_city': 'Rio de Janeiro', 'address_location_lon': -43.252746, 'address_location_lat': -22.940876, 'address_zone': 'Zona Norte', 'address_neighborhood': 'Tijuca', 'prices_price': 110000.0, 'prices_tax_iptu': 0.0, 'prices_tax_condo': 0.0, 'features_bedrooms': 2, 'features_bathrooms': 1, 'features_suites': 0, 'features_parkingSpaces': 0, 'features_usableAreas': 63, 'features_totalAreas': 0, 'features_floors': 0, 'features_unitsOnTheFloor': 0, 'features_unitFloor': 0}, {'customerID': '683722-RJACOIWR', 'source': 'Website', 'types_unit': 'Casa', 'types_usage': 'Residencial', 'address_city': 'Rio de Janeiro', 'address_location_lon': -43.364554, 'address_location_lat': -22.928494, 'address_zone': 'Zona Oeste', 'address_neighborhood': 'Pechincha', 'prices_price': 120000.0, 'prices_tax_iptu': 30.0, 'prices_tax_condo': 100.0, 'features_bedrooms': 2, 'features_bathrooms': 1, 'features_suites': 0, 'features_parkingSpaces': 1, 'features_usableAreas': 153, 'features_totalAreas': 153, 'features_floors': 0, 'features_unitsOnTheFloor': 0, 'features_unitFloor': 1}, {'customerID': '564534-FXJFNRVA', 'source': 'Website', 'types_unit': 'Apartamento', 'types_usage': 'Residencial', 'address_city': 'Rio de Janeiro', 'address_location_lon': -43.328976, 'address_location_lat': -22.860583, 'address_zone': 'Zona Norte', 'address_neighborhood': 'Vaz Lobo', 'prices_price': 120000.0, 'prices_tax_iptu': 0.0, 'prices_tax_condo': 0.0, 'features_bedrooms': 2, 'features_bathrooms': 1, 'features_suites': 0, 'features_parkingSpaces': 1, 'features_usableAreas': 50, 'features_totalAreas': 0, 'features_floors': 0, 'features_unitsOnTheFloor': 0, 'features_unitFloor': 0}, {'customerID': '563245-YZSZRFSV', 'source': 'Website', 'types_unit': 'Apartamento', 'types_usage': 'Residencial', 'address_city': 'Rio de Janeiro', 'address_location_lon': -43.174454, 'address_location_lat': -22.788745, 'address_zone': 'Zona Norte', 'address_neighborhood': 'Freguesia (Ilha do Governador)', 'prices_price': 114000.0, 'prices_tax_iptu': 0.0, 'prices_tax_condo': 0.0, 'features_bedrooms': 2, 'features_bathrooms': 1, 'features_suites': 0, 'features_parkingSpaces': 1, 'features_usableAreas': 67, 'features_totalAreas': 0, 'features_floors': 0, 'features_unitsOnTheFloor': 0, 'features_unitFloor': 0}, {'customerID': '870058-BCQOQVJR', 'source': 'Website', 'types_unit': 'Apartamento', 'types_usage': 'Residencial', 'address_city': 'Rio de Janeiro', 'address_location_lon': -43.314399, 'address_location_lat': -22.871833, 'address_zone': 'Zona Norte', 'address_neighborhood': 'Cavalcanti', 'prices_price': 120000.0, 'prices_tax_iptu': 0.0, 'prices_tax_condo': nan, 'features_bedrooms': 2, 'features_bathrooms': 1, 'features_suites': 0, 'features_parkingSpaces': 0, 'features_usableAreas': 70, 'features_totalAreas': 70, 'features_floors': 0, 'features_unitsOnTheFloor': 0, 'features_unitFloor': 0}, {'customerID': '107960-MQUBOWKS', 'source': 'Website', 'types_unit': 'Casa', 'types_usage': 'Residencial', 'address_city': 'Rio de Janeiro', 'address_location_lon': -43.486621, 'address_location_lat': -22.877011, 'address_zone': 'Zona Oeste', 'address_neighborhood': 'Senador Camará', 'prices_price': 120000.0, 'prices_tax_iptu': 35.0, 'prices_tax_condo': 0.0, 'features_bedrooms': 2, 'features_bathrooms': 1, 'features_suites': 0, 'features_parkingSpaces': 0, 'features_usableAreas': 75, 'features_totalAreas': 75, 'features_floors': 0, 'features_unitsOnTheFloor': 0, 'features_unitFloor': 0}, {'customerID': '650388-QQJERYEF', 'source': 'Website', 'types_unit': 'Apartamento', 'types_usage': 'Residencial', 'address_city': 'Rio de Janeiro', 'address_location_lon': -43.464179, 'address_location_lat': -22.983609, 'address_zone': 'Zona Oeste', 'address_neighborhood': 'Vargem Pequena', 'prices_price': 120000.0, 'prices_tax_iptu': 0.0, 'prices_tax_condo': 0.0, 'features_bedrooms': 2, 'features_bathrooms': 1, 'features_suites': 0, 'features_parkingSpaces': 1, 'features_usableAreas': 44, 'features_totalAreas': 0, 'features_floors': 0, 'features_unitsOnTheFloor': 0, 'features_unitFloor': 0}, {'customerID': '641416-WSAFVHTJ', 'source': 'Website', 'types_unit': 'Apartamento', 'types_usage': 'Residencial', 'address_city': 'Rio de Janeiro', 'address_location_lon': -43.214559, 'address_location_lat': -22.911834, 'address_zone': 'Zona Norte', 'address_neighborhood': 'Praça da Bandeira', 'prices_price': 120000.0, 'prices_tax_iptu': 0.0, 'prices_tax_condo': 587.0, 'features_bedrooms': 0, 'features_bathrooms': 1, 'features_suites': 0, 'features_parkingSpaces': 0, 'features_usableAreas': 24, 'features_totalAreas': 24, 'features_floors': 12, 'features_unitsOnTheFloor': 8, 'features_unitFloor': 2}, {'customerID': '703778-IRKEQUIF', 'source': 'Website', 'types_unit': 'Casa', 'types_usage': 'Residencial', 'address_city': 'Rio de Janeiro', 'address_location_lon': -43.298273, 'address_location_lat': -22.853453, 'address_zone': 'Zona Norte', 'address_neighborhood': 'Vila Kosmos', 'prices_price': 115000.0, 'prices_tax_iptu': nan, 'prices_tax_condo': nan, 'features_bedrooms': 2, 'features_bathrooms': 1, 'features_suites': 0, 'features_parkingSpaces': 0, 'features_usableAreas': 70, 'features_totalAreas': 120, 'features_floors': 0, 'features_unitsOnTheFloor': 0, 'features_unitFloor': 0}, {'customerID': '543311-ZPLRRJSB', 'source': 'Website', 'types_unit': 'Apartamento', 'types_usage': 'Residencial', 'address_city': 'Rio de Janeiro', 'address_location_lon': -43.177445, 'address_location_lat': -22.9233, 'address_zone': 'Zona Sul', 'address_neighborhood': 'Catete', 'prices_price': 120000.0, 'prices_tax_iptu': 0.0, 'prices_tax_condo': 0.0, 'features_bedrooms': 1, 'features_bathrooms': 1, 'features_suites': 0, 'features_parkingSpaces': 0, 'features_usableAreas': 30, 'features_totalAreas': 30, 'features_floors': 0, 'features_unitsOnTheFloor': 0, 'features_unitFloor': 9}, {'customerID': '135952-LEVGTBAP', 'source': 'Website', 'types_unit': 'Outros', 'types_usage': 'Residencial', 'address_city': 'Rio de Janeiro', 'address_location_lon': -43.245946, 'address_location_lat': -22.900157, 'address_zone': 'Zona Norte', 'address_neighborhood': 'Rocha', 'prices_price': 120000.0, 'prices_tax_iptu': 0.0, 'prices_tax_condo': 0.0, 'features_bedrooms': 0, 'features_bathrooms': 0, 'features_suites': 0, 'features_parkingSpaces': 0, 'features_usableAreas': 63, 'features_totalAreas': 63, 'features_floors': 0, 'features_unitsOnTheFloor': 0, 'features_unitFloor': 0}, {'customerID': '261671-HUVNGSCV', 'source': 'Website', 'types_unit': 'Apartamento', 'types_usage': 'Residencial', 'address_city': 'Rio de Janeiro', 'address_location_lon': -43.342717, 'address_location_lat': -22.844614, 'address_zone': 'Zona Norte', 'address_neighborhood': 'Colégio', 'prices_price': 125000.0, 'prices_tax_iptu': 0.0, 'prices_tax_condo': 250.0, 'features_bedrooms': 1, 'features_bathrooms': 1, 'features_suites': 0, 'features_parkingSpaces': 1, 'features_usableAreas': 45, 'features_totalAreas': 0, 'features_floors': 0, 'features_unitsOnTheFloor': 0, 'features_unitFloor': 0}, {'customerID': '672516-ZQVZKCIX', 'source': 'Website', 'types_unit': 'Apartamento', 'types_usage': 'Residencial', 'address_city': 'Rio de Janeiro', 'address_location_lon': -43.269659, 'address_location_lat': -22.883263, 'address_zone': 'Zona Norte', 'address_neighborhood': 'Del Castilho', 'prices_price': 125000.0, 'prices_tax_iptu': 0.0, 'prices_tax_condo': 200.0, 'features_bedrooms': 1, 'features_bathrooms': 1, 'features_suites': 0, 'features_parkingSpaces': 0, 'features_usableAreas': 35, 'features_totalAreas': 35, 'features_floors': 4, 'features_unitsOnTheFloor': 6, 'features_unitFloor': 3}, {'customerID': '381294-LADEUKDS', 'source': 'Website', 'types_unit': 'Apartamento', 'types_usage': 'Residencial', 'address_city': 'Rio de Janeiro', 'address_location_lon': -43.254637, 'address_location_lat': -22.924259, 'address_zone': 'Zona Norte', 'address_neighborhood': 'Grajaú', 'prices_price': 130000.0, 'prices_tax_iptu': 0.0, 'prices_tax_condo': 0.0, 'features_bedrooms': 2, 'features_bathrooms': 1, 'features_suites': 0, 'features_parkingSpaces': 0, 'features_usableAreas': 55, 'features_totalAreas': 0, 'features_floors': 0, 'features_unitsOnTheFloor': 0, 'features_unitFloor': 0}, {'customerID': '035493-FWLPMHDF', 'source': 'Website', 'types_unit': 'Casa', 'types_usage': 'Residencial', 'address_city': 'Rio de Janeiro', 'address_location_lon': -43.541543, 'address_location_lat': -23.012009, 'address_zone': 'Zona Oeste', 'address_neighborhood': 'Barra de Guaratiba', 'prices_price': 125000.0, 'prices_tax_iptu': 0.0, 'prices_tax_condo': 0.0, 'features_bedrooms': 2, 'features_bathrooms': 1, 'features_suites': 0, 'features_parkingSpaces': 0, 'features_usableAreas': 48, 'features_totalAreas': 48, 'features_floors': 0, 'features_unitsOnTheFloor': 0, 'features_unitFloor': 0}, {'customerID': '050476-ANEYPSDF', 'source': 'Website', 'types_unit': 'Apartamento', 'types_usage': 'Residencial', 'address_city': 'Rio de Janeiro', 'address_location_lon': -43.330818, 'address_location_lat': -22.957454, 'address_zone': 'Zona Oeste', 'address_neighborhood': 'Anil', 'prices_price': 125000.0, 'prices_tax_iptu': nan, 'prices_tax_condo': 60.0, 'features_bedrooms': 2, 'features_bathrooms': 1, 'features_suites': 1, 'features_parkingSpaces': 0, 'features_usableAreas': 50, 'features_totalAreas': 50, 'features_floors': 0, 'features_unitsOnTheFloor': 0, 'features_unitFloor': 0}, {'customerID': '447327-RETKEQCX', 'source': 'Website', 'types_unit': 'Apartamento', 'types_usage': 'Residencial', 'address_city': 'Rio de Janeiro', 'address_location_lon': -43.247751, 'address_location_lat': -22.926462, 'address_zone': 'Zona Norte', 'address_neighborhood': 'Andaraí', 'prices_price': 125000.0, 'prices_tax_iptu': 0.0, 'prices_tax_condo': 0.0, 'features_bedrooms': 2, 'features_bathrooms': 1, 'features_suites': 0, 'features_parkingSpaces': 0, 'features_usableAreas': 43, 'features_totalAreas': 43, 'features_floors': 0, 'features_unitsOnTheFloor': 0, 'features_unitFloor': 7}, {'customerID': '075339-YPBRNBVM', 'source': 'Website', 'types_unit': 'Apartamento', 'types_usage': 'Residencial', 'address_city': 'Rio de Janeiro', 'address_location_lon': -43.311507, 'address_location_lat': -22.850057, 'address_zone': 'Zona Norte', 'address_neighborhood': 'Vila da Penha', 'prices_price': 128000.0, 'prices_tax_iptu': 0.0, 'prices_tax_condo': 0.0, 'features_bedrooms': 1, 'features_bathrooms': 1, 'features_suites': 1, 'features_parkingSpaces': 1, 'features_usableAreas': 25, 'features_totalAreas': 25, 'features_floors': 0, 'features_unitsOnTheFloor': 0, 'features_unitFloor': 0}, {'customerID': '826708-KLRPLKJE', 'source': 'Website', 'types_unit': 'Casa', 'types_usage': 'Residencial', 'address_city': 'Rio de Janeiro', 'address_location_lon': -43.41883, 'address_location_lat': -22.866131, 'address_zone': 'Zona Oeste', 'address_neighborhood': 'Magalhães Bastos', 'prices_price': 125000.0, 'prices_tax_iptu': nan, 'prices_tax_condo': nan, 'features_bedrooms': 2, 'features_bathrooms': 1, 'features_suites': 0, 'features_parkingSpaces': 0, 'features_usableAreas': 66, 'features_totalAreas': 66, 'features_floors': 0, 'features_unitsOnTheFloor': 0, 'features_unitFloor': 0}, {'customerID': '722997-BLDOUDTP', 'source': 'Website', 'types_unit': 'Apartamento', 'types_usage': 'Residencial', 'address_city': 'Rio de Janeiro', 'address_location_lon': -43.35286, 'address_location_lat': -23.009805, 'address_zone': 'Zona Oeste', 'address_neighborhood': 'Barra da Tijuca', 'prices_price': 125000.0, 'prices_tax_iptu': 0.0, 'prices_tax_condo': 0.0, 'features_bedrooms': 1, 'features_bathrooms': 1, 'features_suites': 1, 'features_parkingSpaces': 1, 'features_usableAreas': 25, 'features_totalAreas': 25, 'features_floors': 0, 'features_unitsOnTheFloor': 0, 'features_unitFloor': 0}, {'customerID': '067397-ZXGTEWHY', 'source': 'Website', 'types_unit': 'Apartamento', 'types_usage': 'Residencial', 'address_city': 'Rio de Janeiro', 'address_location_lon': -43.33925, 'address_location_lat': -22.942167, 'address_zone': 'Zona Oeste', 'address_neighborhood': 'Freguesia (Jacarepaguá)', 'prices_price': 130000.0, 'prices_tax_iptu': 0.0, 'prices_tax_condo': 300.0, 'features_bedrooms': 1, 'features_bathrooms': 1, 'features_suites': 0, 'features_parkingSpaces': 0, 'features_usableAreas': 25, 'features_totalAreas': 25, 'features_floors': 0, 'features_unitsOnTheFloor': 0, 'features_unitFloor': 0}, {'customerID': '427383-DJSGHKZZ', 'source': 'Website', 'types_unit': 'Apartamento', 'types_usage': 'Residencial', 'address_city': 'Rio de Janeiro', 'address_location_lon': -43.193791, 'address_location_lat': -22.984691, 'address_zone': 'Zona Sul', 'address_neighborhood': 'Copacabana', 'prices_price': 140000.0, 'prices_tax_iptu': 0.0, 'prices_tax_condo': 0.0, 'features_bedrooms': 1, 'features_bathrooms': 1, 'features_suites': 0, 'features_parkingSpaces': 0, 'features_usableAreas': 18, 'features_totalAreas': 0, 'features_floors': 15, 'features_unitsOnTheFloor': 10, 'features_unitFloor': 10}, {'customerID': '517949-CXJMUJMU', 'source': 'Website', 'types_unit': 'Apartamento', 'types_usage': 'Residencial', 'address_city': 'Rio de Janeiro', 'address_location_lon': -43.243081, 'address_location_lat': -22.901094, 'address_zone': 'Zona Norte', 'address_neighborhood': 'São Francisco Xavier', 'prices_price': 135000.0, 'prices_tax_iptu': 380.0, 'prices_tax_condo': 70.0, 'features_bedrooms': 1, 'features_bathrooms': 1, 'features_suites': 0, 'features_parkingSpaces': 0, 'features_usableAreas': 44, 'features_totalAreas': 0, 'features_floors': 0, 'features_unitsOnTheFloor': 0, 'features_unitFloor': 0}, {'customerID': '919257-SMTPEMMG', 'source': 'Website', 'types_unit': 'Apartamento', 'types_usage': 'Residencial', 'address_city': 'Rio de Janeiro', 'address_location_lon': -43.308298, 'address_location_lat': -22.907969, 'address_zone': 'Zona Norte', 'address_neighborhood': 'Água Santa', 'prices_price': 135000.0, 'prices_tax_iptu': 0.0, 'prices_tax_condo': 190.0, 'features_bedrooms': 2, 'features_bathrooms': 1, 'features_suites': 0, 'features_parkingSpaces': 1, 'features_usableAreas': 44, 'features_totalAreas': 44, 'features_floors': 5, 'features_unitsOnTheFloor': 8, 'features_unitFloor': 5}, {'customerID': '549051-SLKRLZGK', 'source': 'Website', 'types_unit': 'Apartamento', 'types_usage': 'Residencial', 'address_city': 'Rio de Janeiro', 'address_location_lon': -43.329798, 'address_location_lat': -22.977668, 'address_zone': 'Zona Oeste', 'address_neighborhood': 'Itanhangá', 'prices_price': 135000.0, 'prices_tax_iptu': 0.0, 'prices_tax_condo': 648.0, 'features_bedrooms': 2, 'features_bathrooms': 1, 'features_suites': 0, 'features_parkingSpaces': 1, 'features_usableAreas': 56, 'features_totalAreas': 56, 'features_floors': 0, 'features_unitsOnTheFloor': 0, 'features_unitFloor': 11}, {'customerID': '465984-WZWARZUR', 'source': 'Website', 'types_unit': 'Apartamento', 'types_usage': 'Residencial', 'address_city': 'Rio de Janeiro', 'address_location_lon': -43.322883, 'address_location_lat': -22.814996999999998, 'address_zone': 'Zona Norte', 'address_neighborhood': 'Jardim América', 'prices_price': 140000.0, 'prices_tax_iptu': 0.0, 'prices_tax_condo': 0.0, 'features_bedrooms': 2, 'features_bathrooms': 2, 'features_suites': 0, 'features_parkingSpaces': 0, 'features_usableAreas': 75, 'features_totalAreas': 75, 'features_floors': 2, 'features_unitsOnTheFloor': 1, 'features_unitFloor': 1}, {'customerID': '292117-TACRKJRY', 'source': 'Website', 'types_unit': 'Apartamento', 'types_usage': 'Residencial', 'address_city': 'Rio de Janeiro', 'address_location_lon': -43.208692, 'address_location_lat': -22.797209, 'address_zone': 'Zona Norte', 'address_neighborhood': 'Portuguesa', 'prices_price': 133722.0, 'prices_tax_iptu': 0.0, 'prices_tax_condo': 0.0, 'features_bedrooms': 2, 'features_bathrooms': 1, 'features_suites': 0, 'features_parkingSpaces': 0, 'features_usableAreas': 43, 'features_totalAreas': 50, 'features_floors': 7, 'features_unitsOnTheFloor': 0, 'features_unitFloor': 3}, {'customerID': '555454-TZMQKABM', 'source': 'Website', 'types_unit': 'Apartamento', 'types_usage': 'Residencial', 'address_city': 'Rio de Janeiro', 'address_location_lon': -43.234856, 'address_location_lat': -22.994325, 'address_zone': 'Zona Sul', 'address_neighborhood': 'Vidigal', 'prices_price': 142800.0, 'prices_tax_iptu': 100.0, 'prices_tax_condo': 100.0, 'features_bedrooms': 2, 'features_bathrooms': 1, 'features_suites': 0, 'features_parkingSpaces': 1, 'features_usableAreas': 55, 'features_totalAreas': 55, 'features_floors': 4, 'features_unitsOnTheFloor': 10, 'features_unitFloor': 3}, {'customerID': '481154-CSNLMENY', 'source': 'Website', 'types_unit': 'Apartamento', 'types_usage': 'Residencial', 'address_city': 'Rio de Janeiro', 'address_location_lon': -43.26454, 'address_location_lat': -22.890837, 'address_zone': 'Zona Norte', 'address_neighborhood': 'Cachambi', 'prices_price': 150000.0, 'prices_tax_iptu': 0.0, 'prices_tax_condo': 70.0, 'features_bedrooms': 3, 'features_bathrooms': 1, 'features_suites': 0, 'features_parkingSpaces': 0, 'features_usableAreas': 60, 'features_totalAreas': 60, 'features_floors': 0, 'features_unitsOnTheFloor': 0, 'features_unitFloor': 0}, {'customerID': '772413-RGALJJRM', 'source': 'Website', 'types_unit': 'Apartamento', 'types_usage': 'Residencial', 'address_city': 'Rio de Janeiro', 'address_location_lon': -43.183532, 'address_location_lat': -22.798399, 'address_zone': 'Zona Norte', 'address_neighborhood': 'Tauá', 'prices_price': 150000.0, 'prices_tax_iptu': 78.0, 'prices_tax_condo': 320.0, 'features_bedrooms': 1, 'features_bathrooms': 1, 'features_suites': 0, 'features_parkingSpaces': 0, 'features_usableAreas': 30, 'features_totalAreas': 30, 'features_floors': 0, 'features_unitsOnTheFloor': 0, 'features_unitFloor': 0}, {'customerID': '378110-AIHHQLJR', 'source': 'Website', 'types_unit': 'Apartamento', 'types_usage': 'Residencial', 'address_city': 'Rio de Janeiro', 'address_location_lon': -43.264746, 'address_location_lat': -22.886269, 'address_zone': 'Zona Norte', 'address_neighborhood': 'Maria da Graça', 'prices_price': 150000.0, 'prices_tax_iptu': nan, 'prices_tax_condo': 150.0, 'features_bedrooms': 1, 'features_bathrooms': 1, 'features_suites': 0, 'features_parkingSpaces': 0, 'features_usableAreas': 51, 'features_totalAreas': 51, 'features_floors': 0, 'features_unitsOnTheFloor': 0, 'features_unitFloor': 0}, {'customerID': '499114-RYCABFGR', 'source': 'Website', 'types_unit': 'Apartamento', 'types_usage': 'Residencial', 'address_city': 'Rio de Janeiro', 'address_location_lon': -43.347397, 'address_location_lat': -22.963707, 'address_zone': 'Zona Oeste', 'address_neighborhood': 'Gardênia Azul', 'prices_price': 148000.0, 'prices_tax_iptu': nan, 'prices_tax_condo': nan, 'features_bedrooms': 8, 'features_bathrooms': 8, 'features_suites': 0, 'features_parkingSpaces': 0, 'features_usableAreas': 75, 'features_totalAreas': 75, 'features_floors': 0, 'features_unitsOnTheFloor': 0, 'features_unitFloor': 0}, {'customerID': '520049-COVYUZFS', 'source': 'Website', 'types_unit': 'Apartamento', 'types_usage': 'Residencial', 'address_city': 'Rio de Janeiro', 'address_location_lon': -43.20486, 'address_location_lat': -22.925061, 'address_zone': 'Zona Sul', 'address_neighborhood': 'Catumbi', 'prices_price': 145000.0, 'prices_tax_iptu': nan, 'prices_tax_condo': nan, 'features_bedrooms': 1, 'features_bathrooms': 1, 'features_suites': 0, 'features_parkingSpaces': 0, 'features_usableAreas': 24, 'features_totalAreas': 24, 'features_floors': 4, 'features_unitsOnTheFloor': 0, 'features_unitFloor': 0}, {'customerID': '851252-HQGAMAYL', 'source': 'Website', 'types_unit': 'Casa', 'types_usage': 'Residencial', 'address_city': 'Rio de Janeiro', 'address_location_lon': -43.259303, 'address_location_lat': -22.892865, 'address_zone': 'Zona Norte', 'address_neighborhood': 'Jacaré', 'prices_price': 158000.0, 'prices_tax_iptu': 0.0, 'prices_tax_condo': 0.0, 'features_bedrooms': 3, 'features_bathrooms': 2, 'features_suites': 1, 'features_parkingSpaces': 0, 'features_usableAreas': 70, 'features_totalAreas': 70, 'features_floors': 2, 'features_unitsOnTheFloor': 0, 'features_unitFloor': 0}, {'customerID': '353901-IDLHGVNO', 'source': 'Website', 'types_unit': 'Apartamento', 'types_usage': 'Residencial', 'address_city': 'Rio de Janeiro', 'address_location_lon': -43.279327, 'address_location_lat': -22.893526, 'address_zone': 'Zona Norte', 'address_neighborhood': 'Todos os Santos', 'prices_price': 160000.0, 'prices_tax_iptu': 245.0, 'prices_tax_condo': 470.0, 'features_bedrooms': 1, 'features_bathrooms': 1, 'features_suites': 0, 'features_parkingSpaces': 1, 'features_usableAreas': 46, 'features_totalAreas': 46, 'features_floors': 12, 'features_unitsOnTheFloor': 10, 'features_unitFloor': 5}, {'customerID': '356849-SCVTLXYA', 'source': 'Website', 'types_unit': 'Apartamento', 'types_usage': 'Residencial', 'address_city': 'Rio de Janeiro', 'address_location_lon': -43.180373, 'address_location_lat': -22.811001, 'address_zone': 'Zona Norte', 'address_neighborhood': 'Praia da Bandeira', 'prices_price': 160000.0, 'prices_tax_iptu': 0.0, 'prices_tax_condo': 272.0, 'features_bedrooms': 1, 'features_bathrooms': 1, 'features_suites': 0, 'features_parkingSpaces': 1, 'features_usableAreas': 37, 'features_totalAreas': 37, 'features_floors': 0, 'features_unitsOnTheFloor': 0, 'features_unitFloor': 0}, {'customerID': '733502-FXQUTAID', 'source': 'Website', 'types_unit': 'Apartamento', 'types_usage': 'Residencial', 'address_city': 'Rio de Janeiro', 'address_location_lon': -43.180144, 'address_location_lat': -22.812818, 'address_zone': 'Zona Norte', 'address_neighborhood': 'Cocotá', 'prices_price': 170000.0, 'prices_tax_iptu': 0.0, 'prices_tax_condo': 0.0, 'features_bedrooms': 1, 'features_bathrooms': 1, 'features_suites': 0, 'features_parkingSpaces': 1, 'features_usableAreas': 40, 'features_totalAreas': 40, 'features_floors': 0, 'features_unitsOnTheFloor': 0, 'features_unitFloor': 3}, {'customerID': '276294-ZXXBYKKE', 'source': 'Website', 'types_unit': 'Apartamento', 'types_usage': 'Residencial', 'address_city': 'Rio de Janeiro', 'address_location_lon': -43.192857, 'address_location_lat': -22.949977, 'address_zone': 'Zona Sul', 'address_neighborhood': 'Botafogo', 'prices_price': 165000.0, 'prices_tax_iptu': 200.0, 'prices_tax_condo': 230.0, 'features_bedrooms': 1, 'features_bathrooms': 1, 'features_suites': 0, 'features_parkingSpaces': 0, 'features_usableAreas': 23, 'features_totalAreas': 23, 'features_floors': 0, 'features_unitsOnTheFloor': 0, 'features_unitFloor': 0}, {'customerID': '552230-HBKDURJU', 'source': 'Website', 'types_unit': 'Apartamento', 'types_usage': 'Residencial', 'address_city': 'Rio de Janeiro', 'address_location_lon': -43.106513, 'address_location_lat': -22.751375, 'address_zone': 'Zona Norte', 'address_neighborhood': 'Paquetá', 'prices_price': 180000.0, 'prices_tax_iptu': 0.0, 'prices_tax_condo': 242.0, 'features_bedrooms': 2, 'features_bathrooms': 1, 'features_suites': 0, 'features_parkingSpaces': 0, 'features_usableAreas': 50, 'features_totalAreas': 0, 'features_floors': 0, 'features_unitsOnTheFloor': 0, 'features_unitFloor': 2}, {'customerID': '238462-ARQGOCDK', 'source': 'Website', 'types_unit': 'Apartamento', 'types_usage': 'Residencial', 'address_city': 'Rio de Janeiro', 'address_location_lon': -43.216092, 'address_location_lat': -22.877925, 'address_zone': 'Zona Norte', 'address_neighborhood': 'Caju', 'prices_price': 175066.0, 'prices_tax_iptu': 0.0, 'prices_tax_condo': 0.0, 'features_bedrooms': 2, 'features_bathrooms': 1, 'features_suites': 0, 'features_parkingSpaces': 0, 'features_usableAreas': 49, 'features_totalAreas': 0, 'features_floors': 0, 'features_unitsOnTheFloor': 0, 'features_unitFloor': 0}, {'customerID': '245399-GPZDKLOW', 'source': 'Website', 'types_unit': 'Apartamento', 'types_usage': 'Residencial', 'address_city': 'Rio de Janeiro', 'address_location_lon': -43.234353, 'address_location_lat': -22.897122, 'address_zone': 'Zona Norte', 'address_neighborhood': 'Benfica', 'prices_price': 180000.0, 'prices_tax_iptu': 90.0, 'prices_tax_condo': 270.0, 'features_bedrooms': 1, 'features_bathrooms': 1, 'features_suites': 0, 'features_parkingSpaces': 0, 'features_usableAreas': 60, 'features_totalAreas': 60, 'features_floors': 6, 'features_unitsOnTheFloor': 6, 'features_unitFloor': 1}, {'customerID': '521228-BCNRPHVM', 'source': 'Website', 'types_unit': 'Apartamento', 'types_usage': 'Residencial', 'address_city': 'Rio de Janeiro', 'address_location_lon': -43.199316, 'address_location_lat': -22.913413, 'address_zone': 'Zona Central', 'address_neighborhood': 'Cidade Nova', 'prices_price': 180000.0, 'prices_tax_iptu': 0.0, 'prices_tax_condo': 200.0, 'features_bedrooms': 2, 'features_bathrooms': 1, 'features_suites': 0, 'features_parkingSpaces': 0, 'features_usableAreas': 53, 'features_totalAreas': 54, 'features_floors': 3, 'features_unitsOnTheFloor': 4, 'features_unitFloor': 1}, {'customerID': '109193-JIFRYKQX', 'source': 'Website', 'types_unit': 'Apartamento', 'types_usage': 'Residencial', 'address_city': 'Rio de Janeiro', 'address_location_lon': -43.177248, 'address_location_lat': -22.918874, 'address_zone': 'Zona Sul', 'address_neighborhood': 'Glória', 'prices_price': 180000.0, 'prices_tax_iptu': nan, 'prices_tax_condo': 430.0, 'features_bedrooms': 1, 'features_bathrooms': 1, 'features_suites': 0, 'features_parkingSpaces': 0, 'features_usableAreas': 30, 'features_totalAreas': 30, 'features_floors': 0, 'features_unitsOnTheFloor': 0, 'features_unitFloor': 0}, {'customerID': '500772-FRVQCCNM', 'source': 'Website', 'types_unit': 'Apartamento', 'types_usage': 'Residencial', 'address_city': 'Rio de Janeiro', 'address_location_lon': -43.175223, 'address_location_lat': -22.929451, 'address_zone': 'Zona Sul', 'address_neighborhood': 'Flamengo', 'prices_price': 189538.0, 'prices_tax_iptu': 0.0, 'prices_tax_condo': 420.0, 'features_bedrooms': 1, 'features_bathrooms': 1, 'features_suites': 0, 'features_parkingSpaces': 0, 'features_usableAreas': 38, 'features_totalAreas': 38, 'features_floors': 0, 'features_unitsOnTheFloor': 0, 'features_unitFloor': 8}, {'customerID': '295139-FJBOQNZG', 'source': 'Website', 'types_unit': 'Casa', 'types_usage': 'Residencial', 'address_city': 'Rio de Janeiro', 'address_location_lon': -43.183479, 'address_location_lat': -22.815214, 'address_zone': 'Zona Norte', 'address_neighborhood': 'Cacuia', 'prices_price': 190000.0, 'prices_tax_iptu': 0.0, 'prices_tax_condo': 0.0, 'features_bedrooms': 2, 'features_bathrooms': 2, 'features_suites': 0, 'features_parkingSpaces': 0, 'features_usableAreas': 90, 'features_totalAreas': 90, 'features_floors': 1, 'features_unitsOnTheFloor': 1, 'features_unitFloor': 2}, {'customerID': '361603-NRPYKJHN', 'source': 'Website', 'types_unit': 'Apartamento', 'types_usage': 'Residencial', 'address_city': 'Rio de Janeiro', 'address_location_lon': -43.191148, 'address_location_lat': -22.810404, 'address_zone': 'Zona Norte', 'address_neighborhood': 'Jardim Carioca', 'prices_price': 190000.0, 'prices_tax_iptu': 64.0, 'prices_tax_condo': 200.0, 'features_bedrooms': 2, 'features_bathrooms': 1, 'features_suites': 0, 'features_parkingSpaces': 0, 'features_usableAreas': 54, 'features_totalAreas': 54, 'features_floors': 0, 'features_unitsOnTheFloor': 0, 'features_unitFloor': 0}, {'customerID': '818918-MNSCWKIQ', 'source': 'Website', 'types_unit': 'Apartamento', 'types_usage': 'Residencial', 'address_city': 'Rio de Janeiro', 'address_location_lon': -43.252744, 'address_location_lat': -22.940915, 'address_zone': 'Zona Norte', 'address_neighborhood': 'Maracanã', 'prices_price': 185000.0, 'prices_tax_iptu': 0.0, 'prices_tax_condo': 498.0, 'features_bedrooms': 1, 'features_bathrooms': 1, 'features_suites': 0, 'features_parkingSpaces': 0, 'features_usableAreas': 33, 'features_totalAreas': 33, 'features_floors': 0, 'features_unitsOnTheFloor': 0, 'features_unitFloor': 0}, {'customerID': '654106-BGKRZUMW', 'source': 'Website', 'types_unit': 'Apartamento', 'types_usage': 'Residencial', 'address_city': 'Rio de Janeiro', 'address_location_lon': -43.309886, 'address_location_lat': -22.829333, 'address_zone': 'Zona Norte', 'address_neighborhood': 'Vista Alegre', 'prices_price': 200000.0, 'prices_tax_iptu': 0.0, 'prices_tax_condo': 255.0, 'features_bedrooms': 2, 'features_bathrooms': 1, 'features_suites': 0, 'features_parkingSpaces': 1, 'features_usableAreas': 54, 'features_totalAreas': 25000000, 'features_floors': 5, 'features_unitsOnTheFloor': 4, 'features_unitFloor': 3}, {'customerID': '431920-CBWWQVCO', 'source': 'Website', 'types_unit': 'Apartamento', 'types_usage': 'Residencial', 'address_city': 'Rio de Janeiro', 'address_location_lon': -43.209251, 'address_location_lat': -22.913408, 'address_zone': 'Zona Central', 'address_neighborhood': 'Estácio', 'prices_price': 199000.0, 'prices_tax_iptu': 0.0, 'prices_tax_condo': 600.0, 'features_bedrooms': 1, 'features_bathrooms': 1, 'features_suites': 0, 'features_parkingSpaces': 1, 'features_usableAreas': 40, 'features_totalAreas': 40, 'features_floors': 10, 'features_unitsOnTheFloor': 10, 'features_unitFloor': 6}, {'customerID': '638290-JLNDPSDR', 'source': 'Website', 'types_unit': 'Apartamento', 'types_usage': 'Residencial', 'address_city': 'Rio de Janeiro', 'address_location_lon': -43.206327, 'address_location_lat': -22.814286, 'address_zone': 'Zona Norte', 'address_neighborhood': 'Jardim Guanabara', 'prices_price': 200000.0, 'prices_tax_iptu': 0.0, 'prices_tax_condo': 330.0, 'features_bedrooms': 1, 'features_bathrooms': 1, 'features_suites': 0, 'features_parkingSpaces': 1, 'features_usableAreas': 20, 'features_totalAreas': 0, 'features_floors': 0, 'features_unitsOnTheFloor': 0, 'features_unitFloor': 2}, {'customerID': '446038-EBKREGWK', 'source': 'Website', 'types_unit': 'Apartamento', 'types_usage': 'Residencial', 'address_city': 'Rio de Janeiro', 'address_location_lon': -43.185584, 'address_location_lat': -22.969685, 'address_zone': 'Zona Sul', 'address_neighborhood': 'Leme', 'prices_price': 199000.0, 'prices_tax_iptu': 0.0, 'prices_tax_condo': 600.0, 'features_bedrooms': 1, 'features_bathrooms': 1, 'features_suites': 0, 'features_parkingSpaces': 0, 'features_usableAreas': 22, 'features_totalAreas': 22, 'features_floors': 0, 'features_unitsOnTheFloor': 0, 'features_unitFloor': 0}, {'customerID': '646768-PSDSNZKQ', 'source': 'Website', 'types_unit': 'Apartamento', 'types_usage': 'Residencial', 'address_city': 'Rio de Janeiro', 'address_location_lon': -43.40602, 'address_location_lat': -22.884002, 'address_zone': 'Zona Oeste', 'address_neighborhood': 'Vila Militar', 'prices_price': 210000.0, 'prices_tax_iptu': nan, 'prices_tax_condo': 250.0, 'features_bedrooms': 2, 'features_bathrooms': 1, 'features_suites': 0, 'features_parkingSpaces': 0, 'features_usableAreas': 64, 'features_totalAreas': 64, 'features_floors': 0, 'features_unitsOnTheFloor': 0, 'features_unitFloor': 0}, {'customerID': '072749-ZTQUOJAF', 'source': 'Website', 'types_unit': 'Casa', 'types_usage': 'Residencial', 'address_city': 'Rio de Janeiro', 'address_location_lon': -43.69673, 'address_location_lat': -22.936594, 'address_zone': 'Zona Oeste', 'address_neighborhood': 'Dumas', 'prices_price': 220000.0, 'prices_tax_iptu': 0.0, 'prices_tax_condo': 0.0, 'features_bedrooms': 3, 'features_bathrooms': 1, 'features_suites': 0, 'features_parkingSpaces': 2, 'features_usableAreas': 99, 'features_totalAreas': 99, 'features_floors': 0, 'features_unitsOnTheFloor': 0, 'features_unitFloor': 0}, {'customerID': '489585-WYJKRNEX', 'source': 'Website', 'types_unit': 'Apartamento', 'types_usage': 'Residencial', 'address_city': 'Rio de Janeiro', 'address_location_lon': -43.24014, 'address_location_lat': -22.906623, 'address_zone': 'Zona Norte', 'address_neighborhood': 'Mangueira', 'prices_price': 229000.0, 'prices_tax_iptu': 0.0, 'prices_tax_condo': 650.0, 'features_bedrooms': 2, 'features_bathrooms': 2, 'features_suites': 1, 'features_parkingSpaces': 1, 'features_usableAreas': 54, 'features_totalAreas': 0, 'features_floors': 0, 'features_unitsOnTheFloor': 0, 'features_unitFloor': 0}, {'customerID': '463525-YUBKLGUR', 'source': 'Website', 'types_unit': 'Apartamento', 'types_usage': 'Residencial', 'address_city': 'Rio de Janeiro', 'address_location_lon': -43.206783, 'address_location_lat': -22.79634, 'address_zone': 'Zona Norte', 'address_neighborhood': 'Moneró', 'prices_price': 230000.0, 'prices_tax_iptu': 0.0, 'prices_tax_condo': 363.0, 'features_bedrooms': 2, 'features_bathrooms': 1, 'features_suites': 0, 'features_parkingSpaces': 1, 'features_usableAreas': 54, 'features_totalAreas': 54, 'features_floors': 4, 'features_unitsOnTheFloor': 4, 'features_unitFloor': 1}, {'customerID': '186308-VDYSACDQ', 'source': 'Website', 'types_unit': 'Apartamento', 'types_usage': 'Residencial', 'address_city': 'Rio de Janeiro', 'address_location_lon': -43.178557, 'address_location_lat': -22.81493, 'address_zone': 'Zona Norte', 'address_neighborhood': 'Pitangueiras', 'prices_price': 230000.0, 'prices_tax_iptu': 0.0, 'prices_tax_condo': 391.0, 'features_bedrooms': 2, 'features_bathrooms': 1, 'features_suites': 0, 'features_parkingSpaces': 1, 'features_usableAreas': 55, 'features_totalAreas': 55, 'features_floors': 0, 'features_unitsOnTheFloor': 0, 'features_unitFloor': 0}, {'customerID': '033450-VTQJPVQK', 'source': 'Website', 'types_unit': 'Apartamento', 'types_usage': 'Residencial', 'address_city': 'Rio de Janeiro', 'address_location_lon': -43.170253, 'address_location_lat': -22.823244, 'address_zone': 'Zona Norte', 'address_neighborhood': 'Ribeira', 'prices_price': 235000.0, 'prices_tax_iptu': 0.0, 'prices_tax_condo': 400.0, 'features_bedrooms': 1, 'features_bathrooms': 1, 'features_suites': 0, 'features_parkingSpaces': 0, 'features_usableAreas': 55, 'features_totalAreas': 55, 'features_floors': 0, 'features_unitsOnTheFloor': 0, 'features_unitFloor': 0}, {'customerID': '107010-HDTCWREK', 'source': 'Website', 'types_unit': 'Apartamento', 'types_usage': 'Residencial', 'address_city': 'Rio de Janeiro', 'address_location_lon': -43.185944, 'address_location_lat': -22.897633, 'address_zone': 'Zona Central', 'address_neighborhood': 'Saúde', 'prices_price': 245000.0, 'prices_tax_iptu': 36.0, 'prices_tax_condo': 250.0, 'features_bedrooms': 2, 'features_bathrooms': 1, 'features_suites': 0, 'features_parkingSpaces': 1, 'features_usableAreas': 55, 'features_totalAreas': 0, 'features_floors': 18, 'features_unitsOnTheFloor': 10, 'features_unitFloor': 7}, {'customerID': '560328-VUYZNVBQ', 'source': 'Website', 'types_unit': 'Apartamento', 'types_usage': 'Residencial', 'address_city': 'Rio de Janeiro', 'address_location_lon': -43.223121, 'address_location_lat': -22.982519, 'address_zone': 'Zona Sul', 'address_neighborhood': 'Leblon', 'prices_price': 250000.0, 'prices_tax_iptu': nan, 'prices_tax_condo': 145.0, 'features_bedrooms': 1, 'features_bathrooms': 1, 'features_suites': 0, 'features_parkingSpaces': 0, 'features_usableAreas': 10, 'features_totalAreas': 0, 'features_floors': 0, 'features_unitsOnTheFloor': 0, 'features_unitFloor': 0}, {'customerID': '588136-YMBOMPUM', 'source': 'Website', 'types_unit': 'Casa', 'types_usage': 'Residencial', 'address_city': 'Rio de Janeiro', 'address_location_lon': -43.192531, 'address_location_lat': -22.900816, 'address_zone': 'Zona Central', 'address_neighborhood': 'Gamboa', 'prices_price': 250000.0, 'prices_tax_iptu': 0.0, 'prices_tax_condo': 0.0, 'features_bedrooms': 2, 'features_bathrooms': 2, 'features_suites': 0, 'features_parkingSpaces': 0, 'features_usableAreas': 94, 'features_totalAreas': 94, 'features_floors': 0, 'features_unitsOnTheFloor': 0, 'features_unitFloor': 0}, {'customerID': '978676-GYFVSKWD', 'source': 'Website', 'types_unit': 'Casa', 'types_usage': 'Residencial', 'address_city': 'Rio de Janeiro', 'address_location_lon': -43.41334, 'address_location_lat': -22.880919, 'address_zone': 'Zona Oeste', 'address_neighborhood': 'Campo dos Afonsos', 'prices_price': 259900.0, 'prices_tax_iptu': 0.0, 'prices_tax_condo': 0.0, 'features_bedrooms': 3, 'features_bathrooms': 3, 'features_suites': 1, 'features_parkingSpaces': 0, 'features_usableAreas': 90, 'features_totalAreas': 130, 'features_floors': 0, 'features_unitsOnTheFloor': 0, 'features_unitFloor': 2}, {'customerID': '905302-LVUKOIEI', 'source': 'Website', 'types_unit': 'Casa', 'types_usage': 'Residencial', 'address_city': 'Rio de Janeiro', 'address_location_lon': -43.175704, 'address_location_lat': -22.819177, 'address_zone': 'Zona Norte', 'address_neighborhood': 'Zumbi', 'prices_price': 260000.0, 'prices_tax_iptu': 25.0, 'prices_tax_condo': 0.0, 'features_bedrooms': 2, 'features_bathrooms': 1, 'features_suites': 0, 'features_parkingSpaces': 1, 'features_usableAreas': 46, 'features_totalAreas': 181, 'features_floors': 0, 'features_unitsOnTheFloor': 0, 'features_unitFloor': 0}, {'customerID': '412014-PIGUUNWR', 'source': 'Website', 'types_unit': 'Apartamento', 'types_usage': 'Residencial', 'address_city': 'Rio de Janeiro', 'address_location_lon': -43.256676, 'address_location_lat': -22.946932, 'address_zone': 'Zona Norte', 'address_neighborhood': 'Alto da Boa Vista', 'prices_price': 255000.0, 'prices_tax_iptu': 70.0, 'prices_tax_condo': 357.0, 'features_bedrooms': 2, 'features_bathrooms': 2, 'features_suites': 0, 'features_parkingSpaces': 0, 'features_usableAreas': 72, 'features_totalAreas': 72, 'features_floors': 0, 'features_unitsOnTheFloor': 0, 'features_unitFloor': 0}, {'customerID': '607461-SUCEIWXX', 'source': 'Website', 'types_unit': 'Casa', 'types_usage': 'Residencial', 'address_city': 'Rio de Janeiro', 'address_location_lon': -43.401671, 'address_location_lat': -22.839046, 'address_zone': 'Zona Norte', 'address_neighborhood': 'Ricardo de Albuquerque', 'prices_price': 270000.0, 'prices_tax_iptu': 0.0, 'prices_tax_condo': 0.0, 'features_bedrooms': 1, 'features_bathrooms': 1, 'features_suites': 0, 'features_parkingSpaces': 0, 'features_usableAreas': 125, 'features_totalAreas': 125, 'features_floors': 0, 'features_unitsOnTheFloor': 0, 'features_unitFloor': 0}, {'customerID': '307373-HUKNEUAX', 'source': 'Website', 'types_unit': 'Casa', 'types_usage': 'Residencial', 'address_city': 'Rio de Janeiro', 'address_location_lon': -43.398893, 'address_location_lat': -22.835903, 'address_zone': 'Zona Norte', 'address_neighborhood': 'Parque Anchieta', 'prices_price': 280000.0, 'prices_tax_iptu': 0.0, 'prices_tax_condo': 30.0, 'features_bedrooms': 2, 'features_bathrooms': 2, 'features_suites': 0, 'features_parkingSpaces': 1, 'features_usableAreas': 149, 'features_totalAreas': 149, 'features_floors': 0, 'features_unitsOnTheFloor': 0, 'features_unitFloor': 0}, {'customerID': '204639-BEDHJFAK', 'source': 'Website', 'types_unit': 'Apartamento', 'types_usage': 'Residencial', 'address_city': 'Rio de Janeiro', 'address_location_lon': -43.231548, 'address_location_lat': -22.977155, 'address_zone': 'Zona Sul', 'address_neighborhood': 'Gávea', 'prices_price': 370000.0, 'prices_tax_iptu': 847.0, 'prices_tax_condo': 250.0, 'features_bedrooms': 1, 'features_bathrooms': 1, 'features_suites': 0, 'features_parkingSpaces': 0, 'features_usableAreas': 29, 'features_totalAreas': 29, 'features_floors': 4, 'features_unitsOnTheFloor': 3, 'features_unitFloor': 4}, {'customerID': '639204-SJZPNPGY', 'source': 'Website', 'types_unit': 'Apartamento', 'types_usage': 'Residencial', 'address_city': 'Rio de Janeiro', 'address_location_lon': -43.223689, 'address_location_lat': -22.961651, 'address_zone': 'Zona Sul', 'address_neighborhood': 'Jardim Botânico', 'prices_price': 375000.0, 'prices_tax_iptu': 0.0, 'prices_tax_condo': 0.0, 'features_bedrooms': 2, 'features_bathrooms': 2, 'features_suites': 0, 'features_parkingSpaces': 0, 'features_usableAreas': 67, 'features_totalAreas': 67, 'features_floors': 3, 'features_unitsOnTheFloor': 2, 'features_unitFloor': 1}, {'customerID': '562973-DMTACDCY', 'source': 'Website', 'types_unit': 'Apartamento', 'types_usage': 'Residencial', 'address_city': 'Rio de Janeiro', 'address_location_lon': -43.364859, 'address_location_lat': -22.880085, 'address_zone': 'Zona Oeste', 'address_neighborhood': 'Cidade Universitária', 'prices_price': 395000.0, 'prices_tax_iptu': nan, 'prices_tax_condo': 590.0, 'features_bedrooms': 2, 'features_bathrooms': 2, 'features_suites': 1, 'features_parkingSpaces': 1, 'features_usableAreas': 65, 'features_totalAreas': 65, 'features_floors': 0, 'features_unitsOnTheFloor': 0, 'features_unitFloor': 0}, {'customerID': '029254-PKBPWQKR', 'source': 'Website', 'types_unit': 'Apartamento', 'types_usage': 'Residencial', 'address_city': 'Rio de Janeiro', 'address_location_lon': -43.162199, 'address_location_lat': -22.946213, 'address_zone': 'Zona Sul', 'address_neighborhood': 'Urca', 'prices_price': 400000.0, 'prices_tax_iptu': 100.0, 'prices_tax_condo': 400.0, 'features_bedrooms': 1, 'features_bathrooms': 1, 'features_suites': 0, 'features_parkingSpaces': 0, 'features_usableAreas': 25, 'features_totalAreas': 25, 'features_floors': 0, 'features_unitsOnTheFloor': 0, 'features_unitFloor': 0}, {'customerID': '615309-AUIPIJMW', 'source': 'Website', 'types_unit': 'Apartamento', 'types_usage': 'Residencial', 'address_city': 'Rio de Janeiro', 'address_location_lon': -43.198118, 'address_location_lat': -22.956278, 'address_zone': 'Zona Sul', 'address_neighborhood': 'Humaitá', 'prices_price': 400000.0, 'prices_tax_iptu': 117.0, 'prices_tax_condo': nan, 'features_bedrooms': 1, 'features_bathrooms': 1, 'features_suites': 0, 'features_parkingSpaces': 0, 'features_usableAreas': 30, 'features_totalAreas': 36, 'features_floors': 0, 'features_unitsOnTheFloor': 0, 'features_unitFloor': 0}, {'customerID': '034966-EXJWNMEN', 'source': 'Website', 'types_unit': 'Outros', 'types_usage': 'Residencial', 'address_city': 'Rio de Janeiro', 'address_location_lon': -43.199809, 'address_location_lat': -22.966372, 'address_zone': 'Zona Sul', 'address_neighborhood': 'Lagoa', 'prices_price': 439574.0, 'prices_tax_iptu': nan, 'prices_tax_condo': nan, 'features_bedrooms': 0, 'features_bathrooms': 0, 'features_suites': 0, 'features_parkingSpaces': 0, 'features_usableAreas': 387, 'features_totalAreas': 387, 'features_floors': 0, 'features_unitsOnTheFloor': 0, 'features_unitFloor': 0}, {'customerID': '543186-FNHBJUBZ', 'source': 'Website', 'types_unit': 'Outros', 'types_usage': 'Residencial', 'address_city': 'Rio de Janeiro', 'address_location_lon': -43.256071, 'address_location_lat': -22.993336, 'address_zone': 'Zona Sul', 'address_neighborhood': 'São Conrado', 'prices_price': 475000.0, 'prices_tax_iptu': 8475.0, 'prices_tax_condo': 120.0, 'features_bedrooms': 0, 'features_bathrooms': 0, 'features_suites': 0, 'features_parkingSpaces': 0, 'features_usableAreas': 450, 'features_totalAreas': 450, 'features_floors': 0, 'features_unitsOnTheFloor': 0, 'features_unitFloor': 0}, {'customerID': '995320-WJHYOFEX', 'source': 'Website', 'types_unit': 'Casa', 'types_usage': 'Residencial', 'address_city': 'Rio de Janeiro', 'address_location_lon': -43.337189, 'address_location_lat': -22.813252, 'address_zone': 'Zona Norte', 'address_neighborhood': 'Parque Colúmbia', 'prices_price': 480000.0, 'prices_tax_iptu': 0.0, 'prices_tax_condo': 0.0, 'features_bedrooms': 5, 'features_bathrooms': 8, 'features_suites': 0, 'features_parkingSpaces': 1, 'features_usableAreas': 121, 'features_totalAreas': 121, 'features_floors': 0, 'features_unitsOnTheFloor': 0, 'features_unitFloor': 0}, {'customerID': '907281-NDKXWBUD', 'source': 'Website', 'types_unit': 'Apartamento', 'types_usage': 'Residencial', 'address_city': 'Rio de Janeiro', 'address_location_lon': -43.197861, 'address_location_lat': -22.986763, 'address_zone': 'Zona Sul', 'address_neighborhood': 'Ipanema', 'prices_price': 485000.0, 'prices_tax_iptu': 750.0, 'prices_tax_condo': 650.0, 'features_bedrooms': 1, 'features_bathrooms': 1, 'features_suites': 0, 'features_parkingSpaces': 0, 'features_usableAreas': 30, 'features_totalAreas': 30, 'features_floors': 12, 'features_unitsOnTheFloor': 10, 'features_unitFloor': 8}, {'customerID': '680244-ONBPWTUC', 'source': 'Website', 'types_unit': 'Apartamento', 'types_usage': 'Residencial', 'address_city': 'Rio de Janeiro', 'address_location_lon': -43.19845, 'address_location_lat': -22.942318, 'address_zone': 'Zona Sul', 'address_neighborhood': 'Cosme Velho', 'prices_price': 590000.0, 'prices_tax_iptu': 90.0, 'prices_tax_condo': 500.0, 'features_bedrooms': 2, 'features_bathrooms': 1, 'features_suites': 0, 'features_parkingSpaces': 0, 'features_usableAreas': 77, 'features_totalAreas': 77, 'features_floors': 0, 'features_unitsOnTheFloor': 0, 'features_unitFloor': 0}, {'customerID': '445496-DTNEZSHE', 'source': 'Website', 'types_unit': 'Outros', 'types_usage': 'Residencial', 'address_city': 'Rio de Janeiro', 'address_location_lon': -43.172897, 'address_location_lat': -22.906847, 'address_zone': 'Zona Central', 'address_neighborhood': 'Área Rural de Rio de Janeiro', 'prices_price': 600000.0, 'prices_tax_iptu': 0.0, 'prices_tax_condo': 0.0, 'features_bedrooms': 0, 'features_bathrooms': 0, 'features_suites': 0, 'features_parkingSpaces': 0, 'features_usableAreas': 0, 'features_totalAreas': 0, 'features_floors': 0, 'features_unitsOnTheFloor': 0, 'features_unitFloor': 0}, {'customerID': '505027-MHKZWGJJ', 'source': 'Website', 'types_unit': 'Apartamento', 'types_usage': 'Residencial', 'address_city': 'Rio de Janeiro', 'address_location_lon': -43.271541, 'address_location_lat': -22.999023, 'address_zone': 'Zona Sul', 'address_neighborhood': 'Joá', 'prices_price': 980000.0, 'prices_tax_iptu': 250.0, 'prices_tax_condo': 1200.0, 'features_bedrooms': 3, 'features_bathrooms': 2, 'features_suites': 1, 'features_parkingSpaces': 1, 'features_usableAreas': 110, 'features_totalAreas': 110, 'features_floors': 0, 'features_unitsOnTheFloor': 0, 'features_unitFloor': 0}, {'customerID': '503242-HDVZOJAQ', 'source': 'Website', 'types_unit': 'Outros', 'types_usage': 'Residencial', 'address_city': 'Rio de Janeiro', 'address_location_lon': -43.227361, 'address_location_lat': -22.786419, 'address_zone': 'Zona Norte', 'address_neighborhood': 'Tubiacanga', 'prices_price': 1000000.0, 'prices_tax_iptu': nan, 'prices_tax_condo': nan, 'features_bedrooms': 8, 'features_bathrooms': 4, 'features_suites': 5, 'features_parkingSpaces': 4, 'features_usableAreas': 720, 'features_totalAreas': 720, 'features_floors': 0, 'features_unitsOnTheFloor': 0, 'features_unitFloor': 1}]\n"
          ]
        }
      ],
      "source": [
        "dici = dados_imoveis[~dados_imoveis['address_zone'].isna()].drop_duplicates(subset=['address_neighborhood']).to_dict('records')\n",
        "print(dici)"
      ]
    },
    {
      "cell_type": "code",
      "execution_count": null,
      "metadata": {
        "colab": {
          "base_uri": "https://localhost:8080/"
        },
        "id": "o7ev6bRMGwPP",
        "outputId": "23ecf18e-4676-4b38-b375-6fb3205007eb"
      },
      "outputs": [
        {
          "name": "stdout",
          "output_type": "stream",
          "text": [
            "{'Taquara': 'Zona Oeste', 'Santíssimo': 'Zona Oeste', 'Pedra de Guaratiba': 'Zona Oeste', 'Recreio dos Bandeirantes': 'Zona Oeste', 'Guaratiba': 'Zona Oeste', 'Jacarezinho': 'Zona Norte', 'Santa Cruz': 'Zona Oeste', 'Vargem Grande': 'Zona Oeste', 'Bangu': 'Zona Oeste', 'Tanque': 'Zona Oeste', 'Santo Cristo': 'Zona Central', 'Coelho Neto': 'Zona Norte', 'Bento Ribeiro': 'Zona Norte', 'Campo Grande': 'Zona Oeste', 'Oswaldo Cruz': 'Zona Norte', 'Camorim': 'Zona Oeste', 'Sepetiba': 'Zona Oeste', 'Vigário Geral': 'Zona Norte', 'Campinho': 'Zona Norte', 'Realengo': 'Zona Oeste', 'Jacarepaguá': 'Zona Oeste', 'Cidade de Deus': 'Zona Oeste', 'Honório Gurgel': 'Zona Norte', 'Centro': 'Zona Central', 'Cosmos': 'Zona Oeste', 'Tomás Coelho': 'Zona Norte', 'Cascadura': 'Zona Norte', 'Pavuna': 'Zona Norte', 'Paciência': 'Zona Oeste', 'Praça Seca': 'Zona Oeste', 'Vila Valqueire': 'Zona Oeste', 'Inhoaíba': 'Zona Oeste', 'Vicente de Carvalho': 'Zona Norte', 'Senador Vasconcelos': 'Zona Oeste', 'Turiaçu': 'Zona Norte', 'Penha Circular': 'Zona Norte', 'Quintino Bocaiúva': 'Zona Norte', 'Sampaio': 'Zona Norte', 'Piedade': 'Zona Norte', 'Braz de Pina': 'Zona Norte', 'São Cristóvão': 'Zona Norte', 'Marechal Hermes': 'Zona Norte', 'Santa Teresa': 'Zona Sul', 'Vila Isabel': 'Zona Norte', 'Curicica': 'Zona Oeste', 'Engenho de Dentro': 'Zona Norte', 'Engenho da Rainha': 'Zona Norte', 'Madureira': 'Zona Norte', 'Engenho Novo': 'Zona Norte', 'Engenheiro Leal': 'Zona Norte', 'Higienópolis': 'Zona Norte', 'Padre Miguel': 'Zona Oeste', 'Rocha Miranda': 'Zona Norte', 'Pilares': 'Zona Norte', 'Anchieta': 'Zona Norte', 'Jardim Sulacap': 'Zona Oeste', 'Encantado': 'Zona Norte', 'Galeão': 'Zona Norte', 'Parada de Lucas': 'Zona Norte', 'Olaria': 'Zona Norte', 'Bonsucesso': 'Zona Norte', 'Méier': 'Zona Norte', 'Laranjeiras': 'Zona Sul', 'Cordovil': 'Zona Norte', 'Abolição': 'Zona Norte', 'Inhaúma': 'Zona Norte', 'Bancários': 'Zona Norte', 'Lins de Vasconcelos': 'Zona Norte', 'Ramos': 'Zona Norte', 'Irajá': 'Zona Norte', 'Rio Comprido': 'Zona Sul', 'Guadalupe': 'Zona Norte', 'Penha': 'Zona Norte', 'Riachuelo': 'Zona Norte', 'Tijuca': 'Zona Norte', 'Pechincha': 'Zona Oeste', 'Vaz Lobo': 'Zona Norte', 'Freguesia (Ilha do Governador)': 'Zona Norte', 'Cavalcanti': 'Zona Norte', 'Senador Camará': 'Zona Oeste', 'Vargem Pequena': 'Zona Oeste', 'Praça da Bandeira': 'Zona Norte', 'Vila Kosmos': 'Zona Norte', 'Catete': 'Zona Sul', 'Rocha': 'Zona Norte', 'Colégio': 'Zona Norte', 'Del Castilho': 'Zona Norte', 'Grajaú': 'Zona Norte', 'Barra de Guaratiba': 'Zona Oeste', 'Anil': 'Zona Oeste', 'Andaraí': 'Zona Norte', 'Vila da Penha': 'Zona Norte', 'Magalhães Bastos': 'Zona Oeste', 'Barra da Tijuca': 'Zona Oeste', 'Freguesia (Jacarepaguá)': 'Zona Oeste', 'Copacabana': 'Zona Sul', 'São Francisco Xavier': 'Zona Norte', 'Água Santa': 'Zona Norte', 'Itanhangá': 'Zona Oeste', 'Jardim América': 'Zona Norte', 'Portuguesa': 'Zona Norte', 'Vidigal': 'Zona Sul', 'Cachambi': 'Zona Norte', 'Tauá': 'Zona Norte', 'Maria da Graça': 'Zona Norte', 'Gardênia Azul': 'Zona Oeste', 'Catumbi': 'Zona Sul', 'Jacaré': 'Zona Norte', 'Todos os Santos': 'Zona Norte', 'Praia da Bandeira': 'Zona Norte', 'Cocotá': 'Zona Norte', 'Botafogo': 'Zona Sul', 'Paquetá': 'Zona Norte', 'Caju': 'Zona Norte', 'Benfica': 'Zona Norte', 'Cidade Nova': 'Zona Central', 'Glória': 'Zona Sul', 'Flamengo': 'Zona Sul', 'Cacuia': 'Zona Norte', 'Jardim Carioca': 'Zona Norte', 'Maracanã': 'Zona Norte', 'Vista Alegre': 'Zona Norte', 'Estácio': 'Zona Central', 'Jardim Guanabara': 'Zona Norte', 'Leme': 'Zona Sul', 'Vila Militar': 'Zona Oeste', 'Dumas': 'Zona Oeste', 'Mangueira': 'Zona Norte', 'Moneró': 'Zona Norte', 'Pitangueiras': 'Zona Norte', 'Ribeira': 'Zona Norte', 'Saúde': 'Zona Central', 'Leblon': 'Zona Sul', 'Gamboa': 'Zona Central', 'Campo dos Afonsos': 'Zona Oeste', 'Zumbi': 'Zona Norte', 'Alto da Boa Vista': 'Zona Norte', 'Ricardo de Albuquerque': 'Zona Norte', 'Parque Anchieta': 'Zona Norte', 'Gávea': 'Zona Sul', 'Jardim Botânico': 'Zona Sul', 'Cidade Universitária': 'Zona Oeste', 'Urca': 'Zona Sul', 'Humaitá': 'Zona Sul', 'Lagoa': 'Zona Sul', 'São Conrado': 'Zona Sul', 'Parque Colúmbia': 'Zona Norte', 'Ipanema': 'Zona Sul', 'Cosme Velho': 'Zona Sul', 'Área Rural de Rio de Janeiro': 'Zona Central', 'Joá': 'Zona Sul', 'Tubiacanga': 'Zona Norte'}\n"
          ]
        }
      ],
      "source": [
        "#dicionario da bairro para zona\n",
        "dic_zonas = {dic['address_neighborhood']: dic['address_zone'] for dic in dici}\n",
        "print(dic_zonas)"
      ]
    },
    {
      "cell_type": "code",
      "execution_count": null,
      "metadata": {
        "id": "YdB2gnHoG1rN"
      },
      "outputs": [],
      "source": [
        "for bairro,zona in dic_zonas.items(): dados_imoveis.loc[dados_imoveis['address_neighborhood'] == bairro, 'address_zone'] = zona"
      ]
    },
    {
      "cell_type": "code",
      "execution_count": null,
      "metadata": {
        "colab": {
          "base_uri": "https://localhost:8080/"
        },
        "id": "JoU7a9QUjoty",
        "outputId": "21686bb7-918d-4b15-dcd2-3defee8a994d"
      },
      "outputs": [
        {
          "data": {
            "text/plain": [
              "0"
            ]
          },
          "execution_count": 22,
          "metadata": {},
          "output_type": "execute_result"
        }
      ],
      "source": [
        "dados_imoveis['address_zone'].isnull().sum()"
      ]
    },
    {
      "cell_type": "markdown",
      "metadata": {
        "id": "1EU9EG9vjotz"
      },
      "source": [
        "#### Dados nulos prices"
      ]
    },
    {
      "cell_type": "code",
      "execution_count": null,
      "metadata": {
        "colab": {
          "base_uri": "https://localhost:8080/"
        },
        "id": "C4kdOgqujotz",
        "outputId": "f60e53cc-115f-4c05-8b23-1d83ef10dd27"
      },
      "outputs": [
        {
          "data": {
            "text/plain": [
              "8725"
            ]
          },
          "execution_count": 23,
          "metadata": {},
          "output_type": "execute_result"
        }
      ],
      "source": [
        "dados_imoveis.prices_tax_iptu.isnull().sum()"
      ]
    },
    {
      "cell_type": "code",
      "execution_count": null,
      "metadata": {
        "colab": {
          "base_uri": "https://localhost:8080/"
        },
        "id": "gJ5ih9vljotz",
        "outputId": "65e4d581-dcdf-4b0c-a3a3-cfd4a87b8ece"
      },
      "outputs": [
        {
          "data": {
            "text/plain": [
              "6061"
            ]
          },
          "execution_count": 24,
          "metadata": {},
          "output_type": "execute_result"
        }
      ],
      "source": [
        "dados_imoveis.prices_tax_condo.isnull().sum()"
      ]
    },
    {
      "cell_type": "code",
      "execution_count": null,
      "metadata": {
        "id": "yn6UTSetjotz"
      },
      "outputs": [],
      "source": [
        "dados_imoveis.prices_tax_iptu.fillna(0, inplace=True)\n",
        "dados_imoveis.prices_tax_condo.fillna(0, inplace=True)"
      ]
    },
    {
      "cell_type": "code",
      "execution_count": null,
      "metadata": {
        "colab": {
          "base_uri": "https://localhost:8080/"
        },
        "id": "C78oY-dnjot0",
        "outputId": "09a4b122-3f57-4983-cbdf-0c1b86459c44"
      },
      "outputs": [
        {
          "name": "stdout",
          "output_type": "stream",
          "text": [
            "Total de prices nulos: 0\n",
            "Total de prices_tax_condo nulos: 0\n"
          ]
        }
      ],
      "source": [
        "print(f\"Total de prices nulos: {dados_imoveis.prices_tax_iptu.isnull().sum()}\")\n",
        "print(f\"Total de prices_tax_condo nulos: {dados_imoveis.prices_tax_condo.isnull().sum()}\")"
      ]
    },
    {
      "cell_type": "markdown",
      "metadata": {
        "id": "wRjLUDMKjot2"
      },
      "source": [
        "### Alterar o nome das colunas e seleção de variáveis"
      ]
    },
    {
      "cell_type": "code",
      "execution_count": null,
      "metadata": {
        "id": "ZO01Zqc7lLyV"
      },
      "outputs": [],
      "source": [
        "dados_imoveis.drop(['customerID', 'source', 'types_usage', 'address_city',\n",
        "                    'address_location_lon', 'address_location_lat','address_neighborhood' ], axis = 1, inplace=True)"
      ]
    },
    {
      "cell_type": "code",
      "execution_count": null,
      "metadata": {
        "colab": {
          "base_uri": "https://localhost:8080/",
          "height": 357
        },
        "id": "HLT13EDejot2",
        "outputId": "00ed721b-1199-485d-db3b-1db4c0b42323"
      },
      "outputs": [
        {
          "data": {
            "text/html": [
              "\n",
              "  <div id=\"df-cde8c8ac-984e-4f55-84c9-95cb386c47de\">\n",
              "    <div class=\"colab-df-container\">\n",
              "      <div>\n",
              "<style scoped>\n",
              "    .dataframe tbody tr th:only-of-type {\n",
              "        vertical-align: middle;\n",
              "    }\n",
              "\n",
              "    .dataframe tbody tr th {\n",
              "        vertical-align: top;\n",
              "    }\n",
              "\n",
              "    .dataframe thead th {\n",
              "        text-align: right;\n",
              "    }\n",
              "</style>\n",
              "<table border=\"1\" class=\"dataframe\">\n",
              "  <thead>\n",
              "    <tr style=\"text-align: right;\">\n",
              "      <th></th>\n",
              "      <th>unit</th>\n",
              "      <th>zone</th>\n",
              "      <th>price</th>\n",
              "      <th>tax_iptu</th>\n",
              "      <th>tax_condo</th>\n",
              "      <th>bedrooms</th>\n",
              "      <th>bathrooms</th>\n",
              "      <th>suites</th>\n",
              "      <th>parkingSpaces</th>\n",
              "      <th>usableAreas</th>\n",
              "      <th>totalAreas</th>\n",
              "      <th>floors</th>\n",
              "      <th>unitsOnTheFloor</th>\n",
              "      <th>unitFloor</th>\n",
              "    </tr>\n",
              "  </thead>\n",
              "  <tbody>\n",
              "    <tr>\n",
              "      <th>0</th>\n",
              "      <td>Outros</td>\n",
              "      <td>Zona Oeste</td>\n",
              "      <td>45000.0</td>\n",
              "      <td>0.0</td>\n",
              "      <td>150.0</td>\n",
              "      <td>0</td>\n",
              "      <td>0</td>\n",
              "      <td>0</td>\n",
              "      <td>1</td>\n",
              "      <td>62</td>\n",
              "      <td>62</td>\n",
              "      <td>0</td>\n",
              "      <td>0</td>\n",
              "      <td>0</td>\n",
              "    </tr>\n",
              "    <tr>\n",
              "      <th>1</th>\n",
              "      <td>Apartamento</td>\n",
              "      <td>Zona Oeste</td>\n",
              "      <td>45000.0</td>\n",
              "      <td>0.0</td>\n",
              "      <td>120.0</td>\n",
              "      <td>2</td>\n",
              "      <td>1</td>\n",
              "      <td>0</td>\n",
              "      <td>1</td>\n",
              "      <td>44</td>\n",
              "      <td>0</td>\n",
              "      <td>0</td>\n",
              "      <td>0</td>\n",
              "      <td>0</td>\n",
              "    </tr>\n",
              "    <tr>\n",
              "      <th>2</th>\n",
              "      <td>Outros</td>\n",
              "      <td>Zona Oeste</td>\n",
              "      <td>50000.0</td>\n",
              "      <td>0.0</td>\n",
              "      <td>100.0</td>\n",
              "      <td>0</td>\n",
              "      <td>0</td>\n",
              "      <td>0</td>\n",
              "      <td>0</td>\n",
              "      <td>132</td>\n",
              "      <td>132</td>\n",
              "      <td>0</td>\n",
              "      <td>0</td>\n",
              "      <td>0</td>\n",
              "    </tr>\n",
              "    <tr>\n",
              "      <th>3</th>\n",
              "      <td>Apartamento</td>\n",
              "      <td>Zona Oeste</td>\n",
              "      <td>50000.0</td>\n",
              "      <td>120.0</td>\n",
              "      <td>400.0</td>\n",
              "      <td>3</td>\n",
              "      <td>2</td>\n",
              "      <td>1</td>\n",
              "      <td>1</td>\n",
              "      <td>60</td>\n",
              "      <td>0</td>\n",
              "      <td>3</td>\n",
              "      <td>4</td>\n",
              "      <td>2</td>\n",
              "    </tr>\n",
              "    <tr>\n",
              "      <th>4</th>\n",
              "      <td>Outros</td>\n",
              "      <td>Zona Oeste</td>\n",
              "      <td>50000.0</td>\n",
              "      <td>0.0</td>\n",
              "      <td>0.0</td>\n",
              "      <td>0</td>\n",
              "      <td>0</td>\n",
              "      <td>0</td>\n",
              "      <td>0</td>\n",
              "      <td>200</td>\n",
              "      <td>200</td>\n",
              "      <td>0</td>\n",
              "      <td>0</td>\n",
              "      <td>0</td>\n",
              "    </tr>\n",
              "  </tbody>\n",
              "</table>\n",
              "</div>\n",
              "      <button class=\"colab-df-convert\" onclick=\"convertToInteractive('df-cde8c8ac-984e-4f55-84c9-95cb386c47de')\"\n",
              "              title=\"Convert this dataframe to an interactive table.\"\n",
              "              style=\"display:none;\">\n",
              "        \n",
              "  <svg xmlns=\"http://www.w3.org/2000/svg\" height=\"24px\"viewBox=\"0 0 24 24\"\n",
              "       width=\"24px\">\n",
              "    <path d=\"M0 0h24v24H0V0z\" fill=\"none\"/>\n",
              "    <path d=\"M18.56 5.44l.94 2.06.94-2.06 2.06-.94-2.06-.94-.94-2.06-.94 2.06-2.06.94zm-11 1L8.5 8.5l.94-2.06 2.06-.94-2.06-.94L8.5 2.5l-.94 2.06-2.06.94zm10 10l.94 2.06.94-2.06 2.06-.94-2.06-.94-.94-2.06-.94 2.06-2.06.94z\"/><path d=\"M17.41 7.96l-1.37-1.37c-.4-.4-.92-.59-1.43-.59-.52 0-1.04.2-1.43.59L10.3 9.45l-7.72 7.72c-.78.78-.78 2.05 0 2.83L4 21.41c.39.39.9.59 1.41.59.51 0 1.02-.2 1.41-.59l7.78-7.78 2.81-2.81c.8-.78.8-2.07 0-2.86zM5.41 20L4 18.59l7.72-7.72 1.47 1.35L5.41 20z\"/>\n",
              "  </svg>\n",
              "      </button>\n",
              "      \n",
              "  <style>\n",
              "    .colab-df-container {\n",
              "      display:flex;\n",
              "      flex-wrap:wrap;\n",
              "      gap: 12px;\n",
              "    }\n",
              "\n",
              "    .colab-df-convert {\n",
              "      background-color: #E8F0FE;\n",
              "      border: none;\n",
              "      border-radius: 50%;\n",
              "      cursor: pointer;\n",
              "      display: none;\n",
              "      fill: #1967D2;\n",
              "      height: 32px;\n",
              "      padding: 0 0 0 0;\n",
              "      width: 32px;\n",
              "    }\n",
              "\n",
              "    .colab-df-convert:hover {\n",
              "      background-color: #E2EBFA;\n",
              "      box-shadow: 0px 1px 2px rgba(60, 64, 67, 0.3), 0px 1px 3px 1px rgba(60, 64, 67, 0.15);\n",
              "      fill: #174EA6;\n",
              "    }\n",
              "\n",
              "    [theme=dark] .colab-df-convert {\n",
              "      background-color: #3B4455;\n",
              "      fill: #D2E3FC;\n",
              "    }\n",
              "\n",
              "    [theme=dark] .colab-df-convert:hover {\n",
              "      background-color: #434B5C;\n",
              "      box-shadow: 0px 1px 3px 1px rgba(0, 0, 0, 0.15);\n",
              "      filter: drop-shadow(0px 1px 2px rgba(0, 0, 0, 0.3));\n",
              "      fill: #FFFFFF;\n",
              "    }\n",
              "  </style>\n",
              "\n",
              "      <script>\n",
              "        const buttonEl =\n",
              "          document.querySelector('#df-cde8c8ac-984e-4f55-84c9-95cb386c47de button.colab-df-convert');\n",
              "        buttonEl.style.display =\n",
              "          google.colab.kernel.accessAllowed ? 'block' : 'none';\n",
              "\n",
              "        async function convertToInteractive(key) {\n",
              "          const element = document.querySelector('#df-cde8c8ac-984e-4f55-84c9-95cb386c47de');\n",
              "          const dataTable =\n",
              "            await google.colab.kernel.invokeFunction('convertToInteractive',\n",
              "                                                     [key], {});\n",
              "          if (!dataTable) return;\n",
              "\n",
              "          const docLinkHtml = 'Like what you see? Visit the ' +\n",
              "            '<a target=\"_blank\" href=https://colab.research.google.com/notebooks/data_table.ipynb>data table notebook</a>'\n",
              "            + ' to learn more about interactive tables.';\n",
              "          element.innerHTML = '';\n",
              "          dataTable['output_type'] = 'display_data';\n",
              "          await google.colab.output.renderOutput(dataTable, element);\n",
              "          const docLink = document.createElement('div');\n",
              "          docLink.innerHTML = docLinkHtml;\n",
              "          element.appendChild(docLink);\n",
              "        }\n",
              "      </script>\n",
              "    </div>\n",
              "  </div>\n",
              "  "
            ],
            "text/plain": [
              "          unit        zone    price  tax_iptu  tax_condo  bedrooms  bathrooms  \\\n",
              "0       Outros  Zona Oeste  45000.0       0.0      150.0         0          0   \n",
              "1  Apartamento  Zona Oeste  45000.0       0.0      120.0         2          1   \n",
              "2       Outros  Zona Oeste  50000.0       0.0      100.0         0          0   \n",
              "3  Apartamento  Zona Oeste  50000.0     120.0      400.0         3          2   \n",
              "4       Outros  Zona Oeste  50000.0       0.0        0.0         0          0   \n",
              "\n",
              "   suites  parkingSpaces  usableAreas  totalAreas  floors  unitsOnTheFloor  \\\n",
              "0       0              1           62          62       0                0   \n",
              "1       0              1           44           0       0                0   \n",
              "2       0              0          132         132       0                0   \n",
              "3       1              1           60           0       3                4   \n",
              "4       0              0          200         200       0                0   \n",
              "\n",
              "   unitFloor  \n",
              "0          0  \n",
              "1          0  \n",
              "2          0  \n",
              "3          2  \n",
              "4          0  "
            ]
          },
          "execution_count": 28,
          "metadata": {},
          "output_type": "execute_result"
        }
      ],
      "source": [
        "dicionario_colunas = {'types_unit': 'unit', 'address_zone': 'zone', 'prices_price': 'price',\n",
        "                     'prices_tax_condo': 'tax_condo', 'prices_tax_iptu': 'tax_iptu', 'features_bedrooms': 'bedrooms',\n",
        "                      'features_bathrooms': 'bathrooms', 'features_suites': 'suites', 'features_parkingSpaces': 'parkingSpaces',\n",
        "                      'features_usableAreas': 'usableAreas', 'features_totalAreas':'totalAreas', 'features_floors':'floors',\n",
        "                      'features_unitsOnTheFloor':'unitsOnTheFloor', 'features_unitFloor':'unitFloor'}\n",
        "\n",
        "dados_imoveis = dados_imoveis.rename(dicionario_colunas, axis = 1)\n",
        "dados_imoveis.head()"
      ]
    },
    {
      "cell_type": "markdown",
      "metadata": {
        "id": "2W6DLSKVjot1"
      },
      "source": [
        "# Aula 2 - Regressão linear"
      ]
    },
    {
      "cell_type": "markdown",
      "metadata": {
        "id": "aQShHdqZjot2"
      },
      "source": [
        "## 2.1 - Correlação"
      ]
    },
    {
      "cell_type": "markdown",
      "metadata": {
        "id": "gRLWHhMvDyXm"
      },
      "source": [
        "*   Correlação: grau da relação entre variáveis. Pode ser positiva ou negativa essa relação.\n",
        "\n",
        "*   Multicolinearidade: relação perfeita ou exata entre variáveis.\n",
        "\n",
        "\n",
        "\n",
        "**Dica de leitura:** [Estatística prática para cientistas de dados: 50 conceitos essenciais](https://www.amazon.com.br/Estat%C3%ADstica-Pr%C3%A1tica-Para-Cientistas-Dados/dp/855080603X/ref=sr_1_21?__mk_pt_BR=%C3%85M%C3%85%C5%BD%C3%95%C3%91&crid=1JJ44C5LJXLR3&keywords=data+science&qid=1657892785&sprefix=data+science%2Caps%2C201&sr=8-21)\n",
        "e [Estatística: O que é, para que serve e como funciona](https://www.amazon.com.br/Estat%C3%ADstica-para-serve-como-funciona/dp/8537815128/ref=pd_sbs_sccl_3_1/137-9319794-7502061?pd_rd_w=EQoo7&content-id=amzn1.sym.d27ac626-cb3c-4c30-830f-0fd405f2510f&pf_rd_p=d27ac626-cb3c-4c30-830f-0fd405f2510f&pf_rd_r=E896BYW6W206YVVR3SHA&pd_rd_wg=3O0Cg&pd_rd_r=3e3910b0-5f34-4a57-87b2-1d918494d614&pd_rd_i=8537815128&psc=1) [(Naked Statistics: Stripping the Dread from the Data - versão em inglês)](https://www.amazon.com.br/Naked-Statistics-Stripping-Dread-Data/dp/039334777X/ref=sr_1_2?keywords=naked+statistics&qid=1657893464&sprefix=naked+st%2Caps%2C267&sr=8-2&ufe=app_do%3Aamzn1.fos.6a09f7ec-d911-4889-ad70-de8dd83c8a74)"
      ]
    },
    {
      "cell_type": "code",
      "execution_count": 17,
      "metadata": {
        "colab": {
          "base_uri": "https://localhost:8080/",
          "height": 543
        },
        "id": "jmKvh9xgjot3",
        "outputId": "fd8d3bf0-30b1-4813-f744-bca85cab72ad"
      },
      "outputs": [
        {
          "output_type": "stream",
          "name": "stderr",
          "text": [
            "<ipython-input-17-61bee730caa0>:1: FutureWarning: The default value of numeric_only in DataFrame.corr is deprecated. In a future version, it will default to False. Select only valid columns or specify the value of numeric_only to silence this warning.\n",
            "  correlacao = dados_imoveis.corr()\n"
          ]
        },
        {
          "output_type": "execute_result",
          "data": {
            "text/plain": [
              "                          address_location_lon  address_location_lat  \\\n",
              "address_location_lon                  1.000000             -0.186999   \n",
              "address_location_lat                 -0.186999              1.000000   \n",
              "prices_price                          0.091264             -0.166034   \n",
              "prices_tax_iptu                       0.002904             -0.005123   \n",
              "prices_tax_condo                      0.004674             -0.008916   \n",
              "features_bedrooms                    -0.079206             -0.084700   \n",
              "features_bathrooms                   -0.112199             -0.121015   \n",
              "features_suites                      -0.179048             -0.159010   \n",
              "features_parkingSpaces               -0.164844             -0.082266   \n",
              "features_usableAreas                 -0.088560             -0.103277   \n",
              "features_totalAreas                  -0.002870              0.001492   \n",
              "features_floors                       0.043629             -0.008739   \n",
              "features_unitsOnTheFloor             -0.000766              0.018817   \n",
              "features_unitFloor                    0.005043             -0.006618   \n",
              "\n",
              "                          prices_price  prices_tax_iptu  prices_tax_condo  \\\n",
              "address_location_lon          0.091264         0.002904          0.004674   \n",
              "address_location_lat         -0.166034        -0.005123         -0.008916   \n",
              "prices_price                  1.000000         0.030200          0.048856   \n",
              "prices_tax_iptu               0.030200         1.000000          0.227568   \n",
              "prices_tax_condo              0.048856         0.227568          1.000000   \n",
              "features_bedrooms             0.530474         0.013818          0.019618   \n",
              "features_bathrooms            0.571725         0.015366          0.020612   \n",
              "features_suites               0.588738         0.019836          0.024599   \n",
              "features_parkingSpaces        0.423186         0.009550          0.018786   \n",
              "features_usableAreas          0.692502         0.014572          0.020738   \n",
              "features_totalAreas          -0.000619        -0.000179         -0.000336   \n",
              "features_floors              -0.061910         0.005564          0.012266   \n",
              "features_unitsOnTheFloor     -0.133700         0.003928         -0.002068   \n",
              "features_unitFloor           -0.000143         0.000913          0.002707   \n",
              "\n",
              "                          features_bedrooms  features_bathrooms  \\\n",
              "address_location_lon              -0.079206           -0.112199   \n",
              "address_location_lat              -0.084700           -0.121015   \n",
              "prices_price                       0.530474            0.571725   \n",
              "prices_tax_iptu                    0.013818            0.015366   \n",
              "prices_tax_condo                   0.019618            0.020612   \n",
              "features_bedrooms                  1.000000            0.665958   \n",
              "features_bathrooms                 0.665958            1.000000   \n",
              "features_suites                    0.600596            0.752495   \n",
              "features_parkingSpaces             0.467391            0.487624   \n",
              "features_usableAreas               0.563545            0.597793   \n",
              "features_totalAreas               -0.000532            0.000041   \n",
              "features_floors                   -0.082025           -0.044552   \n",
              "features_unitsOnTheFloor          -0.130611           -0.107347   \n",
              "features_unitFloor                -0.007146            0.007599   \n",
              "\n",
              "                          features_suites  features_parkingSpaces  \\\n",
              "address_location_lon            -0.179048               -0.164844   \n",
              "address_location_lat            -0.159010               -0.082266   \n",
              "prices_price                     0.588738                0.423186   \n",
              "prices_tax_iptu                  0.019836                0.009550   \n",
              "prices_tax_condo                 0.024599                0.018786   \n",
              "features_bedrooms                0.600596                0.467391   \n",
              "features_bathrooms               0.752495                0.487624   \n",
              "features_suites                  1.000000                0.484850   \n",
              "features_parkingSpaces           0.484850                1.000000   \n",
              "features_usableAreas             0.577344                0.483709   \n",
              "features_totalAreas              0.003971               -0.000062   \n",
              "features_floors                 -0.047576               -0.048310   \n",
              "features_unitsOnTheFloor        -0.091408               -0.074348   \n",
              "features_unitFloor               0.005300                0.003788   \n",
              "\n",
              "                          features_usableAreas  features_totalAreas  \\\n",
              "address_location_lon                 -0.088560            -0.002870   \n",
              "address_location_lat                 -0.103277             0.001492   \n",
              "prices_price                          0.692502            -0.000619   \n",
              "prices_tax_iptu                       0.014572            -0.000179   \n",
              "prices_tax_condo                      0.020738            -0.000336   \n",
              "features_bedrooms                     0.563545            -0.000532   \n",
              "features_bathrooms                    0.597793             0.000041   \n",
              "features_suites                       0.577344             0.003971   \n",
              "features_parkingSpaces                0.483709            -0.000062   \n",
              "features_usableAreas                  1.000000            -0.000214   \n",
              "features_totalAreas                  -0.000214             1.000000   \n",
              "features_floors                      -0.103729             0.014677   \n",
              "features_unitsOnTheFloor             -0.144041             0.003975   \n",
              "features_unitFloor                   -0.012715             0.002329   \n",
              "\n",
              "                          features_floors  features_unitsOnTheFloor  \\\n",
              "address_location_lon             0.043629                 -0.000766   \n",
              "address_location_lat            -0.008739                  0.018817   \n",
              "prices_price                    -0.061910                 -0.133700   \n",
              "prices_tax_iptu                  0.005564                  0.003928   \n",
              "prices_tax_condo                 0.012266                 -0.002068   \n",
              "features_bedrooms               -0.082025                 -0.130611   \n",
              "features_bathrooms              -0.044552                 -0.107347   \n",
              "features_suites                 -0.047576                 -0.091408   \n",
              "features_parkingSpaces          -0.048310                 -0.074348   \n",
              "features_usableAreas            -0.103729                 -0.144041   \n",
              "features_totalAreas              0.014677                  0.003975   \n",
              "features_floors                  1.000000                  0.737802   \n",
              "features_unitsOnTheFloor         0.737802                  1.000000   \n",
              "features_unitFloor               0.121067                  0.092434   \n",
              "\n",
              "                          features_unitFloor  \n",
              "address_location_lon                0.005043  \n",
              "address_location_lat               -0.006618  \n",
              "prices_price                       -0.000143  \n",
              "prices_tax_iptu                     0.000913  \n",
              "prices_tax_condo                    0.002707  \n",
              "features_bedrooms                  -0.007146  \n",
              "features_bathrooms                  0.007599  \n",
              "features_suites                     0.005300  \n",
              "features_parkingSpaces              0.003788  \n",
              "features_usableAreas               -0.012715  \n",
              "features_totalAreas                 0.002329  \n",
              "features_floors                     0.121067  \n",
              "features_unitsOnTheFloor            0.092434  \n",
              "features_unitFloor                  1.000000  "
            ],
            "text/html": [
              "\n",
              "  <div id=\"df-c01fc152-71cc-4697-89f6-68648b25cbd1\" class=\"colab-df-container\">\n",
              "    <div>\n",
              "<style scoped>\n",
              "    .dataframe tbody tr th:only-of-type {\n",
              "        vertical-align: middle;\n",
              "    }\n",
              "\n",
              "    .dataframe tbody tr th {\n",
              "        vertical-align: top;\n",
              "    }\n",
              "\n",
              "    .dataframe thead th {\n",
              "        text-align: right;\n",
              "    }\n",
              "</style>\n",
              "<table border=\"1\" class=\"dataframe\">\n",
              "  <thead>\n",
              "    <tr style=\"text-align: right;\">\n",
              "      <th></th>\n",
              "      <th>address_location_lon</th>\n",
              "      <th>address_location_lat</th>\n",
              "      <th>prices_price</th>\n",
              "      <th>prices_tax_iptu</th>\n",
              "      <th>prices_tax_condo</th>\n",
              "      <th>features_bedrooms</th>\n",
              "      <th>features_bathrooms</th>\n",
              "      <th>features_suites</th>\n",
              "      <th>features_parkingSpaces</th>\n",
              "      <th>features_usableAreas</th>\n",
              "      <th>features_totalAreas</th>\n",
              "      <th>features_floors</th>\n",
              "      <th>features_unitsOnTheFloor</th>\n",
              "      <th>features_unitFloor</th>\n",
              "    </tr>\n",
              "  </thead>\n",
              "  <tbody>\n",
              "    <tr>\n",
              "      <th>address_location_lon</th>\n",
              "      <td>1.000000</td>\n",
              "      <td>-0.186999</td>\n",
              "      <td>0.091264</td>\n",
              "      <td>0.002904</td>\n",
              "      <td>0.004674</td>\n",
              "      <td>-0.079206</td>\n",
              "      <td>-0.112199</td>\n",
              "      <td>-0.179048</td>\n",
              "      <td>-0.164844</td>\n",
              "      <td>-0.088560</td>\n",
              "      <td>-0.002870</td>\n",
              "      <td>0.043629</td>\n",
              "      <td>-0.000766</td>\n",
              "      <td>0.005043</td>\n",
              "    </tr>\n",
              "    <tr>\n",
              "      <th>address_location_lat</th>\n",
              "      <td>-0.186999</td>\n",
              "      <td>1.000000</td>\n",
              "      <td>-0.166034</td>\n",
              "      <td>-0.005123</td>\n",
              "      <td>-0.008916</td>\n",
              "      <td>-0.084700</td>\n",
              "      <td>-0.121015</td>\n",
              "      <td>-0.159010</td>\n",
              "      <td>-0.082266</td>\n",
              "      <td>-0.103277</td>\n",
              "      <td>0.001492</td>\n",
              "      <td>-0.008739</td>\n",
              "      <td>0.018817</td>\n",
              "      <td>-0.006618</td>\n",
              "    </tr>\n",
              "    <tr>\n",
              "      <th>prices_price</th>\n",
              "      <td>0.091264</td>\n",
              "      <td>-0.166034</td>\n",
              "      <td>1.000000</td>\n",
              "      <td>0.030200</td>\n",
              "      <td>0.048856</td>\n",
              "      <td>0.530474</td>\n",
              "      <td>0.571725</td>\n",
              "      <td>0.588738</td>\n",
              "      <td>0.423186</td>\n",
              "      <td>0.692502</td>\n",
              "      <td>-0.000619</td>\n",
              "      <td>-0.061910</td>\n",
              "      <td>-0.133700</td>\n",
              "      <td>-0.000143</td>\n",
              "    </tr>\n",
              "    <tr>\n",
              "      <th>prices_tax_iptu</th>\n",
              "      <td>0.002904</td>\n",
              "      <td>-0.005123</td>\n",
              "      <td>0.030200</td>\n",
              "      <td>1.000000</td>\n",
              "      <td>0.227568</td>\n",
              "      <td>0.013818</td>\n",
              "      <td>0.015366</td>\n",
              "      <td>0.019836</td>\n",
              "      <td>0.009550</td>\n",
              "      <td>0.014572</td>\n",
              "      <td>-0.000179</td>\n",
              "      <td>0.005564</td>\n",
              "      <td>0.003928</td>\n",
              "      <td>0.000913</td>\n",
              "    </tr>\n",
              "    <tr>\n",
              "      <th>prices_tax_condo</th>\n",
              "      <td>0.004674</td>\n",
              "      <td>-0.008916</td>\n",
              "      <td>0.048856</td>\n",
              "      <td>0.227568</td>\n",
              "      <td>1.000000</td>\n",
              "      <td>0.019618</td>\n",
              "      <td>0.020612</td>\n",
              "      <td>0.024599</td>\n",
              "      <td>0.018786</td>\n",
              "      <td>0.020738</td>\n",
              "      <td>-0.000336</td>\n",
              "      <td>0.012266</td>\n",
              "      <td>-0.002068</td>\n",
              "      <td>0.002707</td>\n",
              "    </tr>\n",
              "    <tr>\n",
              "      <th>features_bedrooms</th>\n",
              "      <td>-0.079206</td>\n",
              "      <td>-0.084700</td>\n",
              "      <td>0.530474</td>\n",
              "      <td>0.013818</td>\n",
              "      <td>0.019618</td>\n",
              "      <td>1.000000</td>\n",
              "      <td>0.665958</td>\n",
              "      <td>0.600596</td>\n",
              "      <td>0.467391</td>\n",
              "      <td>0.563545</td>\n",
              "      <td>-0.000532</td>\n",
              "      <td>-0.082025</td>\n",
              "      <td>-0.130611</td>\n",
              "      <td>-0.007146</td>\n",
              "    </tr>\n",
              "    <tr>\n",
              "      <th>features_bathrooms</th>\n",
              "      <td>-0.112199</td>\n",
              "      <td>-0.121015</td>\n",
              "      <td>0.571725</td>\n",
              "      <td>0.015366</td>\n",
              "      <td>0.020612</td>\n",
              "      <td>0.665958</td>\n",
              "      <td>1.000000</td>\n",
              "      <td>0.752495</td>\n",
              "      <td>0.487624</td>\n",
              "      <td>0.597793</td>\n",
              "      <td>0.000041</td>\n",
              "      <td>-0.044552</td>\n",
              "      <td>-0.107347</td>\n",
              "      <td>0.007599</td>\n",
              "    </tr>\n",
              "    <tr>\n",
              "      <th>features_suites</th>\n",
              "      <td>-0.179048</td>\n",
              "      <td>-0.159010</td>\n",
              "      <td>0.588738</td>\n",
              "      <td>0.019836</td>\n",
              "      <td>0.024599</td>\n",
              "      <td>0.600596</td>\n",
              "      <td>0.752495</td>\n",
              "      <td>1.000000</td>\n",
              "      <td>0.484850</td>\n",
              "      <td>0.577344</td>\n",
              "      <td>0.003971</td>\n",
              "      <td>-0.047576</td>\n",
              "      <td>-0.091408</td>\n",
              "      <td>0.005300</td>\n",
              "    </tr>\n",
              "    <tr>\n",
              "      <th>features_parkingSpaces</th>\n",
              "      <td>-0.164844</td>\n",
              "      <td>-0.082266</td>\n",
              "      <td>0.423186</td>\n",
              "      <td>0.009550</td>\n",
              "      <td>0.018786</td>\n",
              "      <td>0.467391</td>\n",
              "      <td>0.487624</td>\n",
              "      <td>0.484850</td>\n",
              "      <td>1.000000</td>\n",
              "      <td>0.483709</td>\n",
              "      <td>-0.000062</td>\n",
              "      <td>-0.048310</td>\n",
              "      <td>-0.074348</td>\n",
              "      <td>0.003788</td>\n",
              "    </tr>\n",
              "    <tr>\n",
              "      <th>features_usableAreas</th>\n",
              "      <td>-0.088560</td>\n",
              "      <td>-0.103277</td>\n",
              "      <td>0.692502</td>\n",
              "      <td>0.014572</td>\n",
              "      <td>0.020738</td>\n",
              "      <td>0.563545</td>\n",
              "      <td>0.597793</td>\n",
              "      <td>0.577344</td>\n",
              "      <td>0.483709</td>\n",
              "      <td>1.000000</td>\n",
              "      <td>-0.000214</td>\n",
              "      <td>-0.103729</td>\n",
              "      <td>-0.144041</td>\n",
              "      <td>-0.012715</td>\n",
              "    </tr>\n",
              "    <tr>\n",
              "      <th>features_totalAreas</th>\n",
              "      <td>-0.002870</td>\n",
              "      <td>0.001492</td>\n",
              "      <td>-0.000619</td>\n",
              "      <td>-0.000179</td>\n",
              "      <td>-0.000336</td>\n",
              "      <td>-0.000532</td>\n",
              "      <td>0.000041</td>\n",
              "      <td>0.003971</td>\n",
              "      <td>-0.000062</td>\n",
              "      <td>-0.000214</td>\n",
              "      <td>1.000000</td>\n",
              "      <td>0.014677</td>\n",
              "      <td>0.003975</td>\n",
              "      <td>0.002329</td>\n",
              "    </tr>\n",
              "    <tr>\n",
              "      <th>features_floors</th>\n",
              "      <td>0.043629</td>\n",
              "      <td>-0.008739</td>\n",
              "      <td>-0.061910</td>\n",
              "      <td>0.005564</td>\n",
              "      <td>0.012266</td>\n",
              "      <td>-0.082025</td>\n",
              "      <td>-0.044552</td>\n",
              "      <td>-0.047576</td>\n",
              "      <td>-0.048310</td>\n",
              "      <td>-0.103729</td>\n",
              "      <td>0.014677</td>\n",
              "      <td>1.000000</td>\n",
              "      <td>0.737802</td>\n",
              "      <td>0.121067</td>\n",
              "    </tr>\n",
              "    <tr>\n",
              "      <th>features_unitsOnTheFloor</th>\n",
              "      <td>-0.000766</td>\n",
              "      <td>0.018817</td>\n",
              "      <td>-0.133700</td>\n",
              "      <td>0.003928</td>\n",
              "      <td>-0.002068</td>\n",
              "      <td>-0.130611</td>\n",
              "      <td>-0.107347</td>\n",
              "      <td>-0.091408</td>\n",
              "      <td>-0.074348</td>\n",
              "      <td>-0.144041</td>\n",
              "      <td>0.003975</td>\n",
              "      <td>0.737802</td>\n",
              "      <td>1.000000</td>\n",
              "      <td>0.092434</td>\n",
              "    </tr>\n",
              "    <tr>\n",
              "      <th>features_unitFloor</th>\n",
              "      <td>0.005043</td>\n",
              "      <td>-0.006618</td>\n",
              "      <td>-0.000143</td>\n",
              "      <td>0.000913</td>\n",
              "      <td>0.002707</td>\n",
              "      <td>-0.007146</td>\n",
              "      <td>0.007599</td>\n",
              "      <td>0.005300</td>\n",
              "      <td>0.003788</td>\n",
              "      <td>-0.012715</td>\n",
              "      <td>0.002329</td>\n",
              "      <td>0.121067</td>\n",
              "      <td>0.092434</td>\n",
              "      <td>1.000000</td>\n",
              "    </tr>\n",
              "  </tbody>\n",
              "</table>\n",
              "</div>\n",
              "    <div class=\"colab-df-buttons\">\n",
              "\n",
              "  <div class=\"colab-df-container\">\n",
              "    <button class=\"colab-df-convert\" onclick=\"convertToInteractive('df-c01fc152-71cc-4697-89f6-68648b25cbd1')\"\n",
              "            title=\"Convert this dataframe to an interactive table.\"\n",
              "            style=\"display:none;\">\n",
              "\n",
              "  <svg xmlns=\"http://www.w3.org/2000/svg\" height=\"24px\" viewBox=\"0 -960 960 960\">\n",
              "    <path d=\"M120-120v-720h720v720H120Zm60-500h600v-160H180v160Zm220 220h160v-160H400v160Zm0 220h160v-160H400v160ZM180-400h160v-160H180v160Zm440 0h160v-160H620v160ZM180-180h160v-160H180v160Zm440 0h160v-160H620v160Z\"/>\n",
              "  </svg>\n",
              "    </button>\n",
              "\n",
              "  <style>\n",
              "    .colab-df-container {\n",
              "      display:flex;\n",
              "      gap: 12px;\n",
              "    }\n",
              "\n",
              "    .colab-df-convert {\n",
              "      background-color: #E8F0FE;\n",
              "      border: none;\n",
              "      border-radius: 50%;\n",
              "      cursor: pointer;\n",
              "      display: none;\n",
              "      fill: #1967D2;\n",
              "      height: 32px;\n",
              "      padding: 0 0 0 0;\n",
              "      width: 32px;\n",
              "    }\n",
              "\n",
              "    .colab-df-convert:hover {\n",
              "      background-color: #E2EBFA;\n",
              "      box-shadow: 0px 1px 2px rgba(60, 64, 67, 0.3), 0px 1px 3px 1px rgba(60, 64, 67, 0.15);\n",
              "      fill: #174EA6;\n",
              "    }\n",
              "\n",
              "    .colab-df-buttons div {\n",
              "      margin-bottom: 4px;\n",
              "    }\n",
              "\n",
              "    [theme=dark] .colab-df-convert {\n",
              "      background-color: #3B4455;\n",
              "      fill: #D2E3FC;\n",
              "    }\n",
              "\n",
              "    [theme=dark] .colab-df-convert:hover {\n",
              "      background-color: #434B5C;\n",
              "      box-shadow: 0px 1px 3px 1px rgba(0, 0, 0, 0.15);\n",
              "      filter: drop-shadow(0px 1px 2px rgba(0, 0, 0, 0.3));\n",
              "      fill: #FFFFFF;\n",
              "    }\n",
              "  </style>\n",
              "\n",
              "    <script>\n",
              "      const buttonEl =\n",
              "        document.querySelector('#df-c01fc152-71cc-4697-89f6-68648b25cbd1 button.colab-df-convert');\n",
              "      buttonEl.style.display =\n",
              "        google.colab.kernel.accessAllowed ? 'block' : 'none';\n",
              "\n",
              "      async function convertToInteractive(key) {\n",
              "        const element = document.querySelector('#df-c01fc152-71cc-4697-89f6-68648b25cbd1');\n",
              "        const dataTable =\n",
              "          await google.colab.kernel.invokeFunction('convertToInteractive',\n",
              "                                                    [key], {});\n",
              "        if (!dataTable) return;\n",
              "\n",
              "        const docLinkHtml = 'Like what you see? Visit the ' +\n",
              "          '<a target=\"_blank\" href=https://colab.research.google.com/notebooks/data_table.ipynb>data table notebook</a>'\n",
              "          + ' to learn more about interactive tables.';\n",
              "        element.innerHTML = '';\n",
              "        dataTable['output_type'] = 'display_data';\n",
              "        await google.colab.output.renderOutput(dataTable, element);\n",
              "        const docLink = document.createElement('div');\n",
              "        docLink.innerHTML = docLinkHtml;\n",
              "        element.appendChild(docLink);\n",
              "      }\n",
              "    </script>\n",
              "  </div>\n",
              "\n",
              "\n",
              "<div id=\"df-70e84403-b416-4ca1-a730-1bef27af11bd\">\n",
              "  <button class=\"colab-df-quickchart\" onclick=\"quickchart('df-70e84403-b416-4ca1-a730-1bef27af11bd')\"\n",
              "            title=\"Suggest charts\"\n",
              "            style=\"display:none;\">\n",
              "\n",
              "<svg xmlns=\"http://www.w3.org/2000/svg\" height=\"24px\"viewBox=\"0 0 24 24\"\n",
              "     width=\"24px\">\n",
              "    <g>\n",
              "        <path d=\"M19 3H5c-1.1 0-2 .9-2 2v14c0 1.1.9 2 2 2h14c1.1 0 2-.9 2-2V5c0-1.1-.9-2-2-2zM9 17H7v-7h2v7zm4 0h-2V7h2v10zm4 0h-2v-4h2v4z\"/>\n",
              "    </g>\n",
              "</svg>\n",
              "  </button>\n",
              "\n",
              "<style>\n",
              "  .colab-df-quickchart {\n",
              "      --bg-color: #E8F0FE;\n",
              "      --fill-color: #1967D2;\n",
              "      --hover-bg-color: #E2EBFA;\n",
              "      --hover-fill-color: #174EA6;\n",
              "      --disabled-fill-color: #AAA;\n",
              "      --disabled-bg-color: #DDD;\n",
              "  }\n",
              "\n",
              "  [theme=dark] .colab-df-quickchart {\n",
              "      --bg-color: #3B4455;\n",
              "      --fill-color: #D2E3FC;\n",
              "      --hover-bg-color: #434B5C;\n",
              "      --hover-fill-color: #FFFFFF;\n",
              "      --disabled-bg-color: #3B4455;\n",
              "      --disabled-fill-color: #666;\n",
              "  }\n",
              "\n",
              "  .colab-df-quickchart {\n",
              "    background-color: var(--bg-color);\n",
              "    border: none;\n",
              "    border-radius: 50%;\n",
              "    cursor: pointer;\n",
              "    display: none;\n",
              "    fill: var(--fill-color);\n",
              "    height: 32px;\n",
              "    padding: 0;\n",
              "    width: 32px;\n",
              "  }\n",
              "\n",
              "  .colab-df-quickchart:hover {\n",
              "    background-color: var(--hover-bg-color);\n",
              "    box-shadow: 0 1px 2px rgba(60, 64, 67, 0.3), 0 1px 3px 1px rgba(60, 64, 67, 0.15);\n",
              "    fill: var(--button-hover-fill-color);\n",
              "  }\n",
              "\n",
              "  .colab-df-quickchart-complete:disabled,\n",
              "  .colab-df-quickchart-complete:disabled:hover {\n",
              "    background-color: var(--disabled-bg-color);\n",
              "    fill: var(--disabled-fill-color);\n",
              "    box-shadow: none;\n",
              "  }\n",
              "\n",
              "  .colab-df-spinner {\n",
              "    border: 2px solid var(--fill-color);\n",
              "    border-color: transparent;\n",
              "    border-bottom-color: var(--fill-color);\n",
              "    animation:\n",
              "      spin 1s steps(1) infinite;\n",
              "  }\n",
              "\n",
              "  @keyframes spin {\n",
              "    0% {\n",
              "      border-color: transparent;\n",
              "      border-bottom-color: var(--fill-color);\n",
              "      border-left-color: var(--fill-color);\n",
              "    }\n",
              "    20% {\n",
              "      border-color: transparent;\n",
              "      border-left-color: var(--fill-color);\n",
              "      border-top-color: var(--fill-color);\n",
              "    }\n",
              "    30% {\n",
              "      border-color: transparent;\n",
              "      border-left-color: var(--fill-color);\n",
              "      border-top-color: var(--fill-color);\n",
              "      border-right-color: var(--fill-color);\n",
              "    }\n",
              "    40% {\n",
              "      border-color: transparent;\n",
              "      border-right-color: var(--fill-color);\n",
              "      border-top-color: var(--fill-color);\n",
              "    }\n",
              "    60% {\n",
              "      border-color: transparent;\n",
              "      border-right-color: var(--fill-color);\n",
              "    }\n",
              "    80% {\n",
              "      border-color: transparent;\n",
              "      border-right-color: var(--fill-color);\n",
              "      border-bottom-color: var(--fill-color);\n",
              "    }\n",
              "    90% {\n",
              "      border-color: transparent;\n",
              "      border-bottom-color: var(--fill-color);\n",
              "    }\n",
              "  }\n",
              "</style>\n",
              "\n",
              "  <script>\n",
              "    async function quickchart(key) {\n",
              "      const quickchartButtonEl =\n",
              "        document.querySelector('#' + key + ' button');\n",
              "      quickchartButtonEl.disabled = true;  // To prevent multiple clicks.\n",
              "      quickchartButtonEl.classList.add('colab-df-spinner');\n",
              "      try {\n",
              "        const charts = await google.colab.kernel.invokeFunction(\n",
              "            'suggestCharts', [key], {});\n",
              "      } catch (error) {\n",
              "        console.error('Error during call to suggestCharts:', error);\n",
              "      }\n",
              "      quickchartButtonEl.classList.remove('colab-df-spinner');\n",
              "      quickchartButtonEl.classList.add('colab-df-quickchart-complete');\n",
              "    }\n",
              "    (() => {\n",
              "      let quickchartButtonEl =\n",
              "        document.querySelector('#df-70e84403-b416-4ca1-a730-1bef27af11bd button');\n",
              "      quickchartButtonEl.style.display =\n",
              "        google.colab.kernel.accessAllowed ? 'block' : 'none';\n",
              "    })();\n",
              "  </script>\n",
              "</div>\n",
              "\n",
              "  <div id=\"id_2916790a-ce63-4339-82af-1c450efc6509\">\n",
              "    <style>\n",
              "      .colab-df-generate {\n",
              "        background-color: #E8F0FE;\n",
              "        border: none;\n",
              "        border-radius: 50%;\n",
              "        cursor: pointer;\n",
              "        display: none;\n",
              "        fill: #1967D2;\n",
              "        height: 32px;\n",
              "        padding: 0 0 0 0;\n",
              "        width: 32px;\n",
              "      }\n",
              "\n",
              "      .colab-df-generate:hover {\n",
              "        background-color: #E2EBFA;\n",
              "        box-shadow: 0px 1px 2px rgba(60, 64, 67, 0.3), 0px 1px 3px 1px rgba(60, 64, 67, 0.15);\n",
              "        fill: #174EA6;\n",
              "      }\n",
              "\n",
              "      [theme=dark] .colab-df-generate {\n",
              "        background-color: #3B4455;\n",
              "        fill: #D2E3FC;\n",
              "      }\n",
              "\n",
              "      [theme=dark] .colab-df-generate:hover {\n",
              "        background-color: #434B5C;\n",
              "        box-shadow: 0px 1px 3px 1px rgba(0, 0, 0, 0.15);\n",
              "        filter: drop-shadow(0px 1px 2px rgba(0, 0, 0, 0.3));\n",
              "        fill: #FFFFFF;\n",
              "      }\n",
              "    </style>\n",
              "    <button class=\"colab-df-generate\" onclick=\"generateWithVariable('correlacao')\"\n",
              "            title=\"Generate code using this dataframe.\"\n",
              "            style=\"display:none;\">\n",
              "\n",
              "  <svg xmlns=\"http://www.w3.org/2000/svg\" height=\"24px\"viewBox=\"0 0 24 24\"\n",
              "       width=\"24px\">\n",
              "    <path d=\"M7,19H8.4L18.45,9,17,7.55,7,17.6ZM5,21V16.75L18.45,3.32a2,2,0,0,1,2.83,0l1.4,1.43a1.91,1.91,0,0,1,.58,1.4,1.91,1.91,0,0,1-.58,1.4L9.25,21ZM18.45,9,17,7.55Zm-12,3A5.31,5.31,0,0,0,4.9,8.1,5.31,5.31,0,0,0,1,6.5,5.31,5.31,0,0,0,4.9,4.9,5.31,5.31,0,0,0,6.5,1,5.31,5.31,0,0,0,8.1,4.9,5.31,5.31,0,0,0,12,6.5,5.46,5.46,0,0,0,6.5,12Z\"/>\n",
              "  </svg>\n",
              "    </button>\n",
              "    <script>\n",
              "      (() => {\n",
              "      const buttonEl =\n",
              "        document.querySelector('#id_2916790a-ce63-4339-82af-1c450efc6509 button.colab-df-generate');\n",
              "      buttonEl.style.display =\n",
              "        google.colab.kernel.accessAllowed ? 'block' : 'none';\n",
              "\n",
              "      buttonEl.onclick = () => {\n",
              "        google.colab.notebook.generateWithVariable('correlacao');\n",
              "      }\n",
              "      })();\n",
              "    </script>\n",
              "  </div>\n",
              "\n",
              "    </div>\n",
              "  </div>\n"
            ]
          },
          "metadata": {},
          "execution_count": 17
        }
      ],
      "source": [
        "correlacao = dados_imoveis.corr()\n",
        "correlacao"
      ]
    },
    {
      "cell_type": "code",
      "execution_count": 18,
      "metadata": {
        "id": "prcdE8k2jot3"
      },
      "outputs": [],
      "source": [
        "#bibliotecas para visualização\n",
        "import matplotlib.pyplot as plt\n",
        "import seaborn as sns"
      ]
    },
    {
      "cell_type": "markdown",
      "metadata": {
        "id": "dic6lmcpjot4"
      },
      "source": [
        "Para mais detalhes consultar [Documentação Seaborn](https://seaborn.pydata.org/generated/seaborn.heatmap.html)"
      ]
    },
    {
      "cell_type": "code",
      "execution_count": 19,
      "metadata": {
        "colab": {
          "base_uri": "https://localhost:8080/",
          "height": 841
        },
        "id": "j4Z5ecHkjot4",
        "outputId": "cb6f8ab4-b125-4e39-9a4a-4aae05f5397d"
      },
      "outputs": [
        {
          "output_type": "display_data",
          "data": {
            "text/plain": [
              "<Figure size 1300x800 with 2 Axes>"
            ],
            "image/png": "[encoded data removed]"
          },
          "metadata": {}
        }
      ],
      "source": [
        "#visualização das correlações\n",
        "cores = sns.color_palette('light:salmon', as_cmap=True)\n",
        "mask = np.zeros_like(correlacao)\n",
        "mask[np.triu_indices_from(mask)] = True\n",
        "with sns.axes_style(\"white\"):\n",
        "    f, ax = plt.subplots(figsize=(13, 8))\n",
        "    ax = sns.heatmap(correlacao, cmap=cores, mask=mask, square=True, fmt='.2f', annot=True)"
      ]
    },
    {
      "cell_type": "markdown",
      "metadata": {
        "id": "6LjngPTujot4"
      },
      "source": [
        "Análise da distribuição da variável resposta."
      ]
    },
    {
      "cell_type": "code",
      "execution_count": 20,
      "metadata": {
        "colab": {
          "base_uri": "https://localhost:8080/",
          "height": 391
        },
        "id": "WqRkQ5e-jot5",
        "outputId": "7419f9bc-e04e-4d28-8ab2-c349721147b5"
      },
      "outputs": [
        {
          "output_type": "error",
          "ename": "ValueError",
          "evalue": "Could not interpret value `price` for `x`. An entry with this name does not appear in `data`.",
          "traceback": [
            "\u001b[0;31m---------------------------------------------------------------------------\u001b[0m",
            "\u001b[0;31mValueError\u001b[0m                                Traceback (most recent call last)",
            "\u001b[0;32m<ipython-input-20-3b774b9d2f1d>\u001b[0m in \u001b[0;36m<cell line: 2>\u001b[0;34m()\u001b[0m\n\u001b[1;32m      1\u001b[0m \u001b[0;31m#antes (distrib. assimetrica a direita)\u001b[0m\u001b[0;34m\u001b[0m\u001b[0;34m\u001b[0m\u001b[0m\n\u001b[0;32m----> 2\u001b[0;31m \u001b[0max\u001b[0m \u001b[0;34m=\u001b[0m \u001b[0msns\u001b[0m\u001b[0;34m.\u001b[0m\u001b[0mhistplot\u001b[0m\u001b[0;34m(\u001b[0m\u001b[0mdata\u001b[0m\u001b[0;34m=\u001b[0m\u001b[0mdados_imoveis\u001b[0m\u001b[0;34m,\u001b[0m \u001b[0mx\u001b[0m\u001b[0;34m=\u001b[0m\u001b[0;34m'price'\u001b[0m\u001b[0;34m,\u001b[0m \u001b[0mkde\u001b[0m\u001b[0;34m=\u001b[0m\u001b[0;32mTrue\u001b[0m\u001b[0;34m)\u001b[0m\u001b[0;34m\u001b[0m\u001b[0;34m\u001b[0m\u001b[0m\n\u001b[0m\u001b[1;32m      3\u001b[0m \u001b[0max\u001b[0m\u001b[0;34m.\u001b[0m\u001b[0mfigure\u001b[0m\u001b[0;34m.\u001b[0m\u001b[0mset_size_inches\u001b[0m\u001b[0;34m(\u001b[0m\u001b[0;36m20\u001b[0m\u001b[0;34m,\u001b[0m \u001b[0;36m10\u001b[0m\u001b[0;34m)\u001b[0m\u001b[0;34m\u001b[0m\u001b[0;34m\u001b[0m\u001b[0m\n\u001b[1;32m      4\u001b[0m \u001b[0max\u001b[0m\u001b[0;34m.\u001b[0m\u001b[0mset_title\u001b[0m\u001b[0;34m(\u001b[0m\u001b[0;34m'Histograma de preços'\u001b[0m\u001b[0;34m)\u001b[0m\u001b[0;34m\u001b[0m\u001b[0;34m\u001b[0m\u001b[0m\n\u001b[1;32m      5\u001b[0m \u001b[0max\u001b[0m\u001b[0;34m.\u001b[0m\u001b[0mset_xlabel\u001b[0m\u001b[0;34m(\u001b[0m\u001b[0;34m'Preço'\u001b[0m\u001b[0;34m)\u001b[0m\u001b[0;34m;\u001b[0m\u001b[0;34m\u001b[0m\u001b[0;34m\u001b[0m\u001b[0m\n",
            "\u001b[0;32m/usr/local/lib/python3.10/dist-packages/seaborn/distributions.py\u001b[0m in \u001b[0;36mhistplot\u001b[0;34m(data, x, y, hue, weights, stat, bins, binwidth, binrange, discrete, cumulative, common_bins, common_norm, multiple, element, fill, shrink, kde, kde_kws, line_kws, thresh, pthresh, pmax, cbar, cbar_ax, cbar_kws, palette, hue_order, hue_norm, color, log_scale, legend, ax, **kwargs)\u001b[0m\n\u001b[1;32m   1377\u001b[0m ):\n\u001b[1;32m   1378\u001b[0m \u001b[0;34m\u001b[0m\u001b[0m\n\u001b[0;32m-> 1379\u001b[0;31m     p = _DistributionPlotter(\n\u001b[0m\u001b[1;32m   1380\u001b[0m         \u001b[0mdata\u001b[0m\u001b[0;34m=\u001b[0m\u001b[0mdata\u001b[0m\u001b[0;34m,\u001b[0m\u001b[0;34m\u001b[0m\u001b[0;34m\u001b[0m\u001b[0m\n\u001b[1;32m   1381\u001b[0m         \u001b[0mvariables\u001b[0m\u001b[0;34m=\u001b[0m\u001b[0mdict\u001b[0m\u001b[0;34m(\u001b[0m\u001b[0mx\u001b[0m\u001b[0;34m=\u001b[0m\u001b[0mx\u001b[0m\u001b[0;34m,\u001b[0m \u001b[0my\u001b[0m\u001b[0;34m=\u001b[0m\u001b[0my\u001b[0m\u001b[0;34m,\u001b[0m \u001b[0mhue\u001b[0m\u001b[0;34m=\u001b[0m\u001b[0mhue\u001b[0m\u001b[0;34m,\u001b[0m \u001b[0mweights\u001b[0m\u001b[0;34m=\u001b[0m\u001b[0mweights\u001b[0m\u001b[0;34m)\u001b[0m\u001b[0;34m,\u001b[0m\u001b[0;34m\u001b[0m\u001b[0;34m\u001b[0m\u001b[0m\n",
            "\u001b[0;32m/usr/local/lib/python3.10/dist-packages/seaborn/distributions.py\u001b[0m in \u001b[0;36m__init__\u001b[0;34m(self, data, variables)\u001b[0m\n\u001b[1;32m    108\u001b[0m     ):\n\u001b[1;32m    109\u001b[0m \u001b[0;34m\u001b[0m\u001b[0m\n\u001b[0;32m--> 110\u001b[0;31m         \u001b[0msuper\u001b[0m\u001b[0;34m(\u001b[0m\u001b[0;34m)\u001b[0m\u001b[0;34m.\u001b[0m\u001b[0m__init__\u001b[0m\u001b[0;34m(\u001b[0m\u001b[0mdata\u001b[0m\u001b[0;34m=\u001b[0m\u001b[0mdata\u001b[0m\u001b[0;34m,\u001b[0m \u001b[0mvariables\u001b[0m\u001b[0;34m=\u001b[0m\u001b[0mvariables\u001b[0m\u001b[0;34m)\u001b[0m\u001b[0;34m\u001b[0m\u001b[0;34m\u001b[0m\u001b[0m\n\u001b[0m\u001b[1;32m    111\u001b[0m \u001b[0;34m\u001b[0m\u001b[0m\n\u001b[1;32m    112\u001b[0m     \u001b[0;34m@\u001b[0m\u001b[0mproperty\u001b[0m\u001b[0;34m\u001b[0m\u001b[0;34m\u001b[0m\u001b[0m\n",
            "\u001b[0;32m/usr/local/lib/python3.10/dist-packages/seaborn/_base.py\u001b[0m in \u001b[0;36m__init__\u001b[0;34m(self, data, variables)\u001b[0m\n\u001b[1;32m    632\u001b[0m         \u001b[0;31m# information for numeric axes would be information about log scales.\u001b[0m\u001b[0;34m\u001b[0m\u001b[0;34m\u001b[0m\u001b[0m\n\u001b[1;32m    633\u001b[0m         \u001b[0mself\u001b[0m\u001b[0;34m.\u001b[0m\u001b[0m_var_ordered\u001b[0m \u001b[0;34m=\u001b[0m \u001b[0;34m{\u001b[0m\u001b[0;34m\"x\"\u001b[0m\u001b[0;34m:\u001b[0m \u001b[0;32mFalse\u001b[0m\u001b[0;34m,\u001b[0m \u001b[0;34m\"y\"\u001b[0m\u001b[0;34m:\u001b[0m \u001b[0;32mFalse\u001b[0m\u001b[0;34m}\u001b[0m  \u001b[0;31m# alt., used DefaultDict\u001b[0m\u001b[0;34m\u001b[0m\u001b[0;34m\u001b[0m\u001b[0m\n\u001b[0;32m--> 634\u001b[0;31m         \u001b[0mself\u001b[0m\u001b[0;34m.\u001b[0m\u001b[0massign_variables\u001b[0m\u001b[0;34m(\u001b[0m\u001b[0mdata\u001b[0m\u001b[0;34m,\u001b[0m \u001b[0mvariables\u001b[0m\u001b[0;34m)\u001b[0m\u001b[0;34m\u001b[0m\u001b[0;34m\u001b[0m\u001b[0m\n\u001b[0m\u001b[1;32m    635\u001b[0m \u001b[0;34m\u001b[0m\u001b[0m\n\u001b[1;32m    636\u001b[0m         \u001b[0;31m# TODO Lots of tests assume that these are called to initialize the\u001b[0m\u001b[0;34m\u001b[0m\u001b[0;34m\u001b[0m\u001b[0m\n",
            "\u001b[0;32m/usr/local/lib/python3.10/dist-packages/seaborn/_base.py\u001b[0m in \u001b[0;36massign_variables\u001b[0;34m(self, data, variables)\u001b[0m\n\u001b[1;32m    677\u001b[0m             \u001b[0;31m# to centralize / standardize data consumption logic.\u001b[0m\u001b[0;34m\u001b[0m\u001b[0;34m\u001b[0m\u001b[0m\n\u001b[1;32m    678\u001b[0m             \u001b[0mself\u001b[0m\u001b[0;34m.\u001b[0m\u001b[0minput_format\u001b[0m \u001b[0;34m=\u001b[0m \u001b[0;34m\"long\"\u001b[0m\u001b[0;34m\u001b[0m\u001b[0;34m\u001b[0m\u001b[0m\n\u001b[0;32m--> 679\u001b[0;31m             \u001b[0mplot_data\u001b[0m \u001b[0;34m=\u001b[0m \u001b[0mPlotData\u001b[0m\u001b[0;34m(\u001b[0m\u001b[0mdata\u001b[0m\u001b[0;34m,\u001b[0m \u001b[0mvariables\u001b[0m\u001b[0;34m)\u001b[0m\u001b[0;34m\u001b[0m\u001b[0;34m\u001b[0m\u001b[0m\n\u001b[0m\u001b[1;32m    680\u001b[0m             \u001b[0mframe\u001b[0m \u001b[0;34m=\u001b[0m \u001b[0mplot_data\u001b[0m\u001b[0;34m.\u001b[0m\u001b[0mframe\u001b[0m\u001b[0;34m\u001b[0m\u001b[0;34m\u001b[0m\u001b[0m\n\u001b[1;32m    681\u001b[0m             \u001b[0mnames\u001b[0m \u001b[0;34m=\u001b[0m \u001b[0mplot_data\u001b[0m\u001b[0;34m.\u001b[0m\u001b[0mnames\u001b[0m\u001b[0;34m\u001b[0m\u001b[0;34m\u001b[0m\u001b[0m\n",
            "\u001b[0;32m/usr/local/lib/python3.10/dist-packages/seaborn/_core/data.py\u001b[0m in \u001b[0;36m__init__\u001b[0;34m(self, data, variables)\u001b[0m\n\u001b[1;32m     56\u001b[0m \u001b[0;34m\u001b[0m\u001b[0m\n\u001b[1;32m     57\u001b[0m         \u001b[0mdata\u001b[0m \u001b[0;34m=\u001b[0m \u001b[0mhandle_data_source\u001b[0m\u001b[0;34m(\u001b[0m\u001b[0mdata\u001b[0m\u001b[0;34m)\u001b[0m\u001b[0;34m\u001b[0m\u001b[0;34m\u001b[0m\u001b[0m\n\u001b[0;32m---> 58\u001b[0;31m         \u001b[0mframe\u001b[0m\u001b[0;34m,\u001b[0m \u001b[0mnames\u001b[0m\u001b[0;34m,\u001b[0m \u001b[0mids\u001b[0m \u001b[0;34m=\u001b[0m \u001b[0mself\u001b[0m\u001b[0;34m.\u001b[0m\u001b[0m_assign_variables\u001b[0m\u001b[0;34m(\u001b[0m\u001b[0mdata\u001b[0m\u001b[0;34m,\u001b[0m \u001b[0mvariables\u001b[0m\u001b[0;34m)\u001b[0m\u001b[0;34m\u001b[0m\u001b[0;34m\u001b[0m\u001b[0m\n\u001b[0m\u001b[1;32m     59\u001b[0m \u001b[0;34m\u001b[0m\u001b[0m\n\u001b[1;32m     60\u001b[0m         \u001b[0mself\u001b[0m\u001b[0;34m.\u001b[0m\u001b[0mframe\u001b[0m \u001b[0;34m=\u001b[0m \u001b[0mframe\u001b[0m\u001b[0;34m\u001b[0m\u001b[0;34m\u001b[0m\u001b[0m\n",
            "\u001b[0;32m/usr/local/lib/python3.10/dist-packages/seaborn/_core/data.py\u001b[0m in \u001b[0;36m_assign_variables\u001b[0;34m(self, data, variables)\u001b[0m\n\u001b[1;32m    230\u001b[0m                 \u001b[0;32melse\u001b[0m\u001b[0;34m:\u001b[0m\u001b[0;34m\u001b[0m\u001b[0;34m\u001b[0m\u001b[0m\n\u001b[1;32m    231\u001b[0m                     \u001b[0merr\u001b[0m \u001b[0;34m+=\u001b[0m \u001b[0;34m\"An entry with this name does not appear in `data`.\"\u001b[0m\u001b[0;34m\u001b[0m\u001b[0;34m\u001b[0m\u001b[0m\n\u001b[0;32m--> 232\u001b[0;31m                 \u001b[0;32mraise\u001b[0m \u001b[0mValueError\u001b[0m\u001b[0;34m(\u001b[0m\u001b[0merr\u001b[0m\u001b[0;34m)\u001b[0m\u001b[0;34m\u001b[0m\u001b[0;34m\u001b[0m\u001b[0m\n\u001b[0m\u001b[1;32m    233\u001b[0m \u001b[0;34m\u001b[0m\u001b[0m\n\u001b[1;32m    234\u001b[0m             \u001b[0;32melse\u001b[0m\u001b[0;34m:\u001b[0m\u001b[0;34m\u001b[0m\u001b[0;34m\u001b[0m\u001b[0m\n",
            "\u001b[0;31mValueError\u001b[0m: Could not interpret value `price` for `x`. An entry with this name does not appear in `data`."
          ]
        }
      ],
      "source": [
        "#antes (distrib. assimetrica a direita)\n",
        "ax = sns.histplot(data=dados_imoveis, x='price', kde=True)\n",
        "ax.figure.set_size_inches(20, 10)\n",
        "ax.set_title('Histograma de preços')\n",
        "ax.set_xlabel('Preço');"
      ]
    },
    {
      "cell_type": "markdown",
      "metadata": {
        "id": "WAhjZkomjot4"
      },
      "source": [
        "### Transformação das variáveis"
      ]
    },
    {
      "cell_type": "markdown",
      "metadata": {
        "id": "CkVVqamcjot5"
      },
      "source": [
        "Estamos realizando uma transformação logarítmica das variáveis para obtermos uma distribuição simétrica (mais próxima da normal), para que possamos usar o modelo de regressão linear. A transformação realizada é:\n",
        "\n",
        "\n",
        "$$log1p = log(1+x)$$\n",
        "\n",
        "\n",
        "Lembrar de realizar a transformação inversa para obter o valor original:\n",
        "\n",
        "\n",
        "$$expm1 = exp(x) - 1$$\n",
        "\n",
        "\n",
        "\n",
        "\n",
        "* Para mais detalhes consultar as documentações [`log1p`](https://numpy.org/doc/stable/reference/generated/numpy.log1p.html), [`expm1`](https://numpy.org/doc/stable/reference/generated/numpy.expm1.html#numpy.expm1) e [`FunctionTransformer`](https://scikit-learn.org/stable/modules/generated/sklearn.preprocessing.FunctionTransformer.html#sklearn.preprocessing.FunctionTransformer)\n",
        "\n"
      ]
    },
    {
      "cell_type": "code",
      "execution_count": 21,
      "metadata": {
        "colab": {
          "base_uri": "https://localhost:8080/",
          "height": 533
        },
        "id": "wkrvIDpDjot5",
        "outputId": "c69fc25b-7680-47b8-9102-3c25a07faba9"
      },
      "outputs": [
        {
          "output_type": "stream",
          "name": "stderr",
          "text": [
            "/usr/local/lib/python3.10/dist-packages/sklearn/base.py:432: UserWarning: X has feature names, but FunctionTransformer was fitted without feature names\n",
            "  warnings.warn(\n"
          ]
        },
        {
          "output_type": "error",
          "ename": "ValueError",
          "evalue": "Input X contains NaN.\nFunctionTransformer does not accept missing values encoded as NaN natively. For supervised learning, you might want to consider sklearn.ensemble.HistGradientBoostingClassifier and Regressor which accept missing values encoded as NaNs natively. Alternatively, it is possible to preprocess the data, for instance by using an imputer transformer in a pipeline or drop samples with missing values. See https://scikit-learn.org/stable/modules/impute.html You can find a list of all estimators that handle NaN values at the following page: https://scikit-learn.org/stable/modules/impute.html#estimators-that-handle-nan-values",
          "traceback": [
            "\u001b[0;31m---------------------------------------------------------------------------\u001b[0m",
            "\u001b[0;31mValueError\u001b[0m                                Traceback (most recent call last)",
            "\u001b[0;32m<ipython-input-21-68153a77eb69>\u001b[0m in \u001b[0;36m<cell line: 4>\u001b[0;34m()\u001b[0m\n\u001b[1;32m      2\u001b[0m \u001b[0;34m\u001b[0m\u001b[0m\n\u001b[1;32m      3\u001b[0m \u001b[0mtransformer\u001b[0m \u001b[0;34m=\u001b[0m \u001b[0mFunctionTransformer\u001b[0m\u001b[0;34m(\u001b[0m\u001b[0mnp\u001b[0m\u001b[0;34m.\u001b[0m\u001b[0mlog1p\u001b[0m\u001b[0;34m,\u001b[0m \u001b[0mvalidate\u001b[0m\u001b[0;34m=\u001b[0m\u001b[0;32mTrue\u001b[0m\u001b[0;34m)\u001b[0m\u001b[0;34m\u001b[0m\u001b[0;34m\u001b[0m\u001b[0m\n\u001b[0;32m----> 4\u001b[0;31m \u001b[0mdados_transformados\u001b[0m \u001b[0;34m=\u001b[0m \u001b[0mtransformer\u001b[0m\u001b[0;34m.\u001b[0m\u001b[0mtransform\u001b[0m\u001b[0;34m(\u001b[0m\u001b[0mdados_imoveis\u001b[0m\u001b[0;34m.\u001b[0m\u001b[0mselect_dtypes\u001b[0m\u001b[0;34m(\u001b[0m\u001b[0mexclude\u001b[0m\u001b[0;34m=\u001b[0m\u001b[0;34m[\u001b[0m\u001b[0;34m'object'\u001b[0m\u001b[0;34m]\u001b[0m\u001b[0;34m)\u001b[0m\u001b[0;34m)\u001b[0m\u001b[0;34m\u001b[0m\u001b[0;34m\u001b[0m\u001b[0m\n\u001b[0m",
            "\u001b[0;32m/usr/local/lib/python3.10/dist-packages/sklearn/utils/_set_output.py\u001b[0m in \u001b[0;36mwrapped\u001b[0;34m(self, X, *args, **kwargs)\u001b[0m\n\u001b[1;32m    138\u001b[0m     \u001b[0;34m@\u001b[0m\u001b[0mwraps\u001b[0m\u001b[0;34m(\u001b[0m\u001b[0mf\u001b[0m\u001b[0;34m)\u001b[0m\u001b[0;34m\u001b[0m\u001b[0;34m\u001b[0m\u001b[0m\n\u001b[1;32m    139\u001b[0m     \u001b[0;32mdef\u001b[0m \u001b[0mwrapped\u001b[0m\u001b[0;34m(\u001b[0m\u001b[0mself\u001b[0m\u001b[0;34m,\u001b[0m \u001b[0mX\u001b[0m\u001b[0;34m,\u001b[0m \u001b[0;34m*\u001b[0m\u001b[0margs\u001b[0m\u001b[0;34m,\u001b[0m \u001b[0;34m**\u001b[0m\u001b[0mkwargs\u001b[0m\u001b[0;34m)\u001b[0m\u001b[0;34m:\u001b[0m\u001b[0;34m\u001b[0m\u001b[0;34m\u001b[0m\u001b[0m\n\u001b[0;32m--> 140\u001b[0;31m         \u001b[0mdata_to_wrap\u001b[0m \u001b[0;34m=\u001b[0m \u001b[0mf\u001b[0m\u001b[0;34m(\u001b[0m\u001b[0mself\u001b[0m\u001b[0;34m,\u001b[0m \u001b[0mX\u001b[0m\u001b[0;34m,\u001b[0m \u001b[0;34m*\u001b[0m\u001b[0margs\u001b[0m\u001b[0;34m,\u001b[0m \u001b[0;34m**\u001b[0m\u001b[0mkwargs\u001b[0m\u001b[0;34m)\u001b[0m\u001b[0;34m\u001b[0m\u001b[0;34m\u001b[0m\u001b[0m\n\u001b[0m\u001b[1;32m    141\u001b[0m         \u001b[0;32mif\u001b[0m \u001b[0misinstance\u001b[0m\u001b[0;34m(\u001b[0m\u001b[0mdata_to_wrap\u001b[0m\u001b[0;34m,\u001b[0m \u001b[0mtuple\u001b[0m\u001b[0;34m)\u001b[0m\u001b[0;34m:\u001b[0m\u001b[0;34m\u001b[0m\u001b[0;34m\u001b[0m\u001b[0m\n\u001b[1;32m    142\u001b[0m             \u001b[0;31m# only wrap the first output for cross decomposition\u001b[0m\u001b[0;34m\u001b[0m\u001b[0;34m\u001b[0m\u001b[0m\n",
            "\u001b[0;32m/usr/local/lib/python3.10/dist-packages/sklearn/preprocessing/_function_transformer.py\u001b[0m in \u001b[0;36mtransform\u001b[0;34m(self, X)\u001b[0m\n\u001b[1;32m    235\u001b[0m             \u001b[0mTransformed\u001b[0m \u001b[0minput\u001b[0m\u001b[0;34m.\u001b[0m\u001b[0;34m\u001b[0m\u001b[0;34m\u001b[0m\u001b[0m\n\u001b[1;32m    236\u001b[0m         \"\"\"\n\u001b[0;32m--> 237\u001b[0;31m         \u001b[0mX\u001b[0m \u001b[0;34m=\u001b[0m \u001b[0mself\u001b[0m\u001b[0;34m.\u001b[0m\u001b[0m_check_input\u001b[0m\u001b[0;34m(\u001b[0m\u001b[0mX\u001b[0m\u001b[0;34m,\u001b[0m \u001b[0mreset\u001b[0m\u001b[0;34m=\u001b[0m\u001b[0;32mFalse\u001b[0m\u001b[0;34m)\u001b[0m\u001b[0;34m\u001b[0m\u001b[0;34m\u001b[0m\u001b[0m\n\u001b[0m\u001b[1;32m    238\u001b[0m         \u001b[0;32mreturn\u001b[0m \u001b[0mself\u001b[0m\u001b[0;34m.\u001b[0m\u001b[0m_transform\u001b[0m\u001b[0;34m(\u001b[0m\u001b[0mX\u001b[0m\u001b[0;34m,\u001b[0m \u001b[0mfunc\u001b[0m\u001b[0;34m=\u001b[0m\u001b[0mself\u001b[0m\u001b[0;34m.\u001b[0m\u001b[0mfunc\u001b[0m\u001b[0;34m,\u001b[0m \u001b[0mkw_args\u001b[0m\u001b[0;34m=\u001b[0m\u001b[0mself\u001b[0m\u001b[0;34m.\u001b[0m\u001b[0mkw_args\u001b[0m\u001b[0;34m)\u001b[0m\u001b[0;34m\u001b[0m\u001b[0;34m\u001b[0m\u001b[0m\n\u001b[1;32m    239\u001b[0m \u001b[0;34m\u001b[0m\u001b[0m\n",
            "\u001b[0;32m/usr/local/lib/python3.10/dist-packages/sklearn/preprocessing/_function_transformer.py\u001b[0m in \u001b[0;36m_check_input\u001b[0;34m(self, X, reset)\u001b[0m\n\u001b[1;32m    161\u001b[0m     \u001b[0;32mdef\u001b[0m \u001b[0m_check_input\u001b[0m\u001b[0;34m(\u001b[0m\u001b[0mself\u001b[0m\u001b[0;34m,\u001b[0m \u001b[0mX\u001b[0m\u001b[0;34m,\u001b[0m \u001b[0;34m*\u001b[0m\u001b[0;34m,\u001b[0m \u001b[0mreset\u001b[0m\u001b[0;34m)\u001b[0m\u001b[0;34m:\u001b[0m\u001b[0;34m\u001b[0m\u001b[0;34m\u001b[0m\u001b[0m\n\u001b[1;32m    162\u001b[0m         \u001b[0;32mif\u001b[0m \u001b[0mself\u001b[0m\u001b[0;34m.\u001b[0m\u001b[0mvalidate\u001b[0m\u001b[0;34m:\u001b[0m\u001b[0;34m\u001b[0m\u001b[0;34m\u001b[0m\u001b[0m\n\u001b[0;32m--> 163\u001b[0;31m             \u001b[0;32mreturn\u001b[0m \u001b[0mself\u001b[0m\u001b[0;34m.\u001b[0m\u001b[0m_validate_data\u001b[0m\u001b[0;34m(\u001b[0m\u001b[0mX\u001b[0m\u001b[0;34m,\u001b[0m \u001b[0maccept_sparse\u001b[0m\u001b[0;34m=\u001b[0m\u001b[0mself\u001b[0m\u001b[0;34m.\u001b[0m\u001b[0maccept_sparse\u001b[0m\u001b[0;34m,\u001b[0m \u001b[0mreset\u001b[0m\u001b[0;34m=\u001b[0m\u001b[0mreset\u001b[0m\u001b[0;34m)\u001b[0m\u001b[0;34m\u001b[0m\u001b[0;34m\u001b[0m\u001b[0m\n\u001b[0m\u001b[1;32m    164\u001b[0m         \u001b[0;32melif\u001b[0m \u001b[0mreset\u001b[0m\u001b[0;34m:\u001b[0m\u001b[0;34m\u001b[0m\u001b[0;34m\u001b[0m\u001b[0m\n\u001b[1;32m    165\u001b[0m             \u001b[0;31m# Set feature_names_in_ and n_features_in_ even if validate=False\u001b[0m\u001b[0;34m\u001b[0m\u001b[0;34m\u001b[0m\u001b[0m\n",
            "\u001b[0;32m/usr/local/lib/python3.10/dist-packages/sklearn/base.py\u001b[0m in \u001b[0;36m_validate_data\u001b[0;34m(self, X, y, reset, validate_separately, **check_params)\u001b[0m\n\u001b[1;32m    563\u001b[0m             \u001b[0;32mraise\u001b[0m \u001b[0mValueError\u001b[0m\u001b[0;34m(\u001b[0m\u001b[0;34m\"Validation should be done on X, y or both.\"\u001b[0m\u001b[0;34m)\u001b[0m\u001b[0;34m\u001b[0m\u001b[0;34m\u001b[0m\u001b[0m\n\u001b[1;32m    564\u001b[0m         \u001b[0;32melif\u001b[0m \u001b[0;32mnot\u001b[0m \u001b[0mno_val_X\u001b[0m \u001b[0;32mand\u001b[0m \u001b[0mno_val_y\u001b[0m\u001b[0;34m:\u001b[0m\u001b[0;34m\u001b[0m\u001b[0;34m\u001b[0m\u001b[0m\n\u001b[0;32m--> 565\u001b[0;31m             \u001b[0mX\u001b[0m \u001b[0;34m=\u001b[0m \u001b[0mcheck_array\u001b[0m\u001b[0;34m(\u001b[0m\u001b[0mX\u001b[0m\u001b[0;34m,\u001b[0m \u001b[0minput_name\u001b[0m\u001b[0;34m=\u001b[0m\u001b[0;34m\"X\"\u001b[0m\u001b[0;34m,\u001b[0m \u001b[0;34m**\u001b[0m\u001b[0mcheck_params\u001b[0m\u001b[0;34m)\u001b[0m\u001b[0;34m\u001b[0m\u001b[0;34m\u001b[0m\u001b[0m\n\u001b[0m\u001b[1;32m    566\u001b[0m             \u001b[0mout\u001b[0m \u001b[0;34m=\u001b[0m \u001b[0mX\u001b[0m\u001b[0;34m\u001b[0m\u001b[0;34m\u001b[0m\u001b[0m\n\u001b[1;32m    567\u001b[0m         \u001b[0;32melif\u001b[0m \u001b[0mno_val_X\u001b[0m \u001b[0;32mand\u001b[0m \u001b[0;32mnot\u001b[0m \u001b[0mno_val_y\u001b[0m\u001b[0;34m:\u001b[0m\u001b[0;34m\u001b[0m\u001b[0;34m\u001b[0m\u001b[0m\n",
            "\u001b[0;32m/usr/local/lib/python3.10/dist-packages/sklearn/utils/validation.py\u001b[0m in \u001b[0;36mcheck_array\u001b[0;34m(array, accept_sparse, accept_large_sparse, dtype, order, copy, force_all_finite, ensure_2d, allow_nd, ensure_min_samples, ensure_min_features, estimator, input_name)\u001b[0m\n\u001b[1;32m    919\u001b[0m \u001b[0;34m\u001b[0m\u001b[0m\n\u001b[1;32m    920\u001b[0m         \u001b[0;32mif\u001b[0m \u001b[0mforce_all_finite\u001b[0m\u001b[0;34m:\u001b[0m\u001b[0;34m\u001b[0m\u001b[0;34m\u001b[0m\u001b[0m\n\u001b[0;32m--> 921\u001b[0;31m             _assert_all_finite(\n\u001b[0m\u001b[1;32m    922\u001b[0m                 \u001b[0marray\u001b[0m\u001b[0;34m,\u001b[0m\u001b[0;34m\u001b[0m\u001b[0;34m\u001b[0m\u001b[0m\n\u001b[1;32m    923\u001b[0m                 \u001b[0minput_name\u001b[0m\u001b[0;34m=\u001b[0m\u001b[0minput_name\u001b[0m\u001b[0;34m,\u001b[0m\u001b[0;34m\u001b[0m\u001b[0;34m\u001b[0m\u001b[0m\n",
            "\u001b[0;32m/usr/local/lib/python3.10/dist-packages/sklearn/utils/validation.py\u001b[0m in \u001b[0;36m_assert_all_finite\u001b[0;34m(X, allow_nan, msg_dtype, estimator_name, input_name)\u001b[0m\n\u001b[1;32m    159\u001b[0m                 \u001b[0;34m\"#estimators-that-handle-nan-values\"\u001b[0m\u001b[0;34m\u001b[0m\u001b[0;34m\u001b[0m\u001b[0m\n\u001b[1;32m    160\u001b[0m             )\n\u001b[0;32m--> 161\u001b[0;31m         \u001b[0;32mraise\u001b[0m \u001b[0mValueError\u001b[0m\u001b[0;34m(\u001b[0m\u001b[0mmsg_err\u001b[0m\u001b[0;34m)\u001b[0m\u001b[0;34m\u001b[0m\u001b[0;34m\u001b[0m\u001b[0m\n\u001b[0m\u001b[1;32m    162\u001b[0m \u001b[0;34m\u001b[0m\u001b[0m\n\u001b[1;32m    163\u001b[0m \u001b[0;34m\u001b[0m\u001b[0m\n",
            "\u001b[0;31mValueError\u001b[0m: Input X contains NaN.\nFunctionTransformer does not accept missing values encoded as NaN natively. For supervised learning, you might want to consider sklearn.ensemble.HistGradientBoostingClassifier and Regressor which accept missing values encoded as NaNs natively. Alternatively, it is possible to preprocess the data, for instance by using an imputer transformer in a pipeline or drop samples with missing values. See https://scikit-learn.org/stable/modules/impute.html You can find a list of all estimators that handle NaN values at the following page: https://scikit-learn.org/stable/modules/impute.html#estimators-that-handle-nan-values"
          ]
        }
      ],
      "source": [
        "from sklearn.preprocessing import FunctionTransformer\n",
        "\n",
        "transformer = FunctionTransformer(np.log1p, validate=True)\n",
        "dados_transformados = transformer.transform(dados_imoveis.select_dtypes(exclude=['object']))"
      ]
    },
    {
      "cell_type": "code",
      "execution_count": 22,
      "metadata": {
        "colab": {
          "base_uri": "https://localhost:8080/",
          "height": 246
        },
        "id": "de_9YcKf65Wr",
        "outputId": "ff3978aa-c0ff-4ee3-f6ab-6d0b27ece3a1"
      },
      "outputs": [
        {
          "output_type": "error",
          "ename": "NameError",
          "evalue": "name 'dados_transformados' is not defined",
          "traceback": [
            "\u001b[0;31m---------------------------------------------------------------------------\u001b[0m",
            "\u001b[0;31mNameError\u001b[0m                                 Traceback (most recent call last)",
            "\u001b[0;32m<ipython-input-22-844e49a4d71f>\u001b[0m in \u001b[0;36m<cell line: 3>\u001b[0;34m()\u001b[0m\n\u001b[1;32m      1\u001b[0m \u001b[0mcolunas_dados_tranformados\u001b[0m \u001b[0;34m=\u001b[0m \u001b[0mdados_imoveis\u001b[0m\u001b[0;34m.\u001b[0m\u001b[0mselect_dtypes\u001b[0m\u001b[0;34m(\u001b[0m\u001b[0mexclude\u001b[0m\u001b[0;34m=\u001b[0m\u001b[0;34m[\u001b[0m\u001b[0;34m'object'\u001b[0m\u001b[0;34m]\u001b[0m\u001b[0;34m)\u001b[0m\u001b[0;34m.\u001b[0m\u001b[0mcolumns\u001b[0m\u001b[0;34m\u001b[0m\u001b[0;34m\u001b[0m\u001b[0m\n\u001b[1;32m      2\u001b[0m \u001b[0;34m\u001b[0m\u001b[0m\n\u001b[0;32m----> 3\u001b[0;31m \u001b[0mdf_transformado\u001b[0m \u001b[0;34m=\u001b[0m \u001b[0mpd\u001b[0m\u001b[0;34m.\u001b[0m\u001b[0mconcat\u001b[0m\u001b[0;34m(\u001b[0m\u001b[0;34m[\u001b[0m\u001b[0mdados_imoveis\u001b[0m\u001b[0;34m.\u001b[0m\u001b[0mselect_dtypes\u001b[0m\u001b[0;34m(\u001b[0m\u001b[0minclude\u001b[0m\u001b[0;34m=\u001b[0m\u001b[0;34m[\u001b[0m\u001b[0;34m'object'\u001b[0m\u001b[0;34m]\u001b[0m\u001b[0;34m)\u001b[0m\u001b[0;34m,\u001b[0m \u001b[0mpd\u001b[0m\u001b[0;34m.\u001b[0m\u001b[0mDataFrame\u001b[0m\u001b[0;34m(\u001b[0m\u001b[0mdados_transformados\u001b[0m\u001b[0;34m,\u001b[0m \u001b[0mcolumns\u001b[0m\u001b[0;34m=\u001b[0m\u001b[0mcolunas_dados_tranformados\u001b[0m\u001b[0;34m)\u001b[0m\u001b[0;34m]\u001b[0m\u001b[0;34m,\u001b[0m \u001b[0maxis\u001b[0m\u001b[0;34m=\u001b[0m\u001b[0;36m1\u001b[0m\u001b[0;34m)\u001b[0m\u001b[0;34m\u001b[0m\u001b[0;34m\u001b[0m\u001b[0m\n\u001b[0m\u001b[1;32m      4\u001b[0m \u001b[0mdf_transformado\u001b[0m\u001b[0;34m.\u001b[0m\u001b[0mhead\u001b[0m\u001b[0;34m(\u001b[0m\u001b[0;34m)\u001b[0m\u001b[0;34m\u001b[0m\u001b[0;34m\u001b[0m\u001b[0m\n",
            "\u001b[0;31mNameError\u001b[0m: name 'dados_transformados' is not defined"
          ]
        }
      ],
      "source": [
        "colunas_dados_tranformados = dados_imoveis.select_dtypes(exclude=['object']).columns\n",
        "\n",
        "df_transformado = pd.concat([dados_imoveis.select_dtypes(include=['object']), pd.DataFrame(dados_transformados, columns=colunas_dados_tranformados)], axis=1)\n",
        "df_transformado.head()"
      ]
    },
    {
      "cell_type": "code",
      "execution_count": 23,
      "metadata": {
        "colab": {
          "base_uri": "https://localhost:8080/",
          "height": 246
        },
        "id": "aNuAONIPjot5",
        "outputId": "9e54f936-98f2-4281-edfe-c9a59b30d663"
      },
      "outputs": [
        {
          "output_type": "error",
          "ename": "NameError",
          "evalue": "name 'df_transformado' is not defined",
          "traceback": [
            "\u001b[0;31m---------------------------------------------------------------------------\u001b[0m",
            "\u001b[0;31mNameError\u001b[0m                                 Traceback (most recent call last)",
            "\u001b[0;32m<ipython-input-23-eef08827dbe3>\u001b[0m in \u001b[0;36m<cell line: 2>\u001b[0;34m()\u001b[0m\n\u001b[1;32m      1\u001b[0m \u001b[0;31m#depois da transformação\u001b[0m\u001b[0;34m\u001b[0m\u001b[0;34m\u001b[0m\u001b[0m\n\u001b[0;32m----> 2\u001b[0;31m \u001b[0mcorrelacao_transformado\u001b[0m \u001b[0;34m=\u001b[0m \u001b[0mdf_transformado\u001b[0m\u001b[0;34m.\u001b[0m\u001b[0mcorr\u001b[0m\u001b[0;34m(\u001b[0m\u001b[0;34m)\u001b[0m\u001b[0;34m\u001b[0m\u001b[0;34m\u001b[0m\u001b[0m\n\u001b[0m\u001b[1;32m      3\u001b[0m \u001b[0mmask\u001b[0m \u001b[0;34m=\u001b[0m \u001b[0mnp\u001b[0m\u001b[0;34m.\u001b[0m\u001b[0mzeros_like\u001b[0m\u001b[0;34m(\u001b[0m\u001b[0mcorrelacao_transformado\u001b[0m\u001b[0;34m)\u001b[0m\u001b[0;34m\u001b[0m\u001b[0;34m\u001b[0m\u001b[0m\n\u001b[1;32m      4\u001b[0m \u001b[0mmask\u001b[0m\u001b[0;34m[\u001b[0m\u001b[0mnp\u001b[0m\u001b[0;34m.\u001b[0m\u001b[0mtriu_indices_from\u001b[0m\u001b[0;34m(\u001b[0m\u001b[0mmask\u001b[0m\u001b[0;34m)\u001b[0m\u001b[0;34m]\u001b[0m \u001b[0;34m=\u001b[0m \u001b[0;32mTrue\u001b[0m\u001b[0;34m\u001b[0m\u001b[0;34m\u001b[0m\u001b[0m\n\u001b[1;32m      5\u001b[0m \u001b[0;32mwith\u001b[0m \u001b[0msns\u001b[0m\u001b[0;34m.\u001b[0m\u001b[0maxes_style\u001b[0m\u001b[0;34m(\u001b[0m\u001b[0;34m\"white\"\u001b[0m\u001b[0;34m)\u001b[0m\u001b[0;34m:\u001b[0m\u001b[0;34m\u001b[0m\u001b[0;34m\u001b[0m\u001b[0m\n",
            "\u001b[0;31mNameError\u001b[0m: name 'df_transformado' is not defined"
          ]
        }
      ],
      "source": [
        "#depois da transformação\n",
        "correlacao_transformado = df_transformado.corr()\n",
        "mask = np.zeros_like(correlacao_transformado)\n",
        "mask[np.triu_indices_from(mask)] = True\n",
        "with sns.axes_style(\"white\"):\n",
        "    f, ax = plt.subplots(figsize=(13, 8))\n",
        "    ax = sns.heatmap(correlacao_transformado, cmap=cores, mask=mask, square=True, fmt='.2f', annot=True)\n",
        "    ax.set_title('Correlação entre variáveis - Tranformação Log', fontsize=20)"
      ]
    },
    {
      "cell_type": "code",
      "execution_count": 24,
      "metadata": {
        "colab": {
          "base_uri": "https://localhost:8080/",
          "height": 246
        },
        "id": "GxnI3Bc-jot6",
        "outputId": "8c7f6342-f0be-4e39-cc79-dbee0b132a49"
      },
      "outputs": [
        {
          "output_type": "error",
          "ename": "NameError",
          "evalue": "name 'df_transformado' is not defined",
          "traceback": [
            "\u001b[0;31m---------------------------------------------------------------------------\u001b[0m",
            "\u001b[0;31mNameError\u001b[0m                                 Traceback (most recent call last)",
            "\u001b[0;32m<ipython-input-24-4c752f34e90c>\u001b[0m in \u001b[0;36m<cell line: 2>\u001b[0;34m()\u001b[0m\n\u001b[1;32m      1\u001b[0m \u001b[0;31m#depois (distrib. simétrica)\u001b[0m\u001b[0;34m\u001b[0m\u001b[0;34m\u001b[0m\u001b[0m\n\u001b[0;32m----> 2\u001b[0;31m \u001b[0max\u001b[0m \u001b[0;34m=\u001b[0m \u001b[0msns\u001b[0m\u001b[0;34m.\u001b[0m\u001b[0mhistplot\u001b[0m\u001b[0;34m(\u001b[0m\u001b[0mdata\u001b[0m\u001b[0;34m=\u001b[0m\u001b[0mdf_transformado\u001b[0m\u001b[0;34m,\u001b[0m \u001b[0mx\u001b[0m\u001b[0;34m=\u001b[0m\u001b[0;34m'price'\u001b[0m\u001b[0;34m,\u001b[0m \u001b[0mkde\u001b[0m\u001b[0;34m=\u001b[0m\u001b[0;32mTrue\u001b[0m\u001b[0;34m)\u001b[0m\u001b[0;34m\u001b[0m\u001b[0;34m\u001b[0m\u001b[0m\n\u001b[0m\u001b[1;32m      3\u001b[0m \u001b[0max\u001b[0m\u001b[0;34m.\u001b[0m\u001b[0mfigure\u001b[0m\u001b[0;34m.\u001b[0m\u001b[0mset_size_inches\u001b[0m\u001b[0;34m(\u001b[0m\u001b[0;36m20\u001b[0m\u001b[0;34m,\u001b[0m \u001b[0;36m10\u001b[0m\u001b[0;34m)\u001b[0m\u001b[0;34m\u001b[0m\u001b[0;34m\u001b[0m\u001b[0m\n\u001b[1;32m      4\u001b[0m \u001b[0max\u001b[0m\u001b[0;34m.\u001b[0m\u001b[0mset_title\u001b[0m\u001b[0;34m(\u001b[0m\u001b[0;34m'Histograma de preços'\u001b[0m\u001b[0;34m)\u001b[0m\u001b[0;34m\u001b[0m\u001b[0;34m\u001b[0m\u001b[0m\n\u001b[1;32m      5\u001b[0m \u001b[0max\u001b[0m\u001b[0;34m.\u001b[0m\u001b[0mset_xlabel\u001b[0m\u001b[0;34m(\u001b[0m\u001b[0;34m'Preço'\u001b[0m\u001b[0;34m)\u001b[0m\u001b[0;34m;\u001b[0m\u001b[0;34m\u001b[0m\u001b[0;34m\u001b[0m\u001b[0m\n",
            "\u001b[0;31mNameError\u001b[0m: name 'df_transformado' is not defined"
          ]
        }
      ],
      "source": [
        "#depois (distrib. simétrica)\n",
        "ax = sns.histplot(data=df_transformado, x='price', kde=True)\n",
        "ax.figure.set_size_inches(20, 10)\n",
        "ax.set_title('Histograma de preços')\n",
        "ax.set_xlabel('Preço');"
      ]
    },
    {
      "cell_type": "markdown",
      "metadata": {
        "id": "Lnc270Yqjot6"
      },
      "source": [
        "### Dummies"
      ]
    },
    {
      "cell_type": "code",
      "execution_count": 25,
      "metadata": {
        "id": "CU3gB5Vkjot6",
        "outputId": "b5e8aa7d-d9b0-44ad-cebf-288b95aa3a7f",
        "colab": {
          "base_uri": "https://localhost:8080/",
          "height": 176
        }
      },
      "outputs": [
        {
          "output_type": "error",
          "ename": "NameError",
          "evalue": "name 'df_transformado' is not defined",
          "traceback": [
            "\u001b[0;31m---------------------------------------------------------------------------\u001b[0m",
            "\u001b[0;31mNameError\u001b[0m                                 Traceback (most recent call last)",
            "\u001b[0;32m<ipython-input-25-8009be8fc331>\u001b[0m in \u001b[0;36m<cell line: 1>\u001b[0;34m()\u001b[0m\n\u001b[0;32m----> 1\u001b[0;31m \u001b[0mvariaveis_categoricas\u001b[0m \u001b[0;34m=\u001b[0m \u001b[0mdf_transformado\u001b[0m\u001b[0;34m.\u001b[0m\u001b[0mselect_dtypes\u001b[0m\u001b[0;34m(\u001b[0m\u001b[0minclude\u001b[0m\u001b[0;34m=\u001b[0m\u001b[0;34m[\u001b[0m\u001b[0;34m'object'\u001b[0m\u001b[0;34m]\u001b[0m\u001b[0;34m)\u001b[0m\u001b[0;34m.\u001b[0m\u001b[0mcolumns\u001b[0m\u001b[0;34m\u001b[0m\u001b[0;34m\u001b[0m\u001b[0m\n\u001b[0m",
            "\u001b[0;31mNameError\u001b[0m: name 'df_transformado' is not defined"
          ]
        }
      ],
      "source": [
        "variaveis_categoricas = df_transformado.select_dtypes(include=['object']).columns"
      ]
    },
    {
      "cell_type": "code",
      "execution_count": 26,
      "metadata": {
        "colab": {
          "base_uri": "https://localhost:8080/",
          "height": 176
        },
        "id": "TwNvfYoTgndG",
        "outputId": "25e2a074-abd1-4249-e97a-7d335b99a419"
      },
      "outputs": [
        {
          "output_type": "error",
          "ename": "NameError",
          "evalue": "name 'variaveis_categoricas' is not defined",
          "traceback": [
            "\u001b[0;31m---------------------------------------------------------------------------\u001b[0m",
            "\u001b[0;31mNameError\u001b[0m                                 Traceback (most recent call last)",
            "\u001b[0;32m<ipython-input-26-0811cd442577>\u001b[0m in \u001b[0;36m<cell line: 1>\u001b[0;34m()\u001b[0m\n\u001b[0;32m----> 1\u001b[0;31m \u001b[0mvariaveis_categoricas\u001b[0m\u001b[0;34m\u001b[0m\u001b[0;34m\u001b[0m\u001b[0m\n\u001b[0m",
            "\u001b[0;31mNameError\u001b[0m: name 'variaveis_categoricas' is not defined"
          ]
        }
      ],
      "source": [
        "variaveis_categoricas"
      ]
    },
    {
      "cell_type": "code",
      "execution_count": 27,
      "metadata": {
        "colab": {
          "base_uri": "https://localhost:8080/",
          "height": 194
        },
        "id": "nPTMe-Bujot6",
        "outputId": "22245875-34e6-483e-99ad-a28c1ebba39b"
      },
      "outputs": [
        {
          "output_type": "error",
          "ename": "NameError",
          "evalue": "name 'df_transformado' is not defined",
          "traceback": [
            "\u001b[0;31m---------------------------------------------------------------------------\u001b[0m",
            "\u001b[0;31mNameError\u001b[0m                                 Traceback (most recent call last)",
            "\u001b[0;32m<ipython-input-27-d55c26d1e994>\u001b[0m in \u001b[0;36m<cell line: 1>\u001b[0;34m()\u001b[0m\n\u001b[0;32m----> 1\u001b[0;31m \u001b[0mdf_dummies\u001b[0m \u001b[0;34m=\u001b[0m \u001b[0mpd\u001b[0m\u001b[0;34m.\u001b[0m\u001b[0mget_dummies\u001b[0m\u001b[0;34m(\u001b[0m\u001b[0mdf_transformado\u001b[0m\u001b[0;34m[\u001b[0m\u001b[0mvariaveis_categoricas\u001b[0m\u001b[0;34m]\u001b[0m\u001b[0;34m)\u001b[0m\u001b[0;34m\u001b[0m\u001b[0;34m\u001b[0m\u001b[0m\n\u001b[0m\u001b[1;32m      2\u001b[0m \u001b[0mdf_dummies\u001b[0m\u001b[0;34m.\u001b[0m\u001b[0mhead\u001b[0m\u001b[0;34m(\u001b[0m\u001b[0;34m)\u001b[0m\u001b[0;34m\u001b[0m\u001b[0;34m\u001b[0m\u001b[0m\n",
            "\u001b[0;31mNameError\u001b[0m: name 'df_transformado' is not defined"
          ]
        }
      ],
      "source": [
        "df_dummies = pd.get_dummies(df_transformado[variaveis_categoricas])\n",
        "df_dummies.head()"
      ]
    },
    {
      "cell_type": "code",
      "execution_count": 28,
      "metadata": {
        "colab": {
          "base_uri": "https://localhost:8080/",
          "height": 194
        },
        "id": "Q5gp-zGujot7",
        "outputId": "d8a7c575-0053-4c09-e2ba-fc0b7ce81825"
      },
      "outputs": [
        {
          "output_type": "error",
          "ename": "NameError",
          "evalue": "name 'df_transformado' is not defined",
          "traceback": [
            "\u001b[0;31m---------------------------------------------------------------------------\u001b[0m",
            "\u001b[0;31mNameError\u001b[0m                                 Traceback (most recent call last)",
            "\u001b[0;32m<ipython-input-28-8b980dc8e2b9>\u001b[0m in \u001b[0;36m<cell line: 1>\u001b[0;34m()\u001b[0m\n\u001b[0;32m----> 1\u001b[0;31m \u001b[0mdados_imoveis_dummies\u001b[0m \u001b[0;34m=\u001b[0m \u001b[0mpd\u001b[0m\u001b[0;34m.\u001b[0m\u001b[0mconcat\u001b[0m\u001b[0;34m(\u001b[0m\u001b[0;34m[\u001b[0m\u001b[0mdf_transformado\u001b[0m\u001b[0;34m.\u001b[0m\u001b[0mdrop\u001b[0m\u001b[0;34m(\u001b[0m\u001b[0mvariaveis_categoricas\u001b[0m\u001b[0;34m,\u001b[0m \u001b[0maxis\u001b[0m\u001b[0;34m=\u001b[0m\u001b[0;36m1\u001b[0m\u001b[0;34m)\u001b[0m\u001b[0;34m,\u001b[0m \u001b[0mdf_dummies\u001b[0m\u001b[0;34m]\u001b[0m\u001b[0;34m,\u001b[0m \u001b[0maxis\u001b[0m\u001b[0;34m=\u001b[0m\u001b[0;36m1\u001b[0m\u001b[0;34m)\u001b[0m\u001b[0;34m\u001b[0m\u001b[0;34m\u001b[0m\u001b[0m\n\u001b[0m\u001b[1;32m      2\u001b[0m \u001b[0mdados_imoveis_dummies\u001b[0m\u001b[0;34m.\u001b[0m\u001b[0mhead\u001b[0m\u001b[0;34m(\u001b[0m\u001b[0;34m)\u001b[0m\u001b[0;34m\u001b[0m\u001b[0;34m\u001b[0m\u001b[0m\n",
            "\u001b[0;31mNameError\u001b[0m: name 'df_transformado' is not defined"
          ]
        }
      ],
      "source": [
        "dados_imoveis_dummies = pd.concat([df_transformado.drop(variaveis_categoricas, axis=1), df_dummies], axis=1)\n",
        "dados_imoveis_dummies.head()"
      ]
    },
    {
      "cell_type": "markdown",
      "metadata": {
        "id": "UF9KVec5dKvn"
      },
      "source": [
        "## 2.2 - Regressão Linear\n",
        "\n",
        "* \"A análise de regressão diz respeito ao estudo da dependência de uma variável, a variável dependente, em relação a uma ou mais variáveis, as variáveis explanatórias, visando estimar e/ou prever o valor médio (da população) da primeira em termos dos valores conhecidos ou fixados (em amostragens repetidas) das segundas.\"\n",
        "\n",
        "* [Documentação Sklearn - LinearRegression](https://scikit-learn.org/stable/modules/generated/sklearn.linear_model.LinearRegression.html#sklearn.linear_model.LinearRegression)\n",
        "\n",
        "* Regressão Simples: a variável dependente (regressando ou `y`) se relaciona a uma única variável explanatória (regressor ou `X`).\n",
        "\n",
        "* Regressão Múltipla: a variável dependente (regressando ou `y`) se relaciona a mais de uma única variável explanatória (regressor ou `Xi`).\n",
        "\n",
        "\n",
        "[slides]"
      ]
    },
    {
      "cell_type": "markdown",
      "metadata": {
        "id": "NCJT4tyvjot7"
      },
      "source": [
        "## 2.3 - Ajuste e Previsão"
      ]
    },
    {
      "cell_type": "markdown",
      "metadata": {
        "id": "CUVKskTnjot7"
      },
      "source": [
        "### Divisão dos dados"
      ]
    },
    {
      "cell_type": "code",
      "execution_count": null,
      "metadata": {
        "id": "_buEpLP0jot8"
      },
      "outputs": [],
      "source": [
        "#variáveis explanatórias (independentes)\n",
        "X = dados_imoveis_dummies.drop('price', axis=1)\n",
        "\n",
        "#variável dependente\n",
        "y = dados_imoveis_dummies['price']"
      ]
    },
    {
      "cell_type": "code",
      "execution_count": null,
      "metadata": {
        "id": "zXNY9CLzjot7"
      },
      "outputs": [],
      "source": [
        "from sklearn.model_selection import train_test_split"
      ]
    },
    {
      "cell_type": "code",
      "execution_count": null,
      "metadata": {
        "id": "sN_McnjLjot8"
      },
      "outputs": [],
      "source": [
        "#divisão em conjunto de treino e teste\n",
        "X_treino, X_teste, y_treino, y_teste = train_test_split(X, y, test_size=0.3, random_state=42)"
      ]
    },
    {
      "cell_type": "markdown",
      "metadata": {
        "id": "MlQgkLCfnjQA"
      },
      "source": [
        "### Modelo"
      ]
    },
    {
      "cell_type": "code",
      "execution_count": null,
      "metadata": {
        "id": "Q-sDBVv6qgVl"
      },
      "outputs": [],
      "source": [
        "from sklearn.linear_model import LinearRegression"
      ]
    },
    {
      "cell_type": "code",
      "execution_count": null,
      "metadata": {
        "id": "tdcPTGZAqhL9"
      },
      "outputs": [],
      "source": [
        "#Instanciando o modelo\n",
        "lr = LinearRegression()"
      ]
    },
    {
      "cell_type": "code",
      "execution_count": null,
      "metadata": {
        "colab": {
          "base_uri": "https://localhost:8080/"
        },
        "id": "FLGMxxBmqhk1",
        "outputId": "c2ff902c-18bd-40d8-e159-ca455fa05366"
      },
      "outputs": [
        {
          "data": {
            "text/plain": [
              "LinearRegression()"
            ]
          },
          "execution_count": 46,
          "metadata": {},
          "output_type": "execute_result"
        }
      ],
      "source": [
        "#treino\n",
        "lr.fit(X_treino, y_treino)"
      ]
    },
    {
      "cell_type": "code",
      "execution_count": null,
      "metadata": {
        "id": "_LqC15XYqhhE"
      },
      "outputs": [],
      "source": [
        "#teste\n",
        "previsao_lr = lr.predict(X_teste)"
      ]
    },
    {
      "cell_type": "code",
      "execution_count": null,
      "metadata": {
        "colab": {
          "base_uri": "https://localhost:8080/"
        },
        "id": "ooC8ti2vqn80",
        "outputId": "78b6dc17-66b9-445e-c608-2931721e0e6a"
      },
      "outputs": [
        {
          "data": {
            "text/plain": [
              "array([13.25768024, 12.45705313, 12.91487963, ..., 13.13161073,\n",
              "       12.42379775, 14.49548233])"
            ]
          },
          "execution_count": 48,
          "metadata": {},
          "output_type": "execute_result"
        }
      ],
      "source": [
        "#resultados da previsão\n",
        "previsao_lr"
      ]
    },
    {
      "cell_type": "code",
      "execution_count": null,
      "metadata": {
        "colab": {
          "base_uri": "https://localhost:8080/"
        },
        "id": "xAdTR4GSg56P",
        "outputId": "f56242d1-ca79-4901-c6ca-afae356e0dec"
      },
      "outputs": [
        {
          "data": {
            "text/plain": [
              "572448.7513552749"
            ]
          },
          "execution_count": 49,
          "metadata": {},
          "output_type": "execute_result"
        }
      ],
      "source": [
        "#transformação inversa\n",
        "np.expm1(13.25768024)"
      ]
    },
    {
      "cell_type": "markdown",
      "metadata": {
        "id": "PraznHLEjouB"
      },
      "source": [
        "## 2.4 - Métrica de desempenho"
      ]
    },
    {
      "cell_type": "markdown",
      "metadata": {
        "id": "yb5Nd23ki1v6"
      },
      "source": [
        "### Coeficiente de Determinação\n",
        "\n",
        "* descobrir quão “bem” uma linha de regressão amostral é adequada aos dados\n",
        "* r2 situa-se entre 0 e 1\n",
        "* \"r2 mede a proporção ou percentual da variação total de Y explicada pelo modelo de regressão.\"\n",
        "\n",
        "\n",
        "\n"
      ]
    },
    {
      "cell_type": "code",
      "execution_count": null,
      "metadata": {
        "id": "e6EGnOEpjouB"
      },
      "outputs": [],
      "source": [
        "#importar a biblioteca\n",
        "from sklearn.metrics import r2_score"
      ]
    },
    {
      "cell_type": "code",
      "execution_count": null,
      "metadata": {
        "colab": {
          "base_uri": "https://localhost:8080/"
        },
        "id": "G6XKyUOXjouC",
        "outputId": "5395cde2-bd0f-45a1-e74b-df7364af9225"
      },
      "outputs": [
        {
          "data": {
            "text/plain": [
              "0.7880682093407632"
            ]
          },
          "execution_count": 51,
          "metadata": {},
          "output_type": "execute_result"
        }
      ],
      "source": [
        "r2_lr = r2_score(y_teste, previsao_lr)\n",
        "r2_lr"
      ]
    },
    {
      "cell_type": "markdown",
      "metadata": {
        "id": "TWxgmYTNSaRa"
      },
      "source": [
        "### Extra\n",
        "\n",
        "* [Documentação Sklearn - Métricas para Regressão](https://scikit-learn.org/stable/modules/model_evaluation.html#regression-metrics)\n",
        "\n",
        "* Observação: Estas métricas dependem da escala dos dados!!!\n",
        "\n",
        "* MSE (Mean Squared Error ou Erro Quadrático Médio): média da diferença **elevada ao quadrado** entre o valor real e o previsto. *(penalidade sobre o erro)*\n",
        "\n",
        "* MAE (Mean Absolute Error ou Erro Absoluto Médio): média da diferença **absoluta** (módulo) entre o valor real e o previsto.\n"
      ]
    },
    {
      "cell_type": "markdown",
      "metadata": {
        "id": "bN7JJ3fojouD"
      },
      "source": [
        "# Aula 3 - Árvore de Decisão para Regressão\n",
        "\n",
        "\n",
        "\n",
        "\n"
      ]
    },
    {
      "cell_type": "markdown",
      "metadata": {
        "id": "X5btylrcu8bK"
      },
      "source": [
        "## 3.1 - Árvore de Decisão Classificação versus Regressão\n",
        "\n",
        "[slides]\n",
        "\n",
        "[Biblioteca Sklearn - Desicion Tree](https://scikit-learn.org/stable/modules/tree.html#regression)\n",
        "\n",
        "**Dica de leitura**: [Capítulo 6 - Mãos à obra: aprendizado de máquina com Scikit-Learn, Keras & TensorFlow: Conceitos, ferramentas e técnicas para a construção de sistemas inteligentes](https://www.amazon.com.br/M%C3%A3os-obra-aprendizado-Scikit-Learn-inteligentes/dp/8550815489/ref=sr_1_2?keywords=machine+learning&qid=1658181249&sprefix=machine%2Caps%2C469&sr=8-2&ufe=app_do%3Aamzn1.fos.6d798eae-cadf-45de-946a-f477d47705b9), [Para saber mais: como funciona a árvore de decisão? - Classificação](https://cursos.alura.com.br/course/machine-learning-classificacao-tras-panos/task/107966)\n",
        "\n"
      ]
    },
    {
      "cell_type": "markdown",
      "metadata": {
        "id": "O0CXJSK9jouD"
      },
      "source": [
        "## 3.2 - Implementando o Modelo\n"
      ]
    },
    {
      "cell_type": "code",
      "execution_count": 29,
      "metadata": {
        "id": "G4je_bx7jouD"
      },
      "outputs": [],
      "source": [
        "from sklearn.tree import DecisionTreeRegressor"
      ]
    },
    {
      "cell_type": "code",
      "execution_count": 30,
      "metadata": {
        "id": "txw8V0ByjouD"
      },
      "outputs": [],
      "source": [
        "#Instanciando o modelo\n",
        "dtr = DecisionTreeRegressor(random_state=42, max_depth=5)"
      ]
    },
    {
      "cell_type": "code",
      "execution_count": 31,
      "metadata": {
        "colab": {
          "base_uri": "https://localhost:8080/",
          "height": 194
        },
        "id": "XLt-zMWnjouE",
        "outputId": "55f523c1-e33c-456c-fef5-a20177f904a3"
      },
      "outputs": [
        {
          "output_type": "error",
          "ename": "NameError",
          "evalue": "name 'X_treino' is not defined",
          "traceback": [
            "\u001b[0;31m---------------------------------------------------------------------------\u001b[0m",
            "\u001b[0;31mNameError\u001b[0m                                 Traceback (most recent call last)",
            "\u001b[0;32m<ipython-input-31-462c6020b536>\u001b[0m in \u001b[0;36m<cell line: 2>\u001b[0;34m()\u001b[0m\n\u001b[1;32m      1\u001b[0m \u001b[0;31m#Treino\u001b[0m\u001b[0;34m\u001b[0m\u001b[0;34m\u001b[0m\u001b[0m\n\u001b[0;32m----> 2\u001b[0;31m \u001b[0mdtr\u001b[0m\u001b[0;34m.\u001b[0m\u001b[0mfit\u001b[0m\u001b[0;34m(\u001b[0m\u001b[0mX_treino\u001b[0m\u001b[0;34m,\u001b[0m \u001b[0my_treino\u001b[0m\u001b[0;34m)\u001b[0m\u001b[0;34m\u001b[0m\u001b[0;34m\u001b[0m\u001b[0m\n\u001b[0m",
            "\u001b[0;31mNameError\u001b[0m: name 'X_treino' is not defined"
          ]
        }
      ],
      "source": [
        "#Treino\n",
        "dtr.fit(X_treino, y_treino)"
      ]
    },
    {
      "cell_type": "code",
      "execution_count": 32,
      "metadata": {
        "id": "1RxdWgI1jouE",
        "outputId": "cef195fc-a5f1-4811-81b5-1ab627646775",
        "colab": {
          "base_uri": "https://localhost:8080/",
          "height": 194
        }
      },
      "outputs": [
        {
          "output_type": "error",
          "ename": "NameError",
          "evalue": "name 'X_teste' is not defined",
          "traceback": [
            "\u001b[0;31m---------------------------------------------------------------------------\u001b[0m",
            "\u001b[0;31mNameError\u001b[0m                                 Traceback (most recent call last)",
            "\u001b[0;32m<ipython-input-32-a8675c56c2ba>\u001b[0m in \u001b[0;36m<cell line: 2>\u001b[0;34m()\u001b[0m\n\u001b[1;32m      1\u001b[0m \u001b[0;31m#Teste\u001b[0m\u001b[0;34m\u001b[0m\u001b[0;34m\u001b[0m\u001b[0m\n\u001b[0;32m----> 2\u001b[0;31m \u001b[0mprevisao_dtr\u001b[0m \u001b[0;34m=\u001b[0m \u001b[0mdtr\u001b[0m\u001b[0;34m.\u001b[0m\u001b[0mpredict\u001b[0m\u001b[0;34m(\u001b[0m\u001b[0mX_teste\u001b[0m\u001b[0;34m)\u001b[0m\u001b[0;34m\u001b[0m\u001b[0;34m\u001b[0m\u001b[0m\n\u001b[0m",
            "\u001b[0;31mNameError\u001b[0m: name 'X_teste' is not defined"
          ]
        }
      ],
      "source": [
        "#Teste\n",
        "previsao_dtr = dtr.predict(X_teste)"
      ]
    },
    {
      "cell_type": "code",
      "execution_count": null,
      "metadata": {
        "colab": {
          "base_uri": "https://localhost:8080/"
        },
        "id": "vroBI1MsjouE",
        "outputId": "02bfdce2-2ce3-4cb0-b58a-8c8fe224dd62"
      },
      "outputs": [
        {
          "data": {
            "text/plain": [
              "array([13.55136531, 12.33741035, 13.24458243, ..., 13.23643158,\n",
              "       12.33741035, 14.55274625])"
            ]
          },
          "execution_count": 56,
          "metadata": {},
          "output_type": "execute_result"
        }
      ],
      "source": [
        "#Resultados da previsão\n",
        "previsao_dtr"
      ]
    },
    {
      "cell_type": "markdown",
      "metadata": {
        "id": "BIcevZa6jouE"
      },
      "source": [
        "**Gráfico de erro de predição**: Um gráfico de erros de predição mostra os alvos reais em relação aos valores previstos. Em um modelo perfeito, esses pontos estariam alinhados em 45 grau.\n",
        "\n",
        "\n",
        "Para saber mais sobre outras visualizações:\n",
        "[**Documentação YellowBrick**](https://www.scikit-yb.org/en/latest/)\n",
        "\n"
      ]
    },
    {
      "cell_type": "code",
      "execution_count": null,
      "metadata": {
        "colab": {
          "base_uri": "https://localhost:8080/",
          "height": 695
        },
        "id": "gF9f3ZpBjouE",
        "outputId": "39d867bd-77ec-4f65-a5e7-ccfbf3ecfcc0"
      },
      "outputs": [
        {
          "name": "stderr",
          "output_type": "stream",
          "text": [
            "/usr/local/lib/python3.7/dist-packages/sklearn/base.py:451: UserWarning: X does not have valid feature names, but DecisionTreeRegressor was fitted with feature names\n",
            "  \"X does not have valid feature names, but\"\n"
          ]
        },
        {
          "data": {
            "image/png": "[encoded data removed]",
            "text/plain": [
              "<Figure size 720x720 with 1 Axes>"
            ]
          },
          "metadata": {},
          "output_type": "display_data"
        },
        {
          "data": {
            "text/plain": [
              "<matplotlib.axes._subplots.AxesSubplot at 0x7f1e7c9168d0>"
            ]
          },
          "execution_count": 57,
          "metadata": {},
          "output_type": "execute_result"
        }
      ],
      "source": [
        "from yellowbrick.regressor import PredictionError\n",
        "\n",
        "fig, ax = plt.subplots(figsize=(10, 10))\n",
        "pev = PredictionError(dtr)\n",
        "pev.fit(X_treino, y_treino)\n",
        "pev.score(X_teste, y_teste)\n",
        "pev.poof()"
      ]
    },
    {
      "cell_type": "markdown",
      "metadata": {
        "id": "BnTTNH16jouG"
      },
      "source": [
        "## 3.3 - Métrica"
      ]
    },
    {
      "cell_type": "code",
      "execution_count": null,
      "metadata": {
        "colab": {
          "base_uri": "https://localhost:8080/"
        },
        "id": "zJe46tsBjouG",
        "outputId": "63ba9958-0a23-47ff-aab7-e39008067cc5"
      },
      "outputs": [
        {
          "data": {
            "text/plain": [
              "0.7846916218477392"
            ]
          },
          "execution_count": 58,
          "metadata": {},
          "output_type": "execute_result"
        }
      ],
      "source": [
        "#coeficiente de determinacao\n",
        "r2_dtr = r2_score(y_teste, previsao_dtr)\n",
        "r2_dtr"
      ]
    },
    {
      "cell_type": "markdown",
      "metadata": {
        "id": "O0W2x9lzjouH"
      },
      "source": [
        "# Aula 4 - Random Forest para Regressão\n"
      ]
    },
    {
      "cell_type": "markdown",
      "metadata": {
        "id": "ebk_xGnsjouI"
      },
      "source": [
        "## 4.1 - Modelo Ensemble\n",
        "\n",
        "[slides]\n",
        "\n",
        "[Biblioteca Sklearn - Random Forest Regressor](https://scikit-learn.org/stable/modules/generated/sklearn.ensemble.RandomForestRegressor.html#sklearn.ensemble.RandomForestRegressor)\n",
        "\n",
        "**Dica de leitura**: [Artigo Científico - Random Forests](https://link.springer.com/article/10.1023/A:1010933404324), [Wikipédia: Random Forests](https://en.wikipedia.org/wiki/Random_forest#:~:text=Random%20forests%20or%20random%20decision,class%20selected%20by%20most%20trees.), [Capítulo 4 - Livro Introduction to Statistical and Machine Learning Methods for Data Science](https://www.amazon.com.br/dp/B09C2DVZHR/ref=dp-kindle-redirect?_encoding=UTF8&btkr=1), [Capítulo 7 - Mãos à obra: aprendizado de máquina com Scikit-Learn, Keras & TensorFlow: Conceitos, ferramentas e técnicas para a construção de sistemas inteligentes](https://www.amazon.com.br/M%C3%A3os-obra-aprendizado-Scikit-Learn-inteligentes/dp/8550815489/ref=sr_1_2?keywords=machine+learning&qid=1658181249&sprefix=machine%2Caps%2C469&sr=8-2&ufe=app_do%3Aamzn1.fos.6d798eae-cadf-45de-946a-f477d47705b9)"
      ]
    },
    {
      "cell_type": "markdown",
      "metadata": {
        "id": "ynzSOUsyjouI"
      },
      "source": [
        "## 4.2 - Previsão\n",
        "\n",
        "**Ponto de Atenção**\n",
        "Os parâmetros são praticamente os mesmos entre o `DecisionTreeRegressor()` e o `RandomForestRegressor()`, com exceção de:\n",
        "\n",
        "* `n_estimators`: quantidade de árvores na floresta\n",
        "* `bootstrap`: define se será utilizado o método estatístico de amostragem *bootstrap*\n",
        "* `oob_score`: define se será utilizado o método de amostragem *out-of-bag* para mensurar os erros da predição\n",
        "* `n_jobs`: número de *jobs* rodando paralelamente (computação paralela - processadores)\n",
        "* `warm_start`: faz a adequação de uma nova floresta ou usa uma floresta existente.\n",
        "* `max_samples`: para o caso do `bootstrap` ser `True`, define o número de amostras a serem extraídas de X para treinar cada árvore base."
      ]
    },
    {
      "cell_type": "code",
      "execution_count": null,
      "metadata": {
        "id": "xY-ooO2vjouI"
      },
      "outputs": [],
      "source": [
        "from sklearn.ensemble import RandomForestRegressor"
      ]
    },
    {
      "cell_type": "code",
      "execution_count": null,
      "metadata": {
        "id": "alVdb30djouI"
      },
      "outputs": [],
      "source": [
        "rf = RandomForestRegressor(random_state=42, max_depth=5, n_estimators=10)"
      ]
    },
    {
      "cell_type": "code",
      "execution_count": null,
      "metadata": {
        "colab": {
          "base_uri": "https://localhost:8080/"
        },
        "id": "cyRkmqKOjouI",
        "outputId": "385a936f-a349-471a-824e-8563beb2d619"
      },
      "outputs": [
        {
          "data": {
            "text/plain": [
              "RandomForestRegressor(max_depth=5, n_estimators=10, random_state=42)"
            ]
          },
          "execution_count": 61,
          "metadata": {},
          "output_type": "execute_result"
        }
      ],
      "source": [
        "rf.fit(X_treino, y_treino)"
      ]
    },
    {
      "cell_type": "code",
      "execution_count": null,
      "metadata": {
        "id": "RC_6WvN-jouJ"
      },
      "outputs": [],
      "source": [
        "previsao_rf = rf.predict(X_teste)"
      ]
    },
    {
      "cell_type": "markdown",
      "metadata": {
        "id": "tnbs3ArwpbNt"
      },
      "source": [
        "**Gráfico de erro de predição**"
      ]
    },
    {
      "cell_type": "code",
      "execution_count": null,
      "metadata": {
        "colab": {
          "base_uri": "https://localhost:8080/",
          "height": 695
        },
        "id": "GvDfB8qPjouJ",
        "outputId": "5bd70556-d30e-49e4-e706-18f4e248ba32"
      },
      "outputs": [
        {
          "name": "stderr",
          "output_type": "stream",
          "text": [
            "/usr/local/lib/python3.7/dist-packages/sklearn/base.py:451: UserWarning: X does not have valid feature names, but RandomForestRegressor was fitted with feature names\n",
            "  \"X does not have valid feature names, but\"\n"
          ]
        },
        {
          "data": {
            "image/png": "[encoded data removed]",
            "text/plain": [
              "<Figure size 720x720 with 1 Axes>"
            ]
          },
          "metadata": {},
          "output_type": "display_data"
        },
        {
          "data": {
            "text/plain": [
              "<matplotlib.axes._subplots.AxesSubplot at 0x7f1e7f5dfc90>"
            ]
          },
          "execution_count": 63,
          "metadata": {},
          "output_type": "execute_result"
        }
      ],
      "source": [
        "from yellowbrick.regressor import PredictionError\n",
        "\n",
        "fig, ax = plt.subplots(figsize=(10, 10))\n",
        "pev = PredictionError(rf)\n",
        "pev.fit(X_treino, y_treino)\n",
        "pev.score(X_teste, y_teste)\n",
        "pev.poof()"
      ]
    },
    {
      "cell_type": "markdown",
      "metadata": {
        "id": "PRBM23o8jouK"
      },
      "source": [
        "## 4.3 - Métrica de desempenho"
      ]
    },
    {
      "cell_type": "code",
      "execution_count": null,
      "metadata": {
        "colab": {
          "base_uri": "https://localhost:8080/"
        },
        "id": "lBab9TZXjouK",
        "outputId": "e7220b21-b5b7-4aa4-bd0f-f591dafe5b18"
      },
      "outputs": [
        {
          "data": {
            "text/plain": [
              "0.805273364453047"
            ]
          },
          "execution_count": 64,
          "metadata": {},
          "output_type": "execute_result"
        }
      ],
      "source": [
        "#coeficiente de determinacao\n",
        "r2_rf = r2_score(y_teste, previsao_rf)\n",
        "r2_rf"
      ]
    },
    {
      "cell_type": "markdown",
      "metadata": {
        "id": "xDZsHw5ejouL"
      },
      "source": [
        "# Aula 5 - Técnicas de Otimização\n"
      ]
    },
    {
      "cell_type": "markdown",
      "metadata": {
        "id": "EvYvksREVgSt"
      },
      "source": [
        "## 5.1 - Ferramentas de Otimização\n",
        "\n",
        "* Por que otimizar?\n",
        "\n",
        "* Quais ferramentas temos?\n",
        "\n",
        "[Melhorando os hiperparâmetros - Documentação Sklearn](https://scikit-learn.org/stable/modules/grid_search.html#tuning-the-hyper-parameters-of-an-estimator)"
      ]
    },
    {
      "cell_type": "markdown",
      "metadata": {
        "id": "79q2V6W8Vj6L"
      },
      "source": [
        "### 1. Cross Validation (Validação Cruzada)\n",
        "\n",
        "* [Documentação Cross-validation](https://scikit-learn.org/stable/modules/cross_validation.html)\n",
        "\n",
        "* **Cross Validation** é uma técnica muito utilizada para avaliação de desempenho de modelos e consequente verificação de tendências no aprendizado de máquina. Ele consiste em particionar os dados em subconjuntos (partes), onde um subconjunto é utilizado para treino e outro subconjunto é utilizado para teste e avaliação do desempenho do modelo.\n",
        "\n",
        "* Os dados particionados são os de treino (70% dos dados originais)!\n",
        "\n",
        "* **K-fold**: conjunto de treino é dividido de forma aleatória em K subconjuntos de aproximadamente mesmo tamanho, depois são realizados K iterações, onde K-1 subconjuntos são para treino e 1 para validação.\n",
        "\n",
        "* O desempenho calculado pela validação cruzada k-fold é a média de todos os valores calculados em cada iteração.\n"
      ]
    },
    {
      "cell_type": "markdown",
      "metadata": {
        "id": "VusVKhwNB-vN"
      },
      "source": [
        "### 2. Randomized Parameter Optimization (Otimização Aleatória de Parâmetros)\n",
        "\n",
        "* [Documentação Randomized Search](https://scikit-learn.org/stable/modules/grid_search.html#randomized-parameter-optimization)\n",
        "\n",
        "* [Artigo Científico sobre Random Search](https://www.jmlr.org/papers/volume13/bergstra12a/bergstra12a.pdf)\n",
        "\n",
        "* \"Define um espaço de busca como um domínio limitado de valores de hiperparâmetros e pontos de amostra aleatórios nesse domínio.\"\n",
        "\n",
        "* Imagem no artigo sobre funcionamento desta busca\n",
        "\n"
      ]
    },
    {
      "cell_type": "markdown",
      "metadata": {
        "id": "2exaVIu-jouM"
      },
      "source": [
        "## 5.2 - Otimizando a árvore de decisão"
      ]
    },
    {
      "cell_type": "code",
      "execution_count": null,
      "metadata": {
        "id": "x32KCmxFjouN"
      },
      "outputs": [],
      "source": [
        "#divisão do dataset em 3 pedaços\n",
        "from sklearn.model_selection import KFold\n",
        "\n",
        "#definindo o K - número de subconjuntos\n",
        "cv = KFold(n_splits = 5, shuffle=True)"
      ]
    },
    {
      "cell_type": "markdown",
      "metadata": {
        "id": "S97v2rejjouN"
      },
      "source": [
        "### Cross validation\n"
      ]
    },
    {
      "cell_type": "code",
      "execution_count": null,
      "metadata": {
        "id": "xyvedr_rjouO"
      },
      "outputs": [],
      "source": [
        "from sklearn.model_selection import cross_val_score"
      ]
    },
    {
      "cell_type": "code",
      "execution_count": null,
      "metadata": {
        "colab": {
          "base_uri": "https://localhost:8080/"
        },
        "id": "XHGxwuBljouO",
        "outputId": "b369be31-063f-4e24-d2f0-9da5718d4e28"
      },
      "outputs": [
        {
          "name": "stdout",
          "output_type": "stream",
          "text": [
            "Desempenho médio de r2: 0.783\n"
          ]
        }
      ],
      "source": [
        "desempenho_cross_val_r2 = cross_val_score(estimator = dtr,\n",
        "                                       X = X_treino,\n",
        "                                       y = y_treino,\n",
        "                                       scoring = 'r2',\n",
        "                                       cv = cv)\n",
        "print('Desempenho médio de r2: {}'.format(round(desempenho_cross_val_r2.mean(), 3)))"
      ]
    },
    {
      "cell_type": "markdown",
      "metadata": {
        "id": "vpNOAne8sLHJ"
      },
      "source": [
        "### Random Search Validação"
      ]
    },
    {
      "cell_type": "code",
      "execution_count": null,
      "metadata": {
        "id": "tLfrQ_PZsOWe"
      },
      "outputs": [],
      "source": [
        "#seleção de hiperparâmetros\n",
        "param_random_dt = {\n",
        "    'criterion': ['squared_error', 'absolute_error'],\n",
        "    'max_depth': [6, 8, 10, 12, 14, 16],\n",
        "    'min_samples_leaf': [6, 8, 10],\n",
        "    'min_samples_split': [8, 10, 12, 14, 16],\n",
        "    'max_features': ['sqrt', 'log2', 'auto'],\n",
        "}"
      ]
    },
    {
      "cell_type": "code",
      "execution_count": null,
      "metadata": {
        "id": "g-gTVdSIjouS"
      },
      "outputs": [],
      "source": [
        "from sklearn.model_selection import RandomizedSearchCV"
      ]
    },
    {
      "cell_type": "code",
      "execution_count": null,
      "metadata": {
        "id": "3sd49DOvspuX"
      },
      "outputs": [],
      "source": [
        "random_cv_dt = RandomizedSearchCV(\n",
        "    dtr,\n",
        "    param_random_dt,\n",
        "    n_iter=5,\n",
        "    cv=cv,\n",
        "    scoring='r2',\n",
        "    n_jobs=-1\n",
        ")"
      ]
    },
    {
      "cell_type": "code",
      "execution_count": null,
      "metadata": {
        "id": "SAsB3O3ZsprH"
      },
      "outputs": [],
      "source": [
        "randomcv_dtr = random_cv_dt.fit(X_treino, y_treino)"
      ]
    },
    {
      "cell_type": "code",
      "execution_count": null,
      "metadata": {
        "colab": {
          "base_uri": "https://localhost:8080/",
          "height": 531
        },
        "id": "A8WlSRFRsplf",
        "outputId": "27864927-526a-4731-b9ec-e6029fd09a6f"
      },
      "outputs": [
        {
          "data": {
            "text/html": [
              "\n",
              "  <div id=\"df-8279c287-95bf-4aa7-a164-fce719a1a0ca\">\n",
              "    <div class=\"colab-df-container\">\n",
              "      <div>\n",
              "<style scoped>\n",
              "    .dataframe tbody tr th:only-of-type {\n",
              "        vertical-align: middle;\n",
              "    }\n",
              "\n",
              "    .dataframe tbody tr th {\n",
              "        vertical-align: top;\n",
              "    }\n",
              "\n",
              "    .dataframe thead th {\n",
              "        text-align: right;\n",
              "    }\n",
              "</style>\n",
              "<table border=\"1\" class=\"dataframe\">\n",
              "  <thead>\n",
              "    <tr style=\"text-align: right;\">\n",
              "      <th></th>\n",
              "      <th>mean_fit_time</th>\n",
              "      <th>std_fit_time</th>\n",
              "      <th>mean_score_time</th>\n",
              "      <th>std_score_time</th>\n",
              "      <th>param_min_samples_split</th>\n",
              "      <th>param_min_samples_leaf</th>\n",
              "      <th>param_max_features</th>\n",
              "      <th>param_max_depth</th>\n",
              "      <th>param_criterion</th>\n",
              "      <th>params</th>\n",
              "      <th>split0_test_score</th>\n",
              "      <th>split1_test_score</th>\n",
              "      <th>split2_test_score</th>\n",
              "      <th>split3_test_score</th>\n",
              "      <th>split4_test_score</th>\n",
              "      <th>mean_test_score</th>\n",
              "      <th>std_test_score</th>\n",
              "      <th>rank_test_score</th>\n",
              "    </tr>\n",
              "  </thead>\n",
              "  <tbody>\n",
              "    <tr>\n",
              "      <th>0</th>\n",
              "      <td>0.094513</td>\n",
              "      <td>0.005179</td>\n",
              "      <td>0.007022</td>\n",
              "      <td>0.000463</td>\n",
              "      <td>14</td>\n",
              "      <td>6</td>\n",
              "      <td>sqrt</td>\n",
              "      <td>16</td>\n",
              "      <td>squared_error</td>\n",
              "      <td>{'min_samples_split': 14, 'min_samples_leaf': ...</td>\n",
              "      <td>0.840973</td>\n",
              "      <td>0.838673</td>\n",
              "      <td>0.849104</td>\n",
              "      <td>0.842428</td>\n",
              "      <td>0.843444</td>\n",
              "      <td>0.842925</td>\n",
              "      <td>0.003481</td>\n",
              "      <td>1</td>\n",
              "    </tr>\n",
              "    <tr>\n",
              "      <th>1</th>\n",
              "      <td>22.587389</td>\n",
              "      <td>1.350513</td>\n",
              "      <td>0.005854</td>\n",
              "      <td>0.000666</td>\n",
              "      <td>12</td>\n",
              "      <td>10</td>\n",
              "      <td>log2</td>\n",
              "      <td>8</td>\n",
              "      <td>absolute_error</td>\n",
              "      <td>{'min_samples_split': 12, 'min_samples_leaf': ...</td>\n",
              "      <td>0.776418</td>\n",
              "      <td>0.776851</td>\n",
              "      <td>0.797843</td>\n",
              "      <td>0.780248</td>\n",
              "      <td>0.787591</td>\n",
              "      <td>0.783790</td>\n",
              "      <td>0.008087</td>\n",
              "      <td>4</td>\n",
              "    </tr>\n",
              "    <tr>\n",
              "      <th>2</th>\n",
              "      <td>21.796395</td>\n",
              "      <td>0.607924</td>\n",
              "      <td>0.005570</td>\n",
              "      <td>0.000237</td>\n",
              "      <td>8</td>\n",
              "      <td>8</td>\n",
              "      <td>sqrt</td>\n",
              "      <td>12</td>\n",
              "      <td>absolute_error</td>\n",
              "      <td>{'min_samples_split': 8, 'min_samples_leaf': 8...</td>\n",
              "      <td>0.833886</td>\n",
              "      <td>0.832309</td>\n",
              "      <td>0.835507</td>\n",
              "      <td>0.827253</td>\n",
              "      <td>0.837279</td>\n",
              "      <td>0.833247</td>\n",
              "      <td>0.003423</td>\n",
              "      <td>2</td>\n",
              "    </tr>\n",
              "    <tr>\n",
              "      <th>3</th>\n",
              "      <td>0.046058</td>\n",
              "      <td>0.001702</td>\n",
              "      <td>0.004620</td>\n",
              "      <td>0.000157</td>\n",
              "      <td>14</td>\n",
              "      <td>6</td>\n",
              "      <td>sqrt</td>\n",
              "      <td>6</td>\n",
              "      <td>squared_error</td>\n",
              "      <td>{'min_samples_split': 14, 'min_samples_leaf': ...</td>\n",
              "      <td>0.713944</td>\n",
              "      <td>0.728081</td>\n",
              "      <td>0.719526</td>\n",
              "      <td>0.717140</td>\n",
              "      <td>0.732417</td>\n",
              "      <td>0.722221</td>\n",
              "      <td>0.006926</td>\n",
              "      <td>5</td>\n",
              "    </tr>\n",
              "    <tr>\n",
              "      <th>4</th>\n",
              "      <td>0.140753</td>\n",
              "      <td>0.007634</td>\n",
              "      <td>0.005566</td>\n",
              "      <td>0.000554</td>\n",
              "      <td>10</td>\n",
              "      <td>10</td>\n",
              "      <td>auto</td>\n",
              "      <td>6</td>\n",
              "      <td>squared_error</td>\n",
              "      <td>{'min_samples_split': 10, 'min_samples_leaf': ...</td>\n",
              "      <td>0.810443</td>\n",
              "      <td>0.805586</td>\n",
              "      <td>0.808451</td>\n",
              "      <td>0.803685</td>\n",
              "      <td>0.804034</td>\n",
              "      <td>0.806440</td>\n",
              "      <td>0.002614</td>\n",
              "      <td>3</td>\n",
              "    </tr>\n",
              "  </tbody>\n",
              "</table>\n",
              "</div>\n",
              "      <button class=\"colab-df-convert\" onclick=\"convertToInteractive('df-8279c287-95bf-4aa7-a164-fce719a1a0ca')\"\n",
              "              title=\"Convert this dataframe to an interactive table.\"\n",
              "              style=\"display:none;\">\n",
              "        \n",
              "  <svg xmlns=\"http://www.w3.org/2000/svg\" height=\"24px\"viewBox=\"0 0 24 24\"\n",
              "       width=\"24px\">\n",
              "    <path d=\"M0 0h24v24H0V0z\" fill=\"none\"/>\n",
              "    <path d=\"M18.56 5.44l.94 2.06.94-2.06 2.06-.94-2.06-.94-.94-2.06-.94 2.06-2.06.94zm-11 1L8.5 8.5l.94-2.06 2.06-.94-2.06-.94L8.5 2.5l-.94 2.06-2.06.94zm10 10l.94 2.06.94-2.06 2.06-.94-2.06-.94-.94-2.06-.94 2.06-2.06.94z\"/><path d=\"M17.41 7.96l-1.37-1.37c-.4-.4-.92-.59-1.43-.59-.52 0-1.04.2-1.43.59L10.3 9.45l-7.72 7.72c-.78.78-.78 2.05 0 2.83L4 21.41c.39.39.9.59 1.41.59.51 0 1.02-.2 1.41-.59l7.78-7.78 2.81-2.81c.8-.78.8-2.07 0-2.86zM5.41 20L4 18.59l7.72-7.72 1.47 1.35L5.41 20z\"/>\n",
              "  </svg>\n",
              "      </button>\n",
              "      \n",
              "  <style>\n",
              "    .colab-df-container {\n",
              "      display:flex;\n",
              "      flex-wrap:wrap;\n",
              "      gap: 12px;\n",
              "    }\n",
              "\n",
              "    .colab-df-convert {\n",
              "      background-color: #E8F0FE;\n",
              "      border: none;\n",
              "      border-radius: 50%;\n",
              "      cursor: pointer;\n",
              "      display: none;\n",
              "      fill: #1967D2;\n",
              "      height: 32px;\n",
              "      padding: 0 0 0 0;\n",
              "      width: 32px;\n",
              "    }\n",
              "\n",
              "    .colab-df-convert:hover {\n",
              "      background-color: #E2EBFA;\n",
              "      box-shadow: 0px 1px 2px rgba(60, 64, 67, 0.3), 0px 1px 3px 1px rgba(60, 64, 67, 0.15);\n",
              "      fill: #174EA6;\n",
              "    }\n",
              "\n",
              "    [theme=dark] .colab-df-convert {\n",
              "      background-color: #3B4455;\n",
              "      fill: #D2E3FC;\n",
              "    }\n",
              "\n",
              "    [theme=dark] .colab-df-convert:hover {\n",
              "      background-color: #434B5C;\n",
              "      box-shadow: 0px 1px 3px 1px rgba(0, 0, 0, 0.15);\n",
              "      filter: drop-shadow(0px 1px 2px rgba(0, 0, 0, 0.3));\n",
              "      fill: #FFFFFF;\n",
              "    }\n",
              "  </style>\n",
              "\n",
              "      <script>\n",
              "        const buttonEl =\n",
              "          document.querySelector('#df-8279c287-95bf-4aa7-a164-fce719a1a0ca button.colab-df-convert');\n",
              "        buttonEl.style.display =\n",
              "          google.colab.kernel.accessAllowed ? 'block' : 'none';\n",
              "\n",
              "        async function convertToInteractive(key) {\n",
              "          const element = document.querySelector('#df-8279c287-95bf-4aa7-a164-fce719a1a0ca');\n",
              "          const dataTable =\n",
              "            await google.colab.kernel.invokeFunction('convertToInteractive',\n",
              "                                                     [key], {});\n",
              "          if (!dataTable) return;\n",
              "\n",
              "          const docLinkHtml = 'Like what you see? Visit the ' +\n",
              "            '<a target=\"_blank\" href=https://colab.research.google.com/notebooks/data_table.ipynb>data table notebook</a>'\n",
              "            + ' to learn more about interactive tables.';\n",
              "          element.innerHTML = '';\n",
              "          dataTable['output_type'] = 'display_data';\n",
              "          await google.colab.output.renderOutput(dataTable, element);\n",
              "          const docLink = document.createElement('div');\n",
              "          docLink.innerHTML = docLinkHtml;\n",
              "          element.appendChild(docLink);\n",
              "        }\n",
              "      </script>\n",
              "    </div>\n",
              "  </div>\n",
              "  "
            ],
            "text/plain": [
              "   mean_fit_time  std_fit_time  mean_score_time  std_score_time  \\\n",
              "0       0.094513      0.005179         0.007022        0.000463   \n",
              "1      22.587389      1.350513         0.005854        0.000666   \n",
              "2      21.796395      0.607924         0.005570        0.000237   \n",
              "3       0.046058      0.001702         0.004620        0.000157   \n",
              "4       0.140753      0.007634         0.005566        0.000554   \n",
              "\n",
              "  param_min_samples_split param_min_samples_leaf param_max_features  \\\n",
              "0                      14                      6               sqrt   \n",
              "1                      12                     10               log2   \n",
              "2                       8                      8               sqrt   \n",
              "3                      14                      6               sqrt   \n",
              "4                      10                     10               auto   \n",
              "\n",
              "  param_max_depth param_criterion  \\\n",
              "0              16   squared_error   \n",
              "1               8  absolute_error   \n",
              "2              12  absolute_error   \n",
              "3               6   squared_error   \n",
              "4               6   squared_error   \n",
              "\n",
              "                                              params  split0_test_score  \\\n",
              "0  {'min_samples_split': 14, 'min_samples_leaf': ...           0.840973   \n",
              "1  {'min_samples_split': 12, 'min_samples_leaf': ...           0.776418   \n",
              "2  {'min_samples_split': 8, 'min_samples_leaf': 8...           0.833886   \n",
              "3  {'min_samples_split': 14, 'min_samples_leaf': ...           0.713944   \n",
              "4  {'min_samples_split': 10, 'min_samples_leaf': ...           0.810443   \n",
              "\n",
              "   split1_test_score  split2_test_score  split3_test_score  split4_test_score  \\\n",
              "0           0.838673           0.849104           0.842428           0.843444   \n",
              "1           0.776851           0.797843           0.780248           0.787591   \n",
              "2           0.832309           0.835507           0.827253           0.837279   \n",
              "3           0.728081           0.719526           0.717140           0.732417   \n",
              "4           0.805586           0.808451           0.803685           0.804034   \n",
              "\n",
              "   mean_test_score  std_test_score  rank_test_score  \n",
              "0         0.842925        0.003481                1  \n",
              "1         0.783790        0.008087                4  \n",
              "2         0.833247        0.003423                2  \n",
              "3         0.722221        0.006926                5  \n",
              "4         0.806440        0.002614                3  "
            ]
          },
          "execution_count": 72,
          "metadata": {},
          "output_type": "execute_result"
        }
      ],
      "source": [
        "pd.DataFrame(randomcv_dtr.cv_results_)"
      ]
    },
    {
      "cell_type": "code",
      "execution_count": null,
      "metadata": {
        "colab": {
          "base_uri": "https://localhost:8080/"
        },
        "id": "5VVGXurFspeP",
        "outputId": "b07297cf-afba-4283-8148-d1831455c13c"
      },
      "outputs": [
        {
          "data": {
            "text/plain": [
              "{'criterion': 'squared_error',\n",
              " 'max_depth': 16,\n",
              " 'max_features': 'sqrt',\n",
              " 'min_samples_leaf': 6,\n",
              " 'min_samples_split': 14}"
            ]
          },
          "execution_count": 73,
          "metadata": {},
          "output_type": "execute_result"
        }
      ],
      "source": [
        "#a melhor combinação\n",
        "randomcv_dtr.best_params_"
      ]
    },
    {
      "cell_type": "code",
      "execution_count": null,
      "metadata": {
        "colab": {
          "base_uri": "https://localhost:8080/"
        },
        "id": "7fQWBaUCShvT",
        "outputId": "eac02c69-dea7-4e48-d5ae-a5d39179a6de"
      },
      "outputs": [
        {
          "data": {
            "text/plain": [
              "0.8429246146547298"
            ]
          },
          "execution_count": 74,
          "metadata": {},
          "output_type": "execute_result"
        }
      ],
      "source": [
        "#o melhor score\n",
        "randomcv_dtr.best_score_"
      ]
    },
    {
      "cell_type": "markdown",
      "metadata": {
        "id": "xkYN3TL1uroW"
      },
      "source": [
        "### Random Search Teste"
      ]
    },
    {
      "cell_type": "code",
      "execution_count": null,
      "metadata": {
        "id": "6R1hmWxrrGrk"
      },
      "outputs": [],
      "source": [
        "dtr_otimizado = DecisionTreeRegressor(criterion='squared_error' , max_depth=14, max_features='auto' ,\n",
        "                            min_samples_leaf= 10, min_samples_split =12 )"
      ]
    },
    {
      "cell_type": "code",
      "execution_count": null,
      "metadata": {
        "colab": {
          "base_uri": "https://localhost:8080/"
        },
        "id": "2ktdY09ku59f",
        "outputId": "9573e535-513d-4f95-e642-9cc2501625e2"
      },
      "outputs": [
        {
          "data": {
            "text/plain": [
              "DecisionTreeRegressor(max_depth=14, max_features='auto', min_samples_leaf=10,\n",
              "                      min_samples_split=12)"
            ]
          },
          "execution_count": 76,
          "metadata": {},
          "output_type": "execute_result"
        }
      ],
      "source": [
        "dtr_otimizado.fit(X_treino, y_treino)"
      ]
    },
    {
      "cell_type": "code",
      "execution_count": null,
      "metadata": {
        "id": "GOufXDUbu5nt"
      },
      "outputs": [],
      "source": [
        "predicao_dtr_otimizado = dtr_otimizado.predict(X_teste)"
      ]
    },
    {
      "cell_type": "code",
      "execution_count": null,
      "metadata": {
        "colab": {
          "base_uri": "https://localhost:8080/"
        },
        "id": "K7PSaf7ExDp3",
        "outputId": "ed3c37f0-cebd-4033-d992-fb23f497ee40"
      },
      "outputs": [
        {
          "data": {
            "text/plain": [
              "0.8658761355880026"
            ]
          },
          "execution_count": 78,
          "metadata": {},
          "output_type": "execute_result"
        }
      ],
      "source": [
        "r2_score(y_teste, predicao_dtr_otimizado)"
      ]
    },
    {
      "cell_type": "markdown",
      "metadata": {
        "id": "Htr1DwBpjouT"
      },
      "source": [
        "## 5.3 - Otimizando a Random Forest"
      ]
    },
    {
      "cell_type": "markdown",
      "metadata": {
        "id": "YYSxT8eeI5gG"
      },
      "source": [
        "### Cross validation"
      ]
    },
    {
      "cell_type": "code",
      "execution_count": null,
      "metadata": {
        "colab": {
          "base_uri": "https://localhost:8080/"
        },
        "id": "QHS_luJlwcKv",
        "outputId": "b87e0f0c-7654-4e2f-c6ef-94244f8ef763"
      },
      "outputs": [
        {
          "name": "stdout",
          "output_type": "stream",
          "text": [
            "Desempenho médio de r2: 0.798\n"
          ]
        }
      ],
      "source": [
        "desempenhoRF_cross_val_r2 = cross_val_score(estimator = rf,\n",
        "                                       X = X_treino,\n",
        "                                       y = y_treino,\n",
        "                                       scoring = 'r2',\n",
        "                                       cv = cv)\n",
        "print('Desempenho médio de r2: {}'.format(round(desempenhoRF_cross_val_r2.mean(), 3)))"
      ]
    },
    {
      "cell_type": "markdown",
      "metadata": {
        "id": "q_-1reiFjouS"
      },
      "source": [
        "### Random Search Validação"
      ]
    },
    {
      "cell_type": "markdown",
      "metadata": {
        "id": "XrAMRFeHDmE_"
      },
      "source": [
        "Definindo os parâmetros"
      ]
    },
    {
      "cell_type": "code",
      "execution_count": null,
      "metadata": {
        "id": "29hdUVdGjouS"
      },
      "outputs": [],
      "source": [
        "param_random_rf = {\n",
        "    'n_estimators': [150, 200],\n",
        "    'max_depth': [20, 30],\n",
        "    'min_samples_split': [8, 10],\n",
        "    'min_samples_leaf': [3],\n",
        "}"
      ]
    },
    {
      "cell_type": "code",
      "execution_count": null,
      "metadata": {
        "id": "S9aUbEGdHqiB"
      },
      "outputs": [],
      "source": [
        "random_cv_rf = RandomizedSearchCV(\n",
        "    rf,\n",
        "    param_random_rf,\n",
        "    n_iter=5,\n",
        "    cv=cv,\n",
        "    scoring='r2',\n",
        "    n_jobs=-1,\n",
        "    random_state = 42\n",
        ")"
      ]
    },
    {
      "cell_type": "code",
      "execution_count": null,
      "metadata": {
        "id": "N3x19a9gIRZL"
      },
      "outputs": [],
      "source": [
        "rf_randomcv = random_cv_rf.fit(X_treino, y_treino)"
      ]
    },
    {
      "cell_type": "code",
      "execution_count": null,
      "metadata": {
        "id": "JUpfBTwf_ewj"
      },
      "outputs": [],
      "source": [
        "pd.DataFrame(rf_randomcv.cv_results_)"
      ]
    },
    {
      "cell_type": "code",
      "execution_count": null,
      "metadata": {
        "id": "sBU95_e1_mpG"
      },
      "outputs": [],
      "source": [
        "rf_randomcv.best_params_"
      ]
    },
    {
      "cell_type": "code",
      "execution_count": null,
      "metadata": {
        "id": "EpP5ACgwSnJZ"
      },
      "outputs": [],
      "source": [
        "rf_randomcv.best_score_"
      ]
    },
    {
      "cell_type": "markdown",
      "metadata": {
        "id": "EH7C1OJP_fbS"
      },
      "source": [
        "### Random Search Teste"
      ]
    },
    {
      "cell_type": "code",
      "execution_count": null,
      "metadata": {
        "id": "eHGZNQ2U_ekj"
      },
      "outputs": [],
      "source": [
        "rf_otimizado2 = RandomForestRegressor(random_state=42, max_depth=30, n_estimators=200,\n",
        "                                      min_samples_leaf=3, min_samples_split=8)"
      ]
    },
    {
      "cell_type": "code",
      "execution_count": null,
      "metadata": {
        "id": "ticE8awP_ebj"
      },
      "outputs": [],
      "source": [
        "rf_otimizado2.fit(X_treino, y_treino)"
      ]
    },
    {
      "cell_type": "code",
      "execution_count": null,
      "metadata": {
        "id": "V7to3kisDXXP"
      },
      "outputs": [],
      "source": [
        "predicao_rf_otimizado2 = rf_otimizado2.predict(X_teste)"
      ]
    },
    {
      "cell_type": "code",
      "execution_count": null,
      "metadata": {
        "id": "m-t4cme-Dcw0"
      },
      "outputs": [],
      "source": [
        "r2_score(y_teste, predicao_rf_otimizado2)"
      ]
    },
    {
      "cell_type": "markdown",
      "metadata": {
        "id": "f__nZQq1jouT"
      },
      "source": [
        "## 5.4 - Escolhendo o melhor modelo"
      ]
    },
    {
      "cell_type": "code",
      "execution_count": null,
      "metadata": {
        "id": "w1kvgoydp5Rw"
      },
      "outputs": [],
      "source": [
        "#tabela de resultados\n",
        "print('Random Search')\n",
        "print(\"=\"*30)\n",
        "print(\"Árvore de Decisão: %f\" % r2_score(y_teste, predicao_dtr_otimizado))\n",
        "print(\"Floresta Aleatória: %f\" % r2_score(y_teste, predicao_rf_otimizado2))\n",
        "print(\"*\"*30)\n",
        "\n",
        "print(\"Cross Validation\")\n",
        "print(\"=\"*30)\n",
        "print(\"Árvore de Decisão: %f\" % round(desempenho_cross_val_r2.mean(), 3))\n",
        "print(\"Floresta Aleatória: %f\" % round(desempenhoRF_cross_val_r2.mean(), 3))"
      ]
    },
    {
      "cell_type": "code",
      "execution_count": null,
      "metadata": {
        "id": "g92hzy7OnVPL"
      },
      "outputs": [],
      "source": [
        "#Testando o melhor modelo\n",
        "cliente_joana = pd.DataFrame({'tax_iptu':[4.6], 'tax_condo':[5.45], 'bedrooms':[2],\t'bathrooms':[1], 'suites':[1], 'parkingSpaces':[1],\t'usableAreas':[4],\t'totalAreas':[4.68],\t'floors':[0],\t'unitsOnTheFloor':[0],\t'unitFloor':[0],\t'unit_Apartamento':[0],\t'unit_Casa':[1],\t'unit_Outros':[0],\t'zone_Zona Central':[0],\t'zone_Zona Norte':[0],\t'zone_Zona Oeste':[1],\t'zone_Zona Sul':[0]})\n",
        "cliente_joana"
      ]
    },
    {
      "cell_type": "code",
      "execution_count": null,
      "metadata": {
        "id": "jtrulIP4o8Au"
      },
      "outputs": [],
      "source": [
        "#Verificando resultados\n",
        "predicao_cliente_joana = rf_otimizado2.predict(cliente_joana)\n",
        "np.expm1(predicao_cliente_joana)"
      ]
    },
    {
      "cell_type": "markdown",
      "metadata": {
        "id": "Ns61k2D1-EHf"
      },
      "source": [
        "## PARABÉNS! E ATÉ A PRÓXIMA!"
      ]
    }
  ],
  "metadata": {
    "colab": {
      "name": "Projeto_Regressao.ipynb",
      "provenance": [],
      "include_colab_link": true
    },
    "interpreter": {
      "hash": "c500cbb8e7d8b21f988729da27216438994fcf251b21651d2da847db7705ee99"
    },
    "kernelspec": {
      "display_name": "Python 3.8.13 ('machine_learning')",
      "language": "python",
      "name": "python3"
    },
    "language_info": {
      "codemirror_mode": {
        "name": "ipython",
        "version": 3
      },
      "file_extension": ".py",
      "mimetype": "text/x-python",
      "name": "python",
      "nbconvert_exporter": "python",
      "pygments_lexer": "ipython3",
      "version": "3.8.13"
    },
    "orig_nbformat": 4
  },
  "nbformat": 4,
  "nbformat_minor": 0
}